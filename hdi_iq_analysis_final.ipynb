{
 "cells": [
  {
   "cell_type": "markdown",
   "metadata": {},
   "source": [
    "# 1. Importing Packages"
   ]
  },
  {
   "cell_type": "code",
   "execution_count": 3,
   "metadata": {},
   "outputs": [],
   "source": [
    "import pandas as pd\n",
    "import numpy as np \n",
    "import matplotlib.pyplot as plt\n",
    "import seaborn as sns\n",
    "from scipy.stats import skew, kurtosis\n",
    "from scipy import stats\n",
    "import statsmodels.api as sm"
   ]
  },
  {
   "cell_type": "markdown",
   "metadata": {},
   "source": [
    "# 2. DATA CLEANING AND PREPARATION"
   ]
  },
  {
   "cell_type": "markdown",
   "metadata": {},
   "source": [
    "## 2.1 Human Development Index (HDI)"
   ]
  },
  {
   "cell_type": "markdown",
   "metadata": {},
   "source": [
    "### 2.1.1 Data Loading and Exploration"
   ]
  },
  {
   "cell_type": "code",
   "execution_count": 7,
   "metadata": {},
   "outputs": [
    {
     "data": {
      "text/html": [
       "<div>\n",
       "<style scoped>\n",
       "    .dataframe tbody tr th:only-of-type {\n",
       "        vertical-align: middle;\n",
       "    }\n",
       "\n",
       "    .dataframe tbody tr th {\n",
       "        vertical-align: top;\n",
       "    }\n",
       "\n",
       "    .dataframe thead th {\n",
       "        text-align: right;\n",
       "    }\n",
       "</style>\n",
       "<table border=\"1\" class=\"dataframe\">\n",
       "  <thead>\n",
       "    <tr style=\"text-align: right;\">\n",
       "      <th></th>\n",
       "      <th>iso3</th>\n",
       "      <th>country</th>\n",
       "      <th>hdicode</th>\n",
       "      <th>region</th>\n",
       "      <th>hdi_rank_2021</th>\n",
       "      <th>hdi_1990</th>\n",
       "      <th>hdi_1991</th>\n",
       "      <th>hdi_1992</th>\n",
       "      <th>hdi_1993</th>\n",
       "      <th>hdi_1994</th>\n",
       "      <th>...</th>\n",
       "      <th>mf_2012</th>\n",
       "      <th>mf_2013</th>\n",
       "      <th>mf_2014</th>\n",
       "      <th>mf_2015</th>\n",
       "      <th>mf_2016</th>\n",
       "      <th>mf_2017</th>\n",
       "      <th>mf_2018</th>\n",
       "      <th>mf_2019</th>\n",
       "      <th>mf_2020</th>\n",
       "      <th>mf_2021</th>\n",
       "    </tr>\n",
       "  </thead>\n",
       "  <tbody>\n",
       "    <tr>\n",
       "      <th>140</th>\n",
       "      <td>PNG</td>\n",
       "      <td>Papua New Guinea</td>\n",
       "      <td>Medium</td>\n",
       "      <td>EAP</td>\n",
       "      <td>156.0</td>\n",
       "      <td>0.370</td>\n",
       "      <td>0.380</td>\n",
       "      <td>0.391</td>\n",
       "      <td>0.405</td>\n",
       "      <td>0.419</td>\n",
       "      <td>...</td>\n",
       "      <td>5.62</td>\n",
       "      <td>5.19</td>\n",
       "      <td>4.60</td>\n",
       "      <td>3.71</td>\n",
       "      <td>3.83</td>\n",
       "      <td>3.79</td>\n",
       "      <td>5.82</td>\n",
       "      <td>5.23</td>\n",
       "      <td>5.23</td>\n",
       "      <td>5.23</td>\n",
       "    </tr>\n",
       "    <tr>\n",
       "      <th>105</th>\n",
       "      <td>LUX</td>\n",
       "      <td>Luxembourg</td>\n",
       "      <td>Very High</td>\n",
       "      <td>NaN</td>\n",
       "      <td>17.0</td>\n",
       "      <td>0.786</td>\n",
       "      <td>0.796</td>\n",
       "      <td>0.800</td>\n",
       "      <td>0.810</td>\n",
       "      <td>0.819</td>\n",
       "      <td>...</td>\n",
       "      <td>56.46</td>\n",
       "      <td>62.16</td>\n",
       "      <td>57.31</td>\n",
       "      <td>51.55</td>\n",
       "      <td>46.52</td>\n",
       "      <td>46.69</td>\n",
       "      <td>42.21</td>\n",
       "      <td>45.47</td>\n",
       "      <td>45.47</td>\n",
       "      <td>45.47</td>\n",
       "    </tr>\n",
       "    <tr>\n",
       "      <th>15</th>\n",
       "      <td>BGD</td>\n",
       "      <td>Bangladesh</td>\n",
       "      <td>Medium</td>\n",
       "      <td>SA</td>\n",
       "      <td>129.0</td>\n",
       "      <td>0.397</td>\n",
       "      <td>0.394</td>\n",
       "      <td>0.413</td>\n",
       "      <td>0.420</td>\n",
       "      <td>0.427</td>\n",
       "      <td>...</td>\n",
       "      <td>2.88</td>\n",
       "      <td>2.91</td>\n",
       "      <td>2.15</td>\n",
       "      <td>2.54</td>\n",
       "      <td>2.33</td>\n",
       "      <td>2.37</td>\n",
       "      <td>2.84</td>\n",
       "      <td>2.88</td>\n",
       "      <td>2.88</td>\n",
       "      <td>2.88</td>\n",
       "    </tr>\n",
       "  </tbody>\n",
       "</table>\n",
       "<p>3 rows × 1008 columns</p>\n",
       "</div>"
      ],
      "text/plain": [
       "    iso3           country    hdicode region  hdi_rank_2021  hdi_1990  \\\n",
       "140  PNG  Papua New Guinea     Medium    EAP          156.0     0.370   \n",
       "105  LUX        Luxembourg  Very High    NaN           17.0     0.786   \n",
       "15   BGD        Bangladesh     Medium     SA          129.0     0.397   \n",
       "\n",
       "     hdi_1991  hdi_1992  hdi_1993  hdi_1994  ...  mf_2012  mf_2013  mf_2014  \\\n",
       "140     0.380     0.391     0.405     0.419  ...     5.62     5.19     4.60   \n",
       "105     0.796     0.800     0.810     0.819  ...    56.46    62.16    57.31   \n",
       "15      0.394     0.413     0.420     0.427  ...     2.88     2.91     2.15   \n",
       "\n",
       "     mf_2015  mf_2016  mf_2017  mf_2018  mf_2019  mf_2020  mf_2021  \n",
       "140     3.71     3.83     3.79     5.82     5.23     5.23     5.23  \n",
       "105    51.55    46.52    46.69    42.21    45.47    45.47    45.47  \n",
       "15      2.54     2.33     2.37     2.84     2.88     2.88     2.88  \n",
       "\n",
       "[3 rows x 1008 columns]"
      ]
     },
     "execution_count": 7,
     "metadata": {},
     "output_type": "execute_result"
    }
   ],
   "source": [
    "# Loading the HDI data\n",
    "hdi_df = pd.read_csv('data/HDR21-22_Composite_indices_complete_time_series.csv')\n",
    "hdi_df.sample(3)"
   ]
  },
  {
   "cell_type": "code",
   "execution_count": 8,
   "metadata": {},
   "outputs": [
    {
     "name": "stdout",
     "output_type": "stream",
     "text": [
      "['iso3', 'country', 'hdicode', 'region', 'hdi_rank_2021', 'hdi_1990', 'hdi_1991', 'hdi_1992', 'hdi_1993', 'hdi_1994', 'hdi_1995', 'hdi_1996', 'hdi_1997', 'hdi_1998', 'hdi_1999', 'hdi_2000', 'hdi_2001', 'hdi_2002', 'hdi_2003', 'hdi_2004', 'hdi_2005', 'hdi_2006', 'hdi_2007', 'hdi_2008', 'hdi_2009', 'hdi_2010', 'hdi_2011', 'hdi_2012', 'hdi_2013', 'hdi_2014', 'hdi_2015', 'hdi_2016', 'hdi_2017', 'hdi_2018', 'hdi_2019', 'hdi_2020', 'hdi_2021', 'le_1990', 'le_1991', 'le_1992', 'le_1993', 'le_1994', 'le_1995', 'le_1996', 'le_1997', 'le_1998', 'le_1999', 'le_2000', 'le_2001', 'le_2002', 'le_2003', 'le_2004', 'le_2005', 'le_2006', 'le_2007', 'le_2008', 'le_2009', 'le_2010', 'le_2011', 'le_2012', 'le_2013', 'le_2014', 'le_2015', 'le_2016', 'le_2017', 'le_2018', 'le_2019', 'le_2020', 'le_2021', 'eys_1990', 'eys_1991', 'eys_1992', 'eys_1993', 'eys_1994', 'eys_1995', 'eys_1996', 'eys_1997', 'eys_1998', 'eys_1999', 'eys_2000', 'eys_2001', 'eys_2002', 'eys_2003', 'eys_2004', 'eys_2005', 'eys_2006', 'eys_2007', 'eys_2008', 'eys_2009', 'eys_2010', 'eys_2011', 'eys_2012', 'eys_2013', 'eys_2014', 'eys_2015', 'eys_2016', 'eys_2017', 'eys_2018', 'eys_2019', 'eys_2020', 'eys_2021', 'mys_1990', 'mys_1991', 'mys_1992', 'mys_1993', 'mys_1994', 'mys_1995', 'mys_1996', 'mys_1997', 'mys_1998', 'mys_1999', 'mys_2000', 'mys_2001', 'mys_2002', 'mys_2003', 'mys_2004', 'mys_2005', 'mys_2006', 'mys_2007', 'mys_2008', 'mys_2009', 'mys_2010', 'mys_2011', 'mys_2012', 'mys_2013', 'mys_2014', 'mys_2015', 'mys_2016', 'mys_2017', 'mys_2018', 'mys_2019', 'mys_2020', 'mys_2021', 'gnipc_1990', 'gnipc_1991', 'gnipc_1992', 'gnipc_1993', 'gnipc_1994', 'gnipc_1995', 'gnipc_1996', 'gnipc_1997', 'gnipc_1998', 'gnipc_1999', 'gnipc_2000', 'gnipc_2001', 'gnipc_2002', 'gnipc_2003', 'gnipc_2004', 'gnipc_2005', 'gnipc_2006', 'gnipc_2007', 'gnipc_2008', 'gnipc_2009', 'gnipc_2010', 'gnipc_2011', 'gnipc_2012', 'gnipc_2013', 'gnipc_2014', 'gnipc_2015', 'gnipc_2016', 'gnipc_2017', 'gnipc_2018', 'gnipc_2019', 'gnipc_2020', 'gnipc_2021', 'gdi_group_2021', 'gdi_1990', 'gdi_1991', 'gdi_1992', 'gdi_1993', 'gdi_1994', 'gdi_1995', 'gdi_1996', 'gdi_1997', 'gdi_1998', 'gdi_1999', 'gdi_2000', 'gdi_2001', 'gdi_2002', 'gdi_2003', 'gdi_2004', 'gdi_2005', 'gdi_2006', 'gdi_2007', 'gdi_2008', 'gdi_2009', 'gdi_2010', 'gdi_2011', 'gdi_2012', 'gdi_2013', 'gdi_2014', 'gdi_2015', 'gdi_2016', 'gdi_2017', 'gdi_2018', 'gdi_2019', 'gdi_2020', 'gdi_2021', 'hdi_f_1990', 'hdi_f_1991', 'hdi_f_1992', 'hdi_f_1993', 'hdi_f_1994', 'hdi_f_1995', 'hdi_f_1996', 'hdi_f_1997', 'hdi_f_1998', 'hdi_f_1999', 'hdi_f_2000', 'hdi_f_2001', 'hdi_f_2002', 'hdi_f_2003', 'hdi_f_2004', 'hdi_f_2005', 'hdi_f_2006', 'hdi_f_2007', 'hdi_f_2008', 'hdi_f_2009', 'hdi_f_2010', 'hdi_f_2011', 'hdi_f_2012', 'hdi_f_2013', 'hdi_f_2014', 'hdi_f_2015', 'hdi_f_2016', 'hdi_f_2017', 'hdi_f_2018', 'hdi_f_2019', 'hdi_f_2020', 'hdi_f_2021', 'le_f_1990', 'le_f_1991', 'le_f_1992', 'le_f_1993', 'le_f_1994', 'le_f_1995', 'le_f_1996', 'le_f_1997', 'le_f_1998', 'le_f_1999', 'le_f_2000', 'le_f_2001', 'le_f_2002', 'le_f_2003', 'le_f_2004', 'le_f_2005', 'le_f_2006', 'le_f_2007', 'le_f_2008', 'le_f_2009', 'le_f_2010', 'le_f_2011', 'le_f_2012', 'le_f_2013', 'le_f_2014', 'le_f_2015', 'le_f_2016', 'le_f_2017', 'le_f_2018', 'le_f_2019', 'le_f_2020', 'le_f_2021', 'eys_f_1990', 'eys_f_1991', 'eys_f_1992', 'eys_f_1993', 'eys_f_1994', 'eys_f_1995', 'eys_f_1996', 'eys_f_1997', 'eys_f_1998', 'eys_f_1999', 'eys_f_2000', 'eys_f_2001', 'eys_f_2002', 'eys_f_2003', 'eys_f_2004', 'eys_f_2005', 'eys_f_2006', 'eys_f_2007', 'eys_f_2008', 'eys_f_2009', 'eys_f_2010', 'eys_f_2011', 'eys_f_2012', 'eys_f_2013', 'eys_f_2014', 'eys_f_2015', 'eys_f_2016', 'eys_f_2017', 'eys_f_2018', 'eys_f_2019', 'eys_f_2020', 'eys_f_2021', 'mys_f_1990', 'mys_f_1991', 'mys_f_1992', 'mys_f_1993', 'mys_f_1994', 'mys_f_1995', 'mys_f_1996', 'mys_f_1997', 'mys_f_1998', 'mys_f_1999', 'mys_f_2000', 'mys_f_2001', 'mys_f_2002', 'mys_f_2003', 'mys_f_2004', 'mys_f_2005', 'mys_f_2006', 'mys_f_2007', 'mys_f_2008', 'mys_f_2009', 'mys_f_2010', 'mys_f_2011', 'mys_f_2012', 'mys_f_2013', 'mys_f_2014', 'mys_f_2015', 'mys_f_2016', 'mys_f_2017', 'mys_f_2018', 'mys_f_2019', 'mys_f_2020', 'mys_f_2021', 'gni_pc_f_1990', 'gni_pc_f_1991', 'gni_pc_f_1992', 'gni_pc_f_1993', 'gni_pc_f_1994', 'gni_pc_f_1995', 'gni_pc_f_1996', 'gni_pc_f_1997', 'gni_pc_f_1998', 'gni_pc_f_1999', 'gni_pc_f_2000', 'gni_pc_f_2001', 'gni_pc_f_2002', 'gni_pc_f_2003', 'gni_pc_f_2004', 'gni_pc_f_2005', 'gni_pc_f_2006', 'gni_pc_f_2007', 'gni_pc_f_2008', 'gni_pc_f_2009', 'gni_pc_f_2010', 'gni_pc_f_2011', 'gni_pc_f_2012', 'gni_pc_f_2013', 'gni_pc_f_2014', 'gni_pc_f_2015', 'gni_pc_f_2016', 'gni_pc_f_2017', 'gni_pc_f_2018', 'gni_pc_f_2019', 'gni_pc_f_2020', 'gni_pc_f_2021', 'hdi_m_1990', 'hdi_m_1991', 'hdi_m_1992', 'hdi_m_1993', 'hdi_m_1994', 'hdi_m_1995', 'hdi_m_1996', 'hdi_m_1997', 'hdi_m_1998', 'hdi_m_1999', 'hdi_m_2000', 'hdi_m_2001', 'hdi_m_2002', 'hdi_m_2003', 'hdi_m_2004', 'hdi_m_2005', 'hdi_m_2006', 'hdi_m_2007', 'hdi_m_2008', 'hdi_m_2009', 'hdi_m_2010', 'hdi_m_2011', 'hdi_m_2012', 'hdi_m_2013', 'hdi_m_2014', 'hdi_m_2015', 'hdi_m_2016', 'hdi_m_2017', 'hdi_m_2018', 'hdi_m_2019', 'hdi_m_2020', 'hdi_m_2021', 'le_m_1990', 'le_m_1991', 'le_m_1992', 'le_m_1993', 'le_m_1994', 'le_m_1995', 'le_m_1996', 'le_m_1997', 'le_m_1998', 'le_m_1999', 'le_m_2000', 'le_m_2001', 'le_m_2002', 'le_m_2003', 'le_m_2004', 'le_m_2005', 'le_m_2006', 'le_m_2007', 'le_m_2008', 'le_m_2009', 'le_m_2010', 'le_m_2011', 'le_m_2012', 'le_m_2013', 'le_m_2014', 'le_m_2015', 'le_m_2016', 'le_m_2017', 'le_m_2018', 'le_m_2019', 'le_m_2020', 'le_m_2021', 'eys_m_1990', 'eys_m_1991', 'eys_m_1992', 'eys_m_1993', 'eys_m_1994', 'eys_m_1995', 'eys_m_1996', 'eys_m_1997', 'eys_m_1998', 'eys_m_1999', 'eys_m_2000', 'eys_m_2001', 'eys_m_2002', 'eys_m_2003', 'eys_m_2004', 'eys_m_2005', 'eys_m_2006', 'eys_m_2007', 'eys_m_2008', 'eys_m_2009', 'eys_m_2010', 'eys_m_2011', 'eys_m_2012', 'eys_m_2013', 'eys_m_2014', 'eys_m_2015', 'eys_m_2016', 'eys_m_2017', 'eys_m_2018', 'eys_m_2019', 'eys_m_2020', 'eys_m_2021', 'mys_m_1990', 'mys_m_1991', 'mys_m_1992', 'mys_m_1993', 'mys_m_1994', 'mys_m_1995', 'mys_m_1996', 'mys_m_1997', 'mys_m_1998', 'mys_m_1999', 'mys_m_2000', 'mys_m_2001', 'mys_m_2002', 'mys_m_2003', 'mys_m_2004', 'mys_m_2005', 'mys_m_2006', 'mys_m_2007', 'mys_m_2008', 'mys_m_2009', 'mys_m_2010', 'mys_m_2011', 'mys_m_2012', 'mys_m_2013', 'mys_m_2014', 'mys_m_2015', 'mys_m_2016', 'mys_m_2017', 'mys_m_2018', 'mys_m_2019', 'mys_m_2020', 'mys_m_2021', 'gni_pc_m_1990', 'gni_pc_m_1991', 'gni_pc_m_1992', 'gni_pc_m_1993', 'gni_pc_m_1994', 'gni_pc_m_1995', 'gni_pc_m_1996', 'gni_pc_m_1997', 'gni_pc_m_1998', 'gni_pc_m_1999', 'gni_pc_m_2000', 'gni_pc_m_2001', 'gni_pc_m_2002', 'gni_pc_m_2003', 'gni_pc_m_2004', 'gni_pc_m_2005', 'gni_pc_m_2006', 'gni_pc_m_2007', 'gni_pc_m_2008', 'gni_pc_m_2009', 'gni_pc_m_2010', 'gni_pc_m_2011', 'gni_pc_m_2012', 'gni_pc_m_2013', 'gni_pc_m_2014', 'gni_pc_m_2015', 'gni_pc_m_2016', 'gni_pc_m_2017', 'gni_pc_m_2018', 'gni_pc_m_2019', 'gni_pc_m_2020', 'gni_pc_m_2021', 'ihdi_2010', 'ihdi_2011', 'ihdi_2012', 'ihdi_2013', 'ihdi_2014', 'ihdi_2015', 'ihdi_2016', 'ihdi_2017', 'ihdi_2018', 'ihdi_2019', 'ihdi_2020', 'ihdi_2021', 'coef_ineq_2010', 'coef_ineq_2011', 'coef_ineq_2012', 'coef_ineq_2013', 'coef_ineq_2014', 'coef_ineq_2015', 'coef_ineq_2016', 'coef_ineq_2017', 'coef_ineq_2018', 'coef_ineq_2019', 'coef_ineq_2020', 'coef_ineq_2021', 'loss_2010', 'loss_2011', 'loss_2012', 'loss_2013', 'loss_2014', 'loss_2015', 'loss_2016', 'loss_2017', 'loss_2018', 'loss_2019', 'loss_2020', 'loss_2021', 'ineq_le_2010', 'ineq_le_2011', 'ineq_le_2012', 'ineq_le_2013', 'ineq_le_2014', 'ineq_le_2015', 'ineq_le_2016', 'ineq_le_2017', 'ineq_le_2018', 'ineq_le_2019', 'ineq_le_2020', 'ineq_le_2021', 'ineq_edu_2010', 'ineq_edu_2011', 'ineq_edu_2012', 'ineq_edu_2013', 'ineq_edu_2014', 'ineq_edu_2015', 'ineq_edu_2016', 'ineq_edu_2017', 'ineq_edu_2018', 'ineq_edu_2019', 'ineq_edu_2020', 'ineq_edu_2021', 'ineq_inc_2010', 'ineq_inc_2011', 'ineq_inc_2012', 'ineq_inc_2013', 'ineq_inc_2014', 'ineq_inc_2015', 'ineq_inc_2016', 'ineq_inc_2017', 'ineq_inc_2018', 'ineq_inc_2019', 'ineq_inc_2020', 'ineq_inc_2021', 'gii_rank_2021', 'gii_1990', 'gii_1991', 'gii_1992', 'gii_1993', 'gii_1994', 'gii_1995', 'gii_1996', 'gii_1997', 'gii_1998', 'gii_1999', 'gii_2000', 'gii_2001', 'gii_2002', 'gii_2003', 'gii_2004', 'gii_2005', 'gii_2006', 'gii_2007', 'gii_2008', 'gii_2009', 'gii_2010', 'gii_2011', 'gii_2012', 'gii_2013', 'gii_2014', 'gii_2015', 'gii_2016', 'gii_2017', 'gii_2018', 'gii_2019', 'gii_2020', 'gii_2021', 'mmr_1990', 'mmr_1991', 'mmr_1992', 'mmr_1993', 'mmr_1994', 'mmr_1995', 'mmr_1996', 'mmr_1997', 'mmr_1998', 'mmr_1999', 'mmr_2000', 'mmr_2001', 'mmr_2002', 'mmr_2003', 'mmr_2004', 'mmr_2005', 'mmr_2006', 'mmr_2007', 'mmr_2008', 'mmr_2009', 'mmr_2010', 'mmr_2011', 'mmr_2012', 'mmr_2013', 'mmr_2014', 'mmr_2015', 'mmr_2016', 'mmr_2017', 'mmr_2018', 'mmr_2019', 'mmr_2020', 'mmr_2021', 'abr_1990', 'abr_1991', 'abr_1992', 'abr_1993', 'abr_1994', 'abr_1995', 'abr_1996', 'abr_1997', 'abr_1998', 'abr_1999', 'abr_2000', 'abr_2001', 'abr_2002', 'abr_2003', 'abr_2004', 'abr_2005', 'abr_2006', 'abr_2007', 'abr_2008', 'abr_2009', 'abr_2010', 'abr_2011', 'abr_2012', 'abr_2013', 'abr_2014', 'abr_2015', 'abr_2016', 'abr_2017', 'abr_2018', 'abr_2019', 'abr_2020', 'abr_2021', 'se_f_1990', 'se_f_1991', 'se_f_1992', 'se_f_1993', 'se_f_1994', 'se_f_1995', 'se_f_1996', 'se_f_1997', 'se_f_1998', 'se_f_1999', 'se_f_2000', 'se_f_2001', 'se_f_2002', 'se_f_2003', 'se_f_2004', 'se_f_2005', 'se_f_2006', 'se_f_2007', 'se_f_2008', 'se_f_2009', 'se_f_2010', 'se_f_2011', 'se_f_2012', 'se_f_2013', 'se_f_2014', 'se_f_2015', 'se_f_2016', 'se_f_2017', 'se_f_2018', 'se_f_2019', 'se_f_2020', 'se_f_2021', 'se_m_1990', 'se_m_1991', 'se_m_1992', 'se_m_1993', 'se_m_1994', 'se_m_1995', 'se_m_1996', 'se_m_1997', 'se_m_1998', 'se_m_1999', 'se_m_2000', 'se_m_2001', 'se_m_2002', 'se_m_2003', 'se_m_2004', 'se_m_2005', 'se_m_2006', 'se_m_2007', 'se_m_2008', 'se_m_2009', 'se_m_2010', 'se_m_2011', 'se_m_2012', 'se_m_2013', 'se_m_2014', 'se_m_2015', 'se_m_2016', 'se_m_2017', 'se_m_2018', 'se_m_2019', 'se_m_2020', 'se_m_2021', 'pr_f_1990', 'pr_f_1991', 'pr_f_1992', 'pr_f_1993', 'pr_f_1994', 'pr_f_1995', 'pr_f_1996', 'pr_f_1997', 'pr_f_1998', 'pr_f_1999', 'pr_f_2000', 'pr_f_2001', 'pr_f_2002', 'pr_f_2003', 'pr_f_2004', 'pr_f_2005', 'pr_f_2006', 'pr_f_2007', 'pr_f_2008', 'pr_f_2009', 'pr_f_2010', 'pr_f_2011', 'pr_f_2012', 'pr_f_2013', 'pr_f_2014', 'pr_f_2015', 'pr_f_2016', 'pr_f_2017', 'pr_f_2018', 'pr_f_2019', 'pr_f_2020', 'pr_f_2021', 'pr_m_1990', 'pr_m_1991', 'pr_m_1992', 'pr_m_1993', 'pr_m_1994', 'pr_m_1995', 'pr_m_1996', 'pr_m_1997', 'pr_m_1998', 'pr_m_1999', 'pr_m_2000', 'pr_m_2001', 'pr_m_2002', 'pr_m_2003', 'pr_m_2004', 'pr_m_2005', 'pr_m_2006', 'pr_m_2007', 'pr_m_2008', 'pr_m_2009', 'pr_m_2010', 'pr_m_2011', 'pr_m_2012', 'pr_m_2013', 'pr_m_2014', 'pr_m_2015', 'pr_m_2016', 'pr_m_2017', 'pr_m_2018', 'pr_m_2019', 'pr_m_2020', 'pr_m_2021', 'lfpr_f_1990', 'lfpr_f_1991', 'lfpr_f_1992', 'lfpr_f_1993', 'lfpr_f_1994', 'lfpr_f_1995', 'lfpr_f_1996', 'lfpr_f_1997', 'lfpr_f_1998', 'lfpr_f_1999', 'lfpr_f_2000', 'lfpr_f_2001', 'lfpr_f_2002', 'lfpr_f_2003', 'lfpr_f_2004', 'lfpr_f_2005', 'lfpr_f_2006', 'lfpr_f_2007', 'lfpr_f_2008', 'lfpr_f_2009', 'lfpr_f_2010', 'lfpr_f_2011', 'lfpr_f_2012', 'lfpr_f_2013', 'lfpr_f_2014', 'lfpr_f_2015', 'lfpr_f_2016', 'lfpr_f_2017', 'lfpr_f_2018', 'lfpr_f_2019', 'lfpr_f_2020', 'lfpr_f_2021', 'lfpr_m_1990', 'lfpr_m_1991', 'lfpr_m_1992', 'lfpr_m_1993', 'lfpr_m_1994', 'lfpr_m_1995', 'lfpr_m_1996', 'lfpr_m_1997', 'lfpr_m_1998', 'lfpr_m_1999', 'lfpr_m_2000', 'lfpr_m_2001', 'lfpr_m_2002', 'lfpr_m_2003', 'lfpr_m_2004', 'lfpr_m_2005', 'lfpr_m_2006', 'lfpr_m_2007', 'lfpr_m_2008', 'lfpr_m_2009', 'lfpr_m_2010', 'lfpr_m_2011', 'lfpr_m_2012', 'lfpr_m_2013', 'lfpr_m_2014', 'lfpr_m_2015', 'lfpr_m_2016', 'lfpr_m_2017', 'lfpr_m_2018', 'lfpr_m_2019', 'lfpr_m_2020', 'lfpr_m_2021', 'rankdiff_hdi_phdi_2021', 'phdi_1990', 'phdi_1991', 'phdi_1992', 'phdi_1993', 'phdi_1994', 'phdi_1995', 'phdi_1996', 'phdi_1997', 'phdi_1998', 'phdi_1999', 'phdi_2000', 'phdi_2001', 'phdi_2002', 'phdi_2003', 'phdi_2004', 'phdi_2005', 'phdi_2006', 'phdi_2007', 'phdi_2008', 'phdi_2009', 'phdi_2010', 'phdi_2011', 'phdi_2012', 'phdi_2013', 'phdi_2014', 'phdi_2015', 'phdi_2016', 'phdi_2017', 'phdi_2018', 'phdi_2019', 'phdi_2020', 'phdi_2021', 'diff_hdi_phdi_1990', 'diff_hdi_phdi_1991', 'diff_hdi_phdi_1992', 'diff_hdi_phdi_1993', 'diff_hdi_phdi_1994', 'diff_hdi_phdi_1995', 'diff_hdi_phdi_1996', 'diff_hdi_phdi_1997', 'diff_hdi_phdi_1998', 'diff_hdi_phdi_1999', 'diff_hdi_phdi_2000', 'diff_hdi_phdi_2001', 'diff_hdi_phdi_2002', 'diff_hdi_phdi_2003', 'diff_hdi_phdi_2004', 'diff_hdi_phdi_2005', 'diff_hdi_phdi_2006', 'diff_hdi_phdi_2007', 'diff_hdi_phdi_2008', 'diff_hdi_phdi_2009', 'diff_hdi_phdi_2010', 'diff_hdi_phdi_2011', 'diff_hdi_phdi_2012', 'diff_hdi_phdi_2013', 'diff_hdi_phdi_2014', 'diff_hdi_phdi_2015', 'diff_hdi_phdi_2016', 'diff_hdi_phdi_2017', 'diff_hdi_phdi_2018', 'diff_hdi_phdi_2019', 'diff_hdi_phdi_2020', 'diff_hdi_phdi_2021', 'co2_prod_1990', 'co2_prod_1991', 'co2_prod_1992', 'co2_prod_1993', 'co2_prod_1994', 'co2_prod_1995', 'co2_prod_1996', 'co2_prod_1997', 'co2_prod_1998', 'co2_prod_1999', 'co2_prod_2000', 'co2_prod_2001', 'co2_prod_2002', 'co2_prod_2003', 'co2_prod_2004', 'co2_prod_2005', 'co2_prod_2006', 'co2_prod_2007', 'co2_prod_2008', 'co2_prod_2009', 'co2_prod_2010', 'co2_prod_2011', 'co2_prod_2012', 'co2_prod_2013', 'co2_prod_2014', 'co2_prod_2015', 'co2_prod_2016', 'co2_prod_2017', 'co2_prod_2018', 'co2_prod_2019', 'co2_prod_2020', 'co2_prod_2021', 'mf_1990', 'mf_1991', 'mf_1992', 'mf_1993', 'mf_1994', 'mf_1995', 'mf_1996', 'mf_1997', 'mf_1998', 'mf_1999', 'mf_2000', 'mf_2001', 'mf_2002', 'mf_2003', 'mf_2004', 'mf_2005', 'mf_2006', 'mf_2007', 'mf_2008', 'mf_2009', 'mf_2010', 'mf_2011', 'mf_2012', 'mf_2013', 'mf_2014', 'mf_2015', 'mf_2016', 'mf_2017', 'mf_2018', 'mf_2019', 'mf_2020', 'mf_2021'], "
     ]
    }
   ],
   "source": [
    "# Exploring the columns\n",
    "print(hdi_df.columns.tolist(), end=\", \")"
   ]
  },
  {
   "cell_type": "code",
   "execution_count": 9,
   "metadata": {},
   "outputs": [
    {
     "data": {
      "text/html": [
       "<div>\n",
       "<style scoped>\n",
       "    .dataframe tbody tr th:only-of-type {\n",
       "        vertical-align: middle;\n",
       "    }\n",
       "\n",
       "    .dataframe tbody tr th {\n",
       "        vertical-align: top;\n",
       "    }\n",
       "\n",
       "    .dataframe thead th {\n",
       "        text-align: right;\n",
       "    }\n",
       "</style>\n",
       "<table border=\"1\" class=\"dataframe\">\n",
       "  <thead>\n",
       "    <tr style=\"text-align: right;\">\n",
       "      <th></th>\n",
       "      <th>country</th>\n",
       "      <th>hdicode</th>\n",
       "      <th>hdi_2021</th>\n",
       "      <th>region</th>\n",
       "    </tr>\n",
       "  </thead>\n",
       "  <tbody>\n",
       "    <tr>\n",
       "      <th>0</th>\n",
       "      <td>Afghanistan</td>\n",
       "      <td>Low</td>\n",
       "      <td>0.478</td>\n",
       "      <td>SA</td>\n",
       "    </tr>\n",
       "    <tr>\n",
       "      <th>1</th>\n",
       "      <td>Angola</td>\n",
       "      <td>Medium</td>\n",
       "      <td>0.586</td>\n",
       "      <td>SSA</td>\n",
       "    </tr>\n",
       "    <tr>\n",
       "      <th>2</th>\n",
       "      <td>Albania</td>\n",
       "      <td>High</td>\n",
       "      <td>0.796</td>\n",
       "      <td>ECA</td>\n",
       "    </tr>\n",
       "    <tr>\n",
       "      <th>3</th>\n",
       "      <td>Andorra</td>\n",
       "      <td>Very High</td>\n",
       "      <td>0.858</td>\n",
       "      <td>NaN</td>\n",
       "    </tr>\n",
       "    <tr>\n",
       "      <th>4</th>\n",
       "      <td>United Arab Emirates</td>\n",
       "      <td>Very High</td>\n",
       "      <td>0.911</td>\n",
       "      <td>AS</td>\n",
       "    </tr>\n",
       "  </tbody>\n",
       "</table>\n",
       "</div>"
      ],
      "text/plain": [
       "                country    hdicode  hdi_2021 region\n",
       "0           Afghanistan        Low     0.478     SA\n",
       "1                Angola     Medium     0.586    SSA\n",
       "2               Albania       High     0.796    ECA\n",
       "3               Andorra  Very High     0.858    NaN\n",
       "4  United Arab Emirates  Very High     0.911     AS"
      ]
     },
     "execution_count": 9,
     "metadata": {},
     "output_type": "execute_result"
    }
   ],
   "source": [
    "# Selecting the columns of interest\n",
    "hdi_df = hdi_df[['country', 'hdicode', 'hdi_2021', 'region']]\n",
    "hdi_df.head()"
   ]
  },
  {
   "cell_type": "code",
   "execution_count": 10,
   "metadata": {},
   "outputs": [],
   "source": [
    "# Renaming the columns so that they are easier to understand \n",
    "hdi_df.rename(columns={'hdi_2021': 'HDI',\n",
    "                       'country': 'Country',\n",
    "                       'hdicode': 'HDI Group',\n",
    "                       'region': 'Region'}, inplace=True)    "
   ]
  },
  {
   "cell_type": "markdown",
   "metadata": {},
   "source": [
    "### 2.1.2 Data Cleaning"
   ]
  },
  {
   "cell_type": "code",
   "execution_count": 11,
   "metadata": {},
   "outputs": [
    {
     "name": "stdout",
     "output_type": "stream",
     "text": [
      "<class 'pandas.core.frame.DataFrame'>\n",
      "RangeIndex: 206 entries, 0 to 205\n",
      "Data columns (total 4 columns):\n",
      " #   Column     Non-Null Count  Dtype  \n",
      "---  ------     --------------  -----  \n",
      " 0   Country    206 non-null    object \n",
      " 1   HDI Group  191 non-null    object \n",
      " 2   HDI        202 non-null    float64\n",
      " 3   Region     151 non-null    object \n",
      "dtypes: float64(1), object(3)\n",
      "memory usage: 6.6+ KB\n"
     ]
    }
   ],
   "source": [
    "hdi_df.info()"
   ]
  },
  {
   "cell_type": "markdown",
   "metadata": {},
   "source": [
    "Lets look at the null values"
   ]
  },
  {
   "cell_type": "code",
   "execution_count": 12,
   "metadata": {},
   "outputs": [
    {
     "data": {
      "text/html": [
       "<div>\n",
       "<style scoped>\n",
       "    .dataframe tbody tr th:only-of-type {\n",
       "        vertical-align: middle;\n",
       "    }\n",
       "\n",
       "    .dataframe tbody tr th {\n",
       "        vertical-align: top;\n",
       "    }\n",
       "\n",
       "    .dataframe thead th {\n",
       "        text-align: right;\n",
       "    }\n",
       "</style>\n",
       "<table border=\"1\" class=\"dataframe\">\n",
       "  <thead>\n",
       "    <tr style=\"text-align: right;\">\n",
       "      <th></th>\n",
       "      <th>Country</th>\n",
       "      <th>HDI Group</th>\n",
       "      <th>HDI</th>\n",
       "      <th>Region</th>\n",
       "    </tr>\n",
       "  </thead>\n",
       "  <tbody>\n",
       "    <tr>\n",
       "      <th>108</th>\n",
       "      <td>Monaco</td>\n",
       "      <td>NaN</td>\n",
       "      <td>NaN</td>\n",
       "      <td>NaN</td>\n",
       "    </tr>\n",
       "    <tr>\n",
       "      <th>132</th>\n",
       "      <td>Nauru</td>\n",
       "      <td>NaN</td>\n",
       "      <td>NaN</td>\n",
       "      <td>EAP</td>\n",
       "    </tr>\n",
       "    <tr>\n",
       "      <th>142</th>\n",
       "      <td>Korea (Democratic People's Rep. of)</td>\n",
       "      <td>NaN</td>\n",
       "      <td>NaN</td>\n",
       "      <td>EAP</td>\n",
       "    </tr>\n",
       "    <tr>\n",
       "      <th>158</th>\n",
       "      <td>Somalia</td>\n",
       "      <td>NaN</td>\n",
       "      <td>NaN</td>\n",
       "      <td>AS</td>\n",
       "    </tr>\n",
       "  </tbody>\n",
       "</table>\n",
       "</div>"
      ],
      "text/plain": [
       "                                 Country HDI Group  HDI Region\n",
       "108                               Monaco       NaN  NaN    NaN\n",
       "132                                Nauru       NaN  NaN    EAP\n",
       "142  Korea (Democratic People's Rep. of)       NaN  NaN    EAP\n",
       "158                              Somalia       NaN  NaN     AS"
      ]
     },
     "execution_count": 12,
     "metadata": {},
     "output_type": "execute_result"
    }
   ],
   "source": [
    "# Looking at the rows with missing HDI values\n",
    "hdi_df[hdi_df['HDI'].isnull()]"
   ]
  },
  {
   "cell_type": "markdown",
   "metadata": {},
   "source": [
    "We can drop these rows as they contain no real information"
   ]
  },
  {
   "cell_type": "code",
   "execution_count": 13,
   "metadata": {},
   "outputs": [],
   "source": [
    "# Dropping values which have NaN HDI values while ignoring region\n",
    "hdi_df.dropna(subset=['HDI'], inplace=True)"
   ]
  },
  {
   "cell_type": "code",
   "execution_count": 14,
   "metadata": {},
   "outputs": [
    {
     "name": "stdout",
     "output_type": "stream",
     "text": [
      "<class 'pandas.core.frame.DataFrame'>\n",
      "Index: 202 entries, 0 to 205\n",
      "Data columns (total 4 columns):\n",
      " #   Column     Non-Null Count  Dtype  \n",
      "---  ------     --------------  -----  \n",
      " 0   Country    202 non-null    object \n",
      " 1   HDI Group  191 non-null    object \n",
      " 2   HDI        202 non-null    float64\n",
      " 3   Region     148 non-null    object \n",
      "dtypes: float64(1), object(3)\n",
      "memory usage: 7.9+ KB\n"
     ]
    }
   ],
   "source": [
    "hdi_df.info()"
   ]
  },
  {
   "cell_type": "markdown",
   "metadata": {},
   "source": [
    "We ignore the region column as we will need it to conduct regional-level analysis and we will manually assign regions to where it is missing."
   ]
  },
  {
   "cell_type": "code",
   "execution_count": 15,
   "metadata": {},
   "outputs": [
    {
     "data": {
      "text/plain": [
       "Region\n",
       "SSA    46\n",
       "LAC    33\n",
       "EAP    24\n",
       "AS     19\n",
       "ECA    17\n",
       "SA      9\n",
       "Name: count, dtype: int64"
      ]
     },
     "execution_count": 15,
     "metadata": {},
     "output_type": "execute_result"
    }
   ],
   "source": [
    "# Getting the regions (abbreviations)\n",
    "hdi_df['Region'].value_counts()  "
   ]
  },
  {
   "cell_type": "markdown",
   "metadata": {},
   "source": [
    "As we can see we have 4 countries with missing HDI scores. These will have to be dropped as there would be no way to fill in the data for these cells (one could try to look for other datasets). We can also observe that there are summaries of the HDI scores by region and by HDI Group. As we will drop some countries at merging at assigning some to new regions these scores will become inaccurate."
   ]
  },
  {
   "cell_type": "code",
   "execution_count": 16,
   "metadata": {},
   "outputs": [
    {
     "data": {
      "text/html": [
       "<div>\n",
       "<style scoped>\n",
       "    .dataframe tbody tr th:only-of-type {\n",
       "        vertical-align: middle;\n",
       "    }\n",
       "\n",
       "    .dataframe tbody tr th {\n",
       "        vertical-align: top;\n",
       "    }\n",
       "\n",
       "    .dataframe thead th {\n",
       "        text-align: right;\n",
       "    }\n",
       "</style>\n",
       "<table border=\"1\" class=\"dataframe\">\n",
       "  <thead>\n",
       "    <tr style=\"text-align: right;\">\n",
       "      <th></th>\n",
       "      <th>Country</th>\n",
       "      <th>HDI Group</th>\n",
       "      <th>HDI</th>\n",
       "      <th>Region</th>\n",
       "    </tr>\n",
       "  </thead>\n",
       "  <tbody>\n",
       "    <tr>\n",
       "      <th>195</th>\n",
       "      <td>Very high human development</td>\n",
       "      <td>NaN</td>\n",
       "      <td>0.896</td>\n",
       "      <td>NaN</td>\n",
       "    </tr>\n",
       "    <tr>\n",
       "      <th>196</th>\n",
       "      <td>High human development</td>\n",
       "      <td>NaN</td>\n",
       "      <td>0.754</td>\n",
       "      <td>NaN</td>\n",
       "    </tr>\n",
       "    <tr>\n",
       "      <th>197</th>\n",
       "      <td>Medium human development</td>\n",
       "      <td>NaN</td>\n",
       "      <td>0.636</td>\n",
       "      <td>NaN</td>\n",
       "    </tr>\n",
       "    <tr>\n",
       "      <th>198</th>\n",
       "      <td>Low human development</td>\n",
       "      <td>NaN</td>\n",
       "      <td>0.518</td>\n",
       "      <td>NaN</td>\n",
       "    </tr>\n",
       "    <tr>\n",
       "      <th>199</th>\n",
       "      <td>Arab States</td>\n",
       "      <td>NaN</td>\n",
       "      <td>0.708</td>\n",
       "      <td>NaN</td>\n",
       "    </tr>\n",
       "    <tr>\n",
       "      <th>200</th>\n",
       "      <td>East Asia and the Pacific</td>\n",
       "      <td>NaN</td>\n",
       "      <td>0.749</td>\n",
       "      <td>NaN</td>\n",
       "    </tr>\n",
       "    <tr>\n",
       "      <th>201</th>\n",
       "      <td>Europe and Central Asia</td>\n",
       "      <td>NaN</td>\n",
       "      <td>0.796</td>\n",
       "      <td>NaN</td>\n",
       "    </tr>\n",
       "    <tr>\n",
       "      <th>202</th>\n",
       "      <td>Latin America and the Caribbean</td>\n",
       "      <td>NaN</td>\n",
       "      <td>0.754</td>\n",
       "      <td>NaN</td>\n",
       "    </tr>\n",
       "    <tr>\n",
       "      <th>203</th>\n",
       "      <td>South Asia</td>\n",
       "      <td>NaN</td>\n",
       "      <td>0.632</td>\n",
       "      <td>NaN</td>\n",
       "    </tr>\n",
       "    <tr>\n",
       "      <th>204</th>\n",
       "      <td>Sub-Saharan Africa</td>\n",
       "      <td>NaN</td>\n",
       "      <td>0.547</td>\n",
       "      <td>NaN</td>\n",
       "    </tr>\n",
       "    <tr>\n",
       "      <th>205</th>\n",
       "      <td>World</td>\n",
       "      <td>NaN</td>\n",
       "      <td>0.732</td>\n",
       "      <td>NaN</td>\n",
       "    </tr>\n",
       "  </tbody>\n",
       "</table>\n",
       "</div>"
      ],
      "text/plain": [
       "                             Country HDI Group    HDI Region\n",
       "195      Very high human development       NaN  0.896    NaN\n",
       "196           High human development       NaN  0.754    NaN\n",
       "197         Medium human development       NaN  0.636    NaN\n",
       "198            Low human development       NaN  0.518    NaN\n",
       "199                      Arab States       NaN  0.708    NaN\n",
       "200        East Asia and the Pacific       NaN  0.749    NaN\n",
       "201          Europe and Central Asia       NaN  0.796    NaN\n",
       "202  Latin America and the Caribbean       NaN  0.754    NaN\n",
       "203                       South Asia       NaN  0.632    NaN\n",
       "204               Sub-Saharan Africa       NaN  0.547    NaN\n",
       "205                            World       NaN  0.732    NaN"
      ]
     },
     "execution_count": 16,
     "metadata": {},
     "output_type": "execute_result"
    }
   ],
   "source": [
    "hdi_df_regions = hdi_df.tail(11)\n",
    "hdi_df_regions"
   ]
  },
  {
   "cell_type": "markdown",
   "metadata": {},
   "source": [
    "Here we drop these rows (they are the last 11 rows of the dataset)"
   ]
  },
  {
   "cell_type": "code",
   "execution_count": 17,
   "metadata": {},
   "outputs": [
    {
     "data": {
      "text/html": [
       "<div>\n",
       "<style scoped>\n",
       "    .dataframe tbody tr th:only-of-type {\n",
       "        vertical-align: middle;\n",
       "    }\n",
       "\n",
       "    .dataframe tbody tr th {\n",
       "        vertical-align: top;\n",
       "    }\n",
       "\n",
       "    .dataframe thead th {\n",
       "        text-align: right;\n",
       "    }\n",
       "</style>\n",
       "<table border=\"1\" class=\"dataframe\">\n",
       "  <thead>\n",
       "    <tr style=\"text-align: right;\">\n",
       "      <th></th>\n",
       "      <th>Country</th>\n",
       "      <th>HDI Group</th>\n",
       "      <th>HDI</th>\n",
       "      <th>Region</th>\n",
       "    </tr>\n",
       "  </thead>\n",
       "  <tbody>\n",
       "    <tr>\n",
       "      <th>190</th>\n",
       "      <td>Samoa</td>\n",
       "      <td>High</td>\n",
       "      <td>0.707</td>\n",
       "      <td>EAP</td>\n",
       "    </tr>\n",
       "    <tr>\n",
       "      <th>191</th>\n",
       "      <td>Yemen</td>\n",
       "      <td>Low</td>\n",
       "      <td>0.455</td>\n",
       "      <td>AS</td>\n",
       "    </tr>\n",
       "    <tr>\n",
       "      <th>192</th>\n",
       "      <td>South Africa</td>\n",
       "      <td>High</td>\n",
       "      <td>0.713</td>\n",
       "      <td>SSA</td>\n",
       "    </tr>\n",
       "    <tr>\n",
       "      <th>193</th>\n",
       "      <td>Zambia</td>\n",
       "      <td>Medium</td>\n",
       "      <td>0.565</td>\n",
       "      <td>SSA</td>\n",
       "    </tr>\n",
       "    <tr>\n",
       "      <th>194</th>\n",
       "      <td>Zimbabwe</td>\n",
       "      <td>Medium</td>\n",
       "      <td>0.593</td>\n",
       "      <td>SSA</td>\n",
       "    </tr>\n",
       "  </tbody>\n",
       "</table>\n",
       "</div>"
      ],
      "text/plain": [
       "          Country HDI Group    HDI Region\n",
       "190         Samoa      High  0.707    EAP\n",
       "191         Yemen       Low  0.455     AS\n",
       "192  South Africa      High  0.713    SSA\n",
       "193        Zambia    Medium  0.565    SSA\n",
       "194      Zimbabwe    Medium  0.593    SSA"
      ]
     },
     "execution_count": 17,
     "metadata": {},
     "output_type": "execute_result"
    }
   ],
   "source": [
    "hdi_df = hdi_df.drop(hdi_df.tail(11).index)\n",
    "hdi_df.tail()"
   ]
  },
  {
   "cell_type": "code",
   "execution_count": 18,
   "metadata": {},
   "outputs": [
    {
     "name": "stdout",
     "output_type": "stream",
     "text": [
      "<class 'pandas.core.frame.DataFrame'>\n",
      "Index: 191 entries, 0 to 194\n",
      "Data columns (total 4 columns):\n",
      " #   Column     Non-Null Count  Dtype  \n",
      "---  ------     --------------  -----  \n",
      " 0   Country    191 non-null    object \n",
      " 1   HDI Group  191 non-null    object \n",
      " 2   HDI        191 non-null    float64\n",
      " 3   Region     148 non-null    object \n",
      "dtypes: float64(1), object(3)\n",
      "memory usage: 7.5+ KB\n"
     ]
    }
   ],
   "source": [
    "hdi_df.info()"
   ]
  },
  {
   "cell_type": "code",
   "execution_count": 19,
   "metadata": {},
   "outputs": [
    {
     "data": {
      "text/html": [
       "<div>\n",
       "<style scoped>\n",
       "    .dataframe tbody tr th:only-of-type {\n",
       "        vertical-align: middle;\n",
       "    }\n",
       "\n",
       "    .dataframe tbody tr th {\n",
       "        vertical-align: top;\n",
       "    }\n",
       "\n",
       "    .dataframe thead th {\n",
       "        text-align: right;\n",
       "    }\n",
       "</style>\n",
       "<table border=\"1\" class=\"dataframe\">\n",
       "  <thead>\n",
       "    <tr style=\"text-align: right;\">\n",
       "      <th></th>\n",
       "      <th>HDI</th>\n",
       "    </tr>\n",
       "  </thead>\n",
       "  <tbody>\n",
       "    <tr>\n",
       "      <th>count</th>\n",
       "      <td>191.000000</td>\n",
       "    </tr>\n",
       "    <tr>\n",
       "      <th>mean</th>\n",
       "      <td>0.720576</td>\n",
       "    </tr>\n",
       "    <tr>\n",
       "      <th>std</th>\n",
       "      <td>0.150661</td>\n",
       "    </tr>\n",
       "    <tr>\n",
       "      <th>min</th>\n",
       "      <td>0.385000</td>\n",
       "    </tr>\n",
       "    <tr>\n",
       "      <th>25%</th>\n",
       "      <td>0.599500</td>\n",
       "    </tr>\n",
       "    <tr>\n",
       "      <th>50%</th>\n",
       "      <td>0.739000</td>\n",
       "    </tr>\n",
       "    <tr>\n",
       "      <th>75%</th>\n",
       "      <td>0.835000</td>\n",
       "    </tr>\n",
       "    <tr>\n",
       "      <th>max</th>\n",
       "      <td>0.962000</td>\n",
       "    </tr>\n",
       "  </tbody>\n",
       "</table>\n",
       "</div>"
      ],
      "text/plain": [
       "              HDI\n",
       "count  191.000000\n",
       "mean     0.720576\n",
       "std      0.150661\n",
       "min      0.385000\n",
       "25%      0.599500\n",
       "50%      0.739000\n",
       "75%      0.835000\n",
       "max      0.962000"
      ]
     },
     "execution_count": 19,
     "metadata": {},
     "output_type": "execute_result"
    }
   ],
   "source": [
    "hdi_df.describe()"
   ]
  },
  {
   "cell_type": "markdown",
   "metadata": {},
   "source": [
    "We do not observe any weird behavior when looking at the above statistics."
   ]
  },
  {
   "cell_type": "code",
   "execution_count": 20,
   "metadata": {},
   "outputs": [
    {
     "data": {
      "text/html": [
       "<div>\n",
       "<style scoped>\n",
       "    .dataframe tbody tr th:only-of-type {\n",
       "        vertical-align: middle;\n",
       "    }\n",
       "\n",
       "    .dataframe tbody tr th {\n",
       "        vertical-align: top;\n",
       "    }\n",
       "\n",
       "    .dataframe thead th {\n",
       "        text-align: right;\n",
       "    }\n",
       "</style>\n",
       "<table border=\"1\" class=\"dataframe\">\n",
       "  <thead>\n",
       "    <tr style=\"text-align: right;\">\n",
       "      <th></th>\n",
       "      <th>Country</th>\n",
       "      <th>HDI Group</th>\n",
       "      <th>HDI</th>\n",
       "      <th>Region</th>\n",
       "    </tr>\n",
       "  </thead>\n",
       "  <tbody>\n",
       "  </tbody>\n",
       "</table>\n",
       "</div>"
      ],
      "text/plain": [
       "Empty DataFrame\n",
       "Columns: [Country, HDI Group, HDI, Region]\n",
       "Index: []"
      ]
     },
     "execution_count": 20,
     "metadata": {},
     "output_type": "execute_result"
    }
   ],
   "source": [
    "# Checking for duplicated rows\n",
    "duplicated_rows = hdi_df[hdi_df.duplicated()]\n",
    "duplicated_rows"
   ]
  },
  {
   "cell_type": "markdown",
   "metadata": {},
   "source": [
    "We do not have duplicate rows, thus we do not need to worry about them."
   ]
  },
  {
   "cell_type": "code",
   "execution_count": 21,
   "metadata": {},
   "outputs": [
    {
     "data": {
      "text/plain": [
       "Country       0\n",
       "HDI Group     0\n",
       "HDI           0\n",
       "Region       43\n",
       "dtype: int64"
      ]
     },
     "execution_count": 21,
     "metadata": {},
     "output_type": "execute_result"
    }
   ],
   "source": [
    "# Checking for nan values in the columns\n",
    "hdi_df.isna().sum(axis=0)"
   ]
  },
  {
   "cell_type": "markdown",
   "metadata": {},
   "source": [
    "The only NaN values are now in the 'Region' column but we will handle them."
   ]
  },
  {
   "cell_type": "code",
   "execution_count": 22,
   "metadata": {},
   "outputs": [
    {
     "data": {
      "text/plain": [
       "array(['SA', 'SSA', 'ECA', nan, 'AS', 'LAC', 'EAP'], dtype=object)"
      ]
     },
     "execution_count": 22,
     "metadata": {},
     "output_type": "execute_result"
    }
   ],
   "source": [
    "# Getting all the unique regions\n",
    "hdi_df['Region'].unique()"
   ]
  },
  {
   "cell_type": "code",
   "execution_count": 23,
   "metadata": {},
   "outputs": [
    {
     "data": {
      "text/html": [
       "<div>\n",
       "<style scoped>\n",
       "    .dataframe tbody tr th:only-of-type {\n",
       "        vertical-align: middle;\n",
       "    }\n",
       "\n",
       "    .dataframe tbody tr th {\n",
       "        vertical-align: top;\n",
       "    }\n",
       "\n",
       "    .dataframe thead th {\n",
       "        text-align: right;\n",
       "    }\n",
       "</style>\n",
       "<table border=\"1\" class=\"dataframe\">\n",
       "  <thead>\n",
       "    <tr style=\"text-align: right;\">\n",
       "      <th></th>\n",
       "      <th>Country</th>\n",
       "      <th>HDI Group</th>\n",
       "      <th>HDI</th>\n",
       "      <th>Region</th>\n",
       "    </tr>\n",
       "  </thead>\n",
       "  <tbody>\n",
       "    <tr>\n",
       "      <th>3</th>\n",
       "      <td>Andorra</td>\n",
       "      <td>Very High</td>\n",
       "      <td>0.858</td>\n",
       "      <td>NaN</td>\n",
       "    </tr>\n",
       "    <tr>\n",
       "      <th>8</th>\n",
       "      <td>Australia</td>\n",
       "      <td>Very High</td>\n",
       "      <td>0.951</td>\n",
       "      <td>NaN</td>\n",
       "    </tr>\n",
       "    <tr>\n",
       "      <th>9</th>\n",
       "      <td>Austria</td>\n",
       "      <td>Very High</td>\n",
       "      <td>0.916</td>\n",
       "      <td>NaN</td>\n",
       "    </tr>\n",
       "    <tr>\n",
       "      <th>12</th>\n",
       "      <td>Belgium</td>\n",
       "      <td>Very High</td>\n",
       "      <td>0.937</td>\n",
       "      <td>NaN</td>\n",
       "    </tr>\n",
       "    <tr>\n",
       "      <th>16</th>\n",
       "      <td>Bulgaria</td>\n",
       "      <td>High</td>\n",
       "      <td>0.795</td>\n",
       "      <td>NaN</td>\n",
       "    </tr>\n",
       "  </tbody>\n",
       "</table>\n",
       "</div>"
      ],
      "text/plain": [
       "      Country  HDI Group    HDI Region\n",
       "3     Andorra  Very High  0.858    NaN\n",
       "8   Australia  Very High  0.951    NaN\n",
       "9     Austria  Very High  0.916    NaN\n",
       "12    Belgium  Very High  0.937    NaN\n",
       "16   Bulgaria       High  0.795    NaN"
      ]
     },
     "execution_count": 23,
     "metadata": {},
     "output_type": "execute_result"
    }
   ],
   "source": [
    "# Checking which rows don't have a region assigned to them\n",
    "no_region = hdi_df[hdi_df['Region'].isna()]\n",
    "no_region.head(5)"
   ]
  },
  {
   "cell_type": "code",
   "execution_count": 24,
   "metadata": {},
   "outputs": [],
   "source": [
    "# Checking the countries which have no regions\n",
    "no_region = hdi_df.loc[hdi_df['Region'].isna(), 'Country'].tolist()"
   ]
  },
  {
   "cell_type": "code",
   "execution_count": 25,
   "metadata": {},
   "outputs": [],
   "source": [
    "# Creating Americas region (renamed LAC to AME so that USA and Canada can be included)\n",
    "hdi_df.loc[hdi_df['Region'] == 'LAC', 'Region'] = 'AME'"
   ]
  },
  {
   "cell_type": "code",
   "execution_count": 26,
   "metadata": {},
   "outputs": [],
   "source": [
    "# Assigning a region (ECA) to the European countries \n",
    "region_to_assign = 'ECA'\n",
    "country = ['Andorra','Austria','Belgium','Bulgaria','Switzerland','Cyprus','Czechia','Germany','Denmark','Spain','Estonia','Finland','France','United Kingdom','Greece','Croatia',\n",
    "          'Hungary','Ireland','Iceland','Israel','Italy','Liechtenstein','Lithuania','Luxembourg','Latvia','Monaco','Malta','Netherlands','Norway','New Zealand','Poland',\n",
    "          'Portugal','Romania','Russian Federation','San Marino','Slovakia','Slovenia','Sweden']\n",
    "mask = hdi_df['Country'].isin(country)\n",
    "hdi_df.loc[mask, 'Region'] = region_to_assign\n",
    "\n",
    "# Assigning a region (AME) to the American countries\n",
    "region_to_assign = 'AME'\n",
    "country = ['Canada', 'United States']\n",
    "mask = hdi_df['Country'].isin(country)\n",
    "hdi_df.loc[mask, 'Region'] = region_to_assign\n",
    "\n",
    "# Assigning a region (EAP) to the Asian countries\n",
    "region_to_assign = 'EAP'\n",
    "country = ['Australia', 'Hong Kong, China (SAR)', 'Japan', 'Korea (Republic of)']\n",
    "mask = hdi_df['Country'].isin(country)\n",
    "hdi_df.loc[mask, 'Region'] = region_to_assign"
   ]
  },
  {
   "cell_type": "code",
   "execution_count": 27,
   "metadata": {},
   "outputs": [
    {
     "data": {
      "text/html": [
       "<div>\n",
       "<style scoped>\n",
       "    .dataframe tbody tr th:only-of-type {\n",
       "        vertical-align: middle;\n",
       "    }\n",
       "\n",
       "    .dataframe tbody tr th {\n",
       "        vertical-align: top;\n",
       "    }\n",
       "\n",
       "    .dataframe thead th {\n",
       "        text-align: right;\n",
       "    }\n",
       "</style>\n",
       "<table border=\"1\" class=\"dataframe\">\n",
       "  <thead>\n",
       "    <tr style=\"text-align: right;\">\n",
       "      <th></th>\n",
       "      <th>Country</th>\n",
       "      <th>HDI Group</th>\n",
       "      <th>HDI</th>\n",
       "      <th>Region</th>\n",
       "    </tr>\n",
       "  </thead>\n",
       "  <tbody>\n",
       "    <tr>\n",
       "      <th>30</th>\n",
       "      <td>Switzerland</td>\n",
       "      <td>Very High</td>\n",
       "      <td>0.962</td>\n",
       "      <td>ECA</td>\n",
       "    </tr>\n",
       "    <tr>\n",
       "      <th>130</th>\n",
       "      <td>Norway</td>\n",
       "      <td>Very High</td>\n",
       "      <td>0.961</td>\n",
       "      <td>ECA</td>\n",
       "    </tr>\n",
       "    <tr>\n",
       "      <th>82</th>\n",
       "      <td>Iceland</td>\n",
       "      <td>Very High</td>\n",
       "      <td>0.959</td>\n",
       "      <td>ECA</td>\n",
       "    </tr>\n",
       "    <tr>\n",
       "      <th>72</th>\n",
       "      <td>Hong Kong, China (SAR)</td>\n",
       "      <td>Very High</td>\n",
       "      <td>0.952</td>\n",
       "      <td>EAP</td>\n",
       "    </tr>\n",
       "    <tr>\n",
       "      <th>8</th>\n",
       "      <td>Australia</td>\n",
       "      <td>Very High</td>\n",
       "      <td>0.951</td>\n",
       "      <td>EAP</td>\n",
       "    </tr>\n",
       "    <tr>\n",
       "      <th>...</th>\n",
       "      <td>...</td>\n",
       "      <td>...</td>\n",
       "      <td>...</td>\n",
       "      <td>...</td>\n",
       "    </tr>\n",
       "    <tr>\n",
       "      <th>11</th>\n",
       "      <td>Burundi</td>\n",
       "      <td>Low</td>\n",
       "      <td>0.426</td>\n",
       "      <td>SSA</td>\n",
       "    </tr>\n",
       "    <tr>\n",
       "      <th>28</th>\n",
       "      <td>Central African Republic</td>\n",
       "      <td>Low</td>\n",
       "      <td>0.404</td>\n",
       "      <td>SSA</td>\n",
       "    </tr>\n",
       "    <tr>\n",
       "      <th>126</th>\n",
       "      <td>Niger</td>\n",
       "      <td>Low</td>\n",
       "      <td>0.400</td>\n",
       "      <td>SSA</td>\n",
       "    </tr>\n",
       "    <tr>\n",
       "      <th>169</th>\n",
       "      <td>Chad</td>\n",
       "      <td>Low</td>\n",
       "      <td>0.394</td>\n",
       "      <td>SSA</td>\n",
       "    </tr>\n",
       "    <tr>\n",
       "      <th>160</th>\n",
       "      <td>South Sudan</td>\n",
       "      <td>Low</td>\n",
       "      <td>0.385</td>\n",
       "      <td>SSA</td>\n",
       "    </tr>\n",
       "  </tbody>\n",
       "</table>\n",
       "<p>191 rows × 4 columns</p>\n",
       "</div>"
      ],
      "text/plain": [
       "                      Country  HDI Group    HDI Region\n",
       "30                Switzerland  Very High  0.962    ECA\n",
       "130                    Norway  Very High  0.961    ECA\n",
       "82                    Iceland  Very High  0.959    ECA\n",
       "72     Hong Kong, China (SAR)  Very High  0.952    EAP\n",
       "8                   Australia  Very High  0.951    EAP\n",
       "..                        ...        ...    ...    ...\n",
       "11                    Burundi        Low  0.426    SSA\n",
       "28   Central African Republic        Low  0.404    SSA\n",
       "126                     Niger        Low  0.400    SSA\n",
       "169                      Chad        Low  0.394    SSA\n",
       "160               South Sudan        Low  0.385    SSA\n",
       "\n",
       "[191 rows x 4 columns]"
      ]
     },
     "execution_count": 27,
     "metadata": {},
     "output_type": "execute_result"
    }
   ],
   "source": [
    "# Sorting the countries by the HDI\n",
    "hdi_df.sort_values(by=['HDI'], ascending=False)"
   ]
  },
  {
   "cell_type": "code",
   "execution_count": 28,
   "metadata": {},
   "outputs": [],
   "source": [
    "# Setting the country column as the index\n",
    "hdi_df.set_index('Country',inplace=True)"
   ]
  },
  {
   "cell_type": "markdown",
   "metadata": {},
   "source": [
    "## 2.2 IQ"
   ]
  },
  {
   "cell_type": "markdown",
   "metadata": {},
   "source": [
    "### 2.2.1 Data Loading and Exploration"
   ]
  },
  {
   "cell_type": "code",
   "execution_count": 29,
   "metadata": {},
   "outputs": [
    {
     "data": {
      "text/html": [
       "<div>\n",
       "<style scoped>\n",
       "    .dataframe tbody tr th:only-of-type {\n",
       "        vertical-align: middle;\n",
       "    }\n",
       "\n",
       "    .dataframe tbody tr th {\n",
       "        vertical-align: top;\n",
       "    }\n",
       "\n",
       "    .dataframe thead th {\n",
       "        text-align: right;\n",
       "    }\n",
       "</style>\n",
       "<table border=\"1\" class=\"dataframe\">\n",
       "  <thead>\n",
       "    <tr style=\"text-align: right;\">\n",
       "      <th></th>\n",
       "      <th>Rank</th>\n",
       "      <th>Country</th>\n",
       "      <th>Measured IQ</th>\n",
       "      <th>IQ data quality</th>\n",
       "      <th>SchAch</th>\n",
       "      <th>SA direct</th>\n",
       "      <th>SA scaled</th>\n",
       "      <th>SA data quality</th>\n",
       "      <th>Final IQ</th>\n",
       "      <th>Final IQ.1</th>\n",
       "    </tr>\n",
       "  </thead>\n",
       "  <tbody>\n",
       "    <tr>\n",
       "      <th>203</th>\n",
       "      <td>NaN</td>\n",
       "      <td>Chad</td>\n",
       "      <td>NaN</td>\n",
       "      <td>NaN</td>\n",
       "      <td>NaN</td>\n",
       "      <td>NaN</td>\n",
       "      <td>NaN</td>\n",
       "      <td>NaN</td>\n",
       "      <td>(66)</td>\n",
       "      <td>66.0</td>\n",
       "    </tr>\n",
       "    <tr>\n",
       "      <th>66</th>\n",
       "      <td>66.0</td>\n",
       "      <td>Suriname</td>\n",
       "      <td>89.0</td>\n",
       "      <td>4.0</td>\n",
       "      <td>NaN</td>\n",
       "      <td>NaN</td>\n",
       "      <td>NaN</td>\n",
       "      <td>NaN</td>\n",
       "      <td>89</td>\n",
       "      <td>89.0</td>\n",
       "    </tr>\n",
       "    <tr>\n",
       "      <th>65</th>\n",
       "      <td>66.0</td>\n",
       "      <td>Laos</td>\n",
       "      <td>89.0</td>\n",
       "      <td>2.0</td>\n",
       "      <td>NaN</td>\n",
       "      <td>NaN</td>\n",
       "      <td>NaN</td>\n",
       "      <td>NaN</td>\n",
       "      <td>89</td>\n",
       "      <td>89.0</td>\n",
       "    </tr>\n",
       "  </tbody>\n",
       "</table>\n",
       "</div>"
      ],
      "text/plain": [
       "     Rank   Country  Measured IQ  IQ data quality   SchAch  SA direct  \\\n",
       "203   NaN      Chad          NaN              NaN      NaN        NaN   \n",
       "66   66.0  Suriname         89.0              4.0      NaN        NaN   \n",
       "65   66.0      Laos         89.0              2.0      NaN        NaN   \n",
       "\n",
       "     SA scaled  SA data quality  Final IQ   Final IQ.1  \n",
       "203        NaN              NaN      (66)         66.0  \n",
       "66         NaN              NaN        89         89.0  \n",
       "65         NaN              NaN        89         89.0  "
      ]
     },
     "execution_count": 29,
     "metadata": {},
     "output_type": "execute_result"
    }
   ],
   "source": [
    "# Loading the IQ data\n",
    "iq_df = pd.read_csv('data/National_IQ.csv')\n",
    "iq_df.sample(3)"
   ]
  },
  {
   "cell_type": "code",
   "execution_count": 30,
   "metadata": {},
   "outputs": [
    {
     "name": "stdout",
     "output_type": "stream",
     "text": [
      "<class 'pandas.core.frame.DataFrame'>\n",
      "RangeIndex: 204 entries, 0 to 203\n",
      "Data columns (total 10 columns):\n",
      " #   Column           Non-Null Count  Dtype  \n",
      "---  ------           --------------  -----  \n",
      " 0   Rank             162 non-null    float64\n",
      " 1   Country          204 non-null    object \n",
      " 2   Measured IQ      136 non-null    float64\n",
      " 3   IQ data quality  137 non-null    float64\n",
      " 4    SchAch          113 non-null    float64\n",
      " 5   SA direct        111 non-null    float64\n",
      " 6   SA scaled        112 non-null    float64\n",
      " 7   SA data quality  112 non-null    float64\n",
      " 8    Final IQ        204 non-null    object \n",
      " 9    Final IQ.1      204 non-null    float64\n",
      "dtypes: float64(8), object(2)\n",
      "memory usage: 16.1+ KB\n"
     ]
    }
   ],
   "source": [
    "iq_df.info()"
   ]
  },
  {
   "cell_type": "markdown",
   "metadata": {},
   "source": [
    "The values which we are intersted in are ones which are easily interpretable, and relevant to the research question, which aim it is to compare the HDI scores with the IQ scores. To do this, the IQ of the country and the country itself ought to be included. "
   ]
  },
  {
   "cell_type": "code",
   "execution_count": 31,
   "metadata": {},
   "outputs": [
    {
     "data": {
      "text/plain": [
       "Index(['Rank', 'Country', 'Measured IQ', 'IQ data quality', ' SchAch',\n",
       "       'SA direct', 'SA scaled', 'SA data quality', ' Final IQ',\n",
       "       ' Final IQ.1'],\n",
       "      dtype='object')"
      ]
     },
     "execution_count": 31,
     "metadata": {},
     "output_type": "execute_result"
    }
   ],
   "source": [
    "iq_df.columns"
   ]
  },
  {
   "cell_type": "code",
   "execution_count": 32,
   "metadata": {},
   "outputs": [],
   "source": [
    "# Selecting the columns of interest\n",
    "columns_of_interest = ['Country', ' Final IQ']\n",
    "iq_df = iq_df[columns_of_interest]"
   ]
  },
  {
   "cell_type": "code",
   "execution_count": 33,
   "metadata": {},
   "outputs": [],
   "source": [
    "# Renaming these columns\n",
    "iq_df = iq_df.rename(columns=\n",
    "{' Final IQ': 'IQ',\n",
    "})"
   ]
  },
  {
   "cell_type": "markdown",
   "metadata": {},
   "source": [
    "### 2.1.2 Data Cleaning"
   ]
  },
  {
   "cell_type": "markdown",
   "metadata": {},
   "source": [
    "Since we are searching for potential biases and other correlations between the variables it is crucial that we do not have missing values. Because of this, along with the same methodlogy being applied for the HDI dataset, we have to drop the NaN values rows of the IQ column. "
   ]
  },
  {
   "cell_type": "code",
   "execution_count": 34,
   "metadata": {},
   "outputs": [
    {
     "data": {
      "text/html": [
       "<div>\n",
       "<style scoped>\n",
       "    .dataframe tbody tr th:only-of-type {\n",
       "        vertical-align: middle;\n",
       "    }\n",
       "\n",
       "    .dataframe tbody tr th {\n",
       "        vertical-align: top;\n",
       "    }\n",
       "\n",
       "    .dataframe thead th {\n",
       "        text-align: right;\n",
       "    }\n",
       "</style>\n",
       "<table border=\"1\" class=\"dataframe\">\n",
       "  <thead>\n",
       "    <tr style=\"text-align: right;\">\n",
       "      <th></th>\n",
       "      <th>Country</th>\n",
       "      <th>IQ</th>\n",
       "    </tr>\n",
       "  </thead>\n",
       "  <tbody>\n",
       "  </tbody>\n",
       "</table>\n",
       "</div>"
      ],
      "text/plain": [
       "Empty DataFrame\n",
       "Columns: [Country, IQ]\n",
       "Index: []"
      ]
     },
     "execution_count": 34,
     "metadata": {},
     "output_type": "execute_result"
    }
   ],
   "source": [
    "iq_df[iq_df['IQ'].isnull()]"
   ]
  },
  {
   "cell_type": "markdown",
   "metadata": {},
   "source": [
    "As we do not have null values in the IQ column we do not need to drop anything (regarding that metric)"
   ]
  },
  {
   "cell_type": "code",
   "execution_count": 35,
   "metadata": {},
   "outputs": [
    {
     "data": {
      "text/html": [
       "<div>\n",
       "<style scoped>\n",
       "    .dataframe tbody tr th:only-of-type {\n",
       "        vertical-align: middle;\n",
       "    }\n",
       "\n",
       "    .dataframe tbody tr th {\n",
       "        vertical-align: top;\n",
       "    }\n",
       "\n",
       "    .dataframe thead th {\n",
       "        text-align: right;\n",
       "    }\n",
       "</style>\n",
       "<table border=\"1\" class=\"dataframe\">\n",
       "  <thead>\n",
       "    <tr style=\"text-align: right;\">\n",
       "      <th></th>\n",
       "      <th>Country</th>\n",
       "      <th>IQ</th>\n",
       "    </tr>\n",
       "  </thead>\n",
       "  <tbody>\n",
       "    <tr>\n",
       "      <th>0</th>\n",
       "      <td>Singapore</td>\n",
       "      <td>107.1</td>\n",
       "    </tr>\n",
       "    <tr>\n",
       "      <th>1</th>\n",
       "      <td>China</td>\n",
       "      <td>105.8</td>\n",
       "    </tr>\n",
       "    <tr>\n",
       "      <th>2</th>\n",
       "      <td>Hong Kong</td>\n",
       "      <td>105.7</td>\n",
       "    </tr>\n",
       "    <tr>\n",
       "      <th>3</th>\n",
       "      <td>Korea: South</td>\n",
       "      <td>104.6</td>\n",
       "    </tr>\n",
       "    <tr>\n",
       "      <th>4</th>\n",
       "      <td>Taiwan</td>\n",
       "      <td>104.6</td>\n",
       "    </tr>\n",
       "    <tr>\n",
       "      <th>...</th>\n",
       "      <td>...</td>\n",
       "      <td>...</td>\n",
       "    </tr>\n",
       "    <tr>\n",
       "      <th>199</th>\n",
       "      <td>GuineaBissau</td>\n",
       "      <td>(69)</td>\n",
       "    </tr>\n",
       "    <tr>\n",
       "      <th>200</th>\n",
       "      <td>Liberia</td>\n",
       "      <td>(68)</td>\n",
       "    </tr>\n",
       "    <tr>\n",
       "      <th>201</th>\n",
       "      <td>Haiti</td>\n",
       "      <td>(67)</td>\n",
       "    </tr>\n",
       "    <tr>\n",
       "      <th>202</th>\n",
       "      <td>Sao Tome &amp; Principe</td>\n",
       "      <td>(67)</td>\n",
       "    </tr>\n",
       "    <tr>\n",
       "      <th>203</th>\n",
       "      <td>Chad</td>\n",
       "      <td>(66)</td>\n",
       "    </tr>\n",
       "  </tbody>\n",
       "</table>\n",
       "<p>204 rows × 2 columns</p>\n",
       "</div>"
      ],
      "text/plain": [
       "                 Country     IQ\n",
       "0              Singapore  107.1\n",
       "1                  China  105.8\n",
       "2              Hong Kong  105.7\n",
       "3           Korea: South  104.6\n",
       "4                 Taiwan  104.6\n",
       "..                   ...    ...\n",
       "199         GuineaBissau   (69)\n",
       "200              Liberia   (68)\n",
       "201                Haiti   (67)\n",
       "202  Sao Tome & Principe   (67)\n",
       "203                 Chad   (66)\n",
       "\n",
       "[204 rows x 2 columns]"
      ]
     },
     "execution_count": 35,
     "metadata": {},
     "output_type": "execute_result"
    }
   ],
   "source": [
    "iq_df"
   ]
  },
  {
   "cell_type": "markdown",
   "metadata": {},
   "source": [
    "The values in brackets are estimated from the neighbouring countries"
   ]
  },
  {
   "cell_type": "code",
   "execution_count": 36,
   "metadata": {},
   "outputs": [
    {
     "data": {
      "text/html": [
       "<div>\n",
       "<style scoped>\n",
       "    .dataframe tbody tr th:only-of-type {\n",
       "        vertical-align: middle;\n",
       "    }\n",
       "\n",
       "    .dataframe tbody tr th {\n",
       "        vertical-align: top;\n",
       "    }\n",
       "\n",
       "    .dataframe thead th {\n",
       "        text-align: right;\n",
       "    }\n",
       "</style>\n",
       "<table border=\"1\" class=\"dataframe\">\n",
       "  <thead>\n",
       "    <tr style=\"text-align: right;\">\n",
       "      <th></th>\n",
       "      <th>Country</th>\n",
       "      <th>IQ</th>\n",
       "    </tr>\n",
       "  </thead>\n",
       "  <tbody>\n",
       "  </tbody>\n",
       "</table>\n",
       "</div>"
      ],
      "text/plain": [
       "Empty DataFrame\n",
       "Columns: [Country, IQ]\n",
       "Index: []"
      ]
     },
     "execution_count": 36,
     "metadata": {},
     "output_type": "execute_result"
    }
   ],
   "source": [
    "# Checking for duplicated rows\n",
    "iq_df[iq_df.duplicated]"
   ]
  },
  {
   "cell_type": "code",
   "execution_count": 37,
   "metadata": {},
   "outputs": [
    {
     "data": {
      "text/html": [
       "<div>\n",
       "<style scoped>\n",
       "    .dataframe tbody tr th:only-of-type {\n",
       "        vertical-align: middle;\n",
       "    }\n",
       "\n",
       "    .dataframe tbody tr th {\n",
       "        vertical-align: top;\n",
       "    }\n",
       "\n",
       "    .dataframe thead th {\n",
       "        text-align: right;\n",
       "    }\n",
       "</style>\n",
       "<table border=\"1\" class=\"dataframe\">\n",
       "  <thead>\n",
       "    <tr style=\"text-align: right;\">\n",
       "      <th></th>\n",
       "      <th>Country</th>\n",
       "      <th>IQ</th>\n",
       "    </tr>\n",
       "  </thead>\n",
       "  <tbody>\n",
       "    <tr>\n",
       "      <th>163</th>\n",
       "      <td>Andorra</td>\n",
       "      <td>(97)</td>\n",
       "    </tr>\n",
       "    <tr>\n",
       "      <th>164</th>\n",
       "      <td>Belarus</td>\n",
       "      <td>(95)</td>\n",
       "    </tr>\n",
       "    <tr>\n",
       "      <th>165</th>\n",
       "      <td>Cambodia</td>\n",
       "      <td>(92)</td>\n",
       "    </tr>\n",
       "    <tr>\n",
       "      <th>166</th>\n",
       "      <td>Brunei</td>\n",
       "      <td>(89)</td>\n",
       "    </tr>\n",
       "    <tr>\n",
       "      <th>167</th>\n",
       "      <td>St  Helena</td>\n",
       "      <td>(86)</td>\n",
       "    </tr>\n",
       "    <tr>\n",
       "      <th>168</th>\n",
       "      <td>EastTimor</td>\n",
       "      <td>(85)</td>\n",
       "    </tr>\n",
       "    <tr>\n",
       "      <th>169</th>\n",
       "      <td>Kiribati</td>\n",
       "      <td>(85)</td>\n",
       "    </tr>\n",
       "    <tr>\n",
       "      <th>170</th>\n",
       "      <td>Myanmar/Burma</td>\n",
       "      <td>(85)</td>\n",
       "    </tr>\n",
       "    <tr>\n",
       "      <th>171</th>\n",
       "      <td>Bahamas</td>\n",
       "      <td>(84)</td>\n",
       "    </tr>\n",
       "    <tr>\n",
       "      <th>172</th>\n",
       "      <td>Micronesia</td>\n",
       "      <td>(84)</td>\n",
       "    </tr>\n",
       "  </tbody>\n",
       "</table>\n",
       "</div>"
      ],
      "text/plain": [
       "           Country    IQ\n",
       "163        Andorra  (97)\n",
       "164        Belarus  (95)\n",
       "165       Cambodia  (92)\n",
       "166         Brunei  (89)\n",
       "167     St  Helena  (86)\n",
       "168      EastTimor  (85)\n",
       "169       Kiribati  (85)\n",
       "170  Myanmar/Burma  (85)\n",
       "171        Bahamas  (84)\n",
       "172     Micronesia  (84)"
      ]
     },
     "execution_count": 37,
     "metadata": {},
     "output_type": "execute_result"
    }
   ],
   "source": [
    "# The IQ values which are in parentheses were estimated from their neighbouring countries\n",
    "iq_values_estimated = iq_df[iq_df['IQ'].astype(str).str.contains(r'\\(\\d+\\)')]\n",
    "iq_values_estimated.head(10)"
   ]
  },
  {
   "cell_type": "code",
   "execution_count": 38,
   "metadata": {},
   "outputs": [
    {
     "data": {
      "text/plain": [
       "41"
      ]
     },
     "execution_count": 38,
     "metadata": {},
     "output_type": "execute_result"
    }
   ],
   "source": [
    "# Number of countries where the IQ was estimated from the neighbouring countries\n",
    "len(iq_values_estimated)"
   ]
  },
  {
   "cell_type": "markdown",
   "metadata": {},
   "source": [
    "For the sake of this analysis we will treat these scores as actual IQ scores to conduct a meaningful research with a sufficient amount of countries. We understand that this might cause certain biases. Coming up with a better estimation method would be beyond the scope of this project and we could not find another dataset containing these scores."
   ]
  },
  {
   "cell_type": "code",
   "execution_count": 39,
   "metadata": {},
   "outputs": [],
   "source": [
    "# We will keep these values to have enough countries which have an iq value\n",
    "iq_df['IQ'] = iq_df['IQ'].str.replace('(', '').str.replace(')', '').astype(float)"
   ]
  },
  {
   "cell_type": "code",
   "execution_count": 40,
   "metadata": {},
   "outputs": [
    {
     "data": {
      "text/html": [
       "<div>\n",
       "<style scoped>\n",
       "    .dataframe tbody tr th:only-of-type {\n",
       "        vertical-align: middle;\n",
       "    }\n",
       "\n",
       "    .dataframe tbody tr th {\n",
       "        vertical-align: top;\n",
       "    }\n",
       "\n",
       "    .dataframe thead th {\n",
       "        text-align: right;\n",
       "    }\n",
       "</style>\n",
       "<table border=\"1\" class=\"dataframe\">\n",
       "  <thead>\n",
       "    <tr style=\"text-align: right;\">\n",
       "      <th></th>\n",
       "      <th>Country</th>\n",
       "      <th>IQ</th>\n",
       "    </tr>\n",
       "  </thead>\n",
       "  <tbody>\n",
       "    <tr>\n",
       "      <th>0</th>\n",
       "      <td>Singapore</td>\n",
       "      <td>107.1</td>\n",
       "    </tr>\n",
       "    <tr>\n",
       "      <th>1</th>\n",
       "      <td>China</td>\n",
       "      <td>105.8</td>\n",
       "    </tr>\n",
       "    <tr>\n",
       "      <th>2</th>\n",
       "      <td>Hong Kong</td>\n",
       "      <td>105.7</td>\n",
       "    </tr>\n",
       "    <tr>\n",
       "      <th>3</th>\n",
       "      <td>Korea: South</td>\n",
       "      <td>104.6</td>\n",
       "    </tr>\n",
       "    <tr>\n",
       "      <th>4</th>\n",
       "      <td>Taiwan</td>\n",
       "      <td>104.6</td>\n",
       "    </tr>\n",
       "    <tr>\n",
       "      <th>...</th>\n",
       "      <td>...</td>\n",
       "      <td>...</td>\n",
       "    </tr>\n",
       "    <tr>\n",
       "      <th>157</th>\n",
       "      <td>Central African Rep.</td>\n",
       "      <td>64.0</td>\n",
       "    </tr>\n",
       "    <tr>\n",
       "      <th>156</th>\n",
       "      <td>Cameroon</td>\n",
       "      <td>64.0</td>\n",
       "    </tr>\n",
       "    <tr>\n",
       "      <th>160</th>\n",
       "      <td>St Lucia</td>\n",
       "      <td>62.0</td>\n",
       "    </tr>\n",
       "    <tr>\n",
       "      <th>159</th>\n",
       "      <td>Gambia</td>\n",
       "      <td>62.0</td>\n",
       "    </tr>\n",
       "    <tr>\n",
       "      <th>161</th>\n",
       "      <td>Malawi</td>\n",
       "      <td>60.1</td>\n",
       "    </tr>\n",
       "  </tbody>\n",
       "</table>\n",
       "<p>204 rows × 2 columns</p>\n",
       "</div>"
      ],
      "text/plain": [
       "                  Country     IQ\n",
       "0               Singapore  107.1\n",
       "1                   China  105.8\n",
       "2               Hong Kong  105.7\n",
       "3            Korea: South  104.6\n",
       "4                  Taiwan  104.6\n",
       "..                    ...    ...\n",
       "157  Central African Rep.   64.0\n",
       "156              Cameroon   64.0\n",
       "160              St Lucia   62.0\n",
       "159                Gambia   62.0\n",
       "161                Malawi   60.1\n",
       "\n",
       "[204 rows x 2 columns]"
      ]
     },
     "execution_count": 40,
     "metadata": {},
     "output_type": "execute_result"
    }
   ],
   "source": [
    "# Sorting the countries by the HDI\n",
    "iq_df.sort_values(by=['IQ'], ascending=False)"
   ]
  },
  {
   "cell_type": "code",
   "execution_count": 41,
   "metadata": {},
   "outputs": [],
   "source": [
    "# Sorting the countries by the IQ\n",
    "iq_df.set_index('Country',inplace=True)"
   ]
  },
  {
   "cell_type": "markdown",
   "metadata": {},
   "source": [
    "## 2.3 Data Merging"
   ]
  },
  {
   "cell_type": "code",
   "execution_count": 42,
   "metadata": {},
   "outputs": [
    {
     "name": "stdout",
     "output_type": "stream",
     "text": [
      "<class 'pandas.core.frame.DataFrame'>\n",
      "Index: 245 entries, Afghanistan to Sao Tome & Principe\n",
      "Data columns (total 4 columns):\n",
      " #   Column     Non-Null Count  Dtype  \n",
      "---  ------     --------------  -----  \n",
      " 0   HDI Group  191 non-null    object \n",
      " 1   HDI        191 non-null    float64\n",
      " 2   Region     191 non-null    object \n",
      " 3   IQ         204 non-null    float64\n",
      "dtypes: float64(2), object(2)\n",
      "memory usage: 9.6+ KB\n"
     ]
    }
   ],
   "source": [
    "# First outer join the two dataframes to see which countries are missing from \n",
    "# the other dataframe and to filter at those which are represented by different names\n",
    "outer_join_df = hdi_df.merge(iq_df, how='outer',on='Country')\n",
    "outer_join_df.info()"
   ]
  },
  {
   "cell_type": "code",
   "execution_count": 43,
   "metadata": {},
   "outputs": [
    {
     "name": "stdout",
     "output_type": "stream",
     "text": [
      "In IQ but missing in HDI: \n",
      " ['(Serbia &) Montenegro', 'Antigua/Barbuda', 'Bermuda', 'Bolivia', 'Bosnia', 'Brunei', 'Cape Verde', 'Central African Rep.', 'Congo (Brazzaville)', 'Congo (Zaire)', 'Cook Islands', 'CostaRica', \"Cote d'Ivoire\", 'CzechRep.', 'EastTimor', 'England', 'Greenland', 'GuineaBissau', 'Hong Kong', 'Iran', 'Korea: North', 'Korea: South', 'Laos', 'Macao', 'Macedonia', 'Mariana Islands', 'Micronesia', 'Moldova', 'Myanmar/Burma', 'Netherlands Antilles', 'New Caledonia', 'Palestine', 'Papua N.G.', 'Puerto Rico', 'Russia', 'Samoa (Western)', 'Sao Tome & Principe', 'Scotland', 'Serbia & (Montenegro)', 'Somalia', 'St  Helena', 'St Kitts & Nevis', 'St Lucia', 'St Vincent', 'Swaziland', 'Syria', 'Taiwan', 'Tanzania', 'Tibet', 'Trinidad & Tobago', 'USA', 'Venezuela', 'Vietnam', 'Zanzibar']\n",
      "In HDI but missing in IQ: \n",
      " ['Antigua and Barbuda', 'Bolivia (Plurinational State of)', 'Bosnia and Herzegovina', 'Brunei Darussalam', 'Cabo Verde', 'Central African Republic', 'Congo', 'Congo (Democratic Republic of the)', 'Costa Rica', 'Czechia', \"Côte d'Ivoire\", 'Eswatini (Kingdom of)', 'Guinea-Bissau', 'Hong Kong, China (SAR)', 'Iran (Islamic Republic of)', 'Korea (Republic of)', \"Lao People's Democratic Republic\", 'Micronesia (Federated States of)', 'Moldova (Republic of)', 'Myanmar', 'North Macedonia', 'Palau', 'Palestine, State of', 'Papua New Guinea', 'Russian Federation', 'Saint Kitts and Nevis', 'Saint Lucia', 'Saint Vincent and the Grenadines', 'Samoa', 'San Marino', 'Sao Tome and Principe', 'Serbia', 'South Sudan', 'Syrian Arab Republic', 'Tanzania (United Republic of)', 'Timor-Leste', 'Trinidad and Tobago', 'Tuvalu', 'United States', 'Venezuela (Bolivarian Republic of)', 'Viet Nam']\n"
     ]
    }
   ],
   "source": [
    "# Looking at which countries seem to be missing from the other dataframes\n",
    "missing_in_hdi = outer_join_df[outer_join_df['HDI'].isnull()].index\n",
    "missing_in_hdi = sorted(missing_in_hdi.tolist())\n",
    "print(\"In IQ but missing in HDI: \\n\", missing_in_hdi)\n",
    "\n",
    "missing_in_IQ = outer_join_df[outer_join_df['IQ'].isnull()].index\n",
    "missing_in_IQ = sorted(missing_in_IQ.tolist())\n",
    "print('In HDI but missing in IQ: \\n', missing_in_IQ)\n"
   ]
  },
  {
   "cell_type": "markdown",
   "metadata": {},
   "source": [
    "A few countries on the list seem to have data from both data sets, but are named differently, which makes for the large amount of values (252)"
   ]
  },
  {
   "cell_type": "code",
   "execution_count": 44,
   "metadata": {},
   "outputs": [],
   "source": [
    "# We rename these countries so that their names match\n",
    "iq_renaming = {\n",
    "'(Serbia &) Montenegro' : 'Montenegro',\n",
    "'Central African Rep.' : 'Central African Republic',\n",
    "'CostaRica' : 'Costa Rica',\n",
    "'GuineaBissau' : 'Guinea-Bissau',\n",
    "'Myanmar/Burma' : 'Myanmar',\n",
    "'Papua N.G.' : 'Papua New Guinea',\n",
    "'CzechRep.' : 'Czechia',\n",
    "'Macedonia' : 'North Macedonia',\n",
    "'Antigua/Barbuda' : 'Antigua and Barbuda',\n",
    "'Sao Tome & Principe' : 'Sao Tome and Principe',\n",
    "'Serbia & (Montenegro)' : 'Serbia',\n",
    "'Samoa (Western)' : 'Samoa',\n",
    "'St Lucia' : 'Saint Lucia',\n",
    "'Tanzania (United Republic of)' : 'Tanzania',\n",
    "'Trinidad & Tobago' : 'Trinidad and Tobago',\n",
    "}\n",
    "\n",
    "hdi_renaming = {\n",
    "    'Bolivia (Plurinational State of)' : 'Bolivia',\n",
    "    'Bosnia and Herzegovina': 'Bosnia',\n",
    "    'Brunei Darussalam' : 'Brunei',\n",
    "    'Cabo Verde': 'Cape Verde',\n",
    "    'Congo' : 'Congo (Brazzaville)',\n",
    "    'Congo (Democratic Republic of the)' : 'Congo (Zaire)',\n",
    "    'Hong Kong, China (SAR)' : 'Hong Kong',\n",
    "    'Iran (Islamic Republic of)' : 'Iran', \n",
    "    \"Lao People's Democratic Republic\" : 'Laos',\n",
    "    'Moldova (Republic of)' : 'Moldova',\n",
    "    'Palestine, State of' : 'Palestine',\n",
    "    'Russian Federation': 'Russia',\n",
    "    \"Côte d'Ivoire\": \"Cote d'Ivoire\",\n",
    "    'Korea (Republic of)' : 'Korea: South',\n",
    "    'Syrian Arab Republic' : 'Syria',\n",
    "    'Viet Nam' : 'Vietnam',\n",
    "    'Venezuela (Bolivarian Republic of)' : 'Venezuela',\n",
    "    'Tanzania (United Republic of)' : 'Tanzania',\n",
    "    'Saint Vincent and the Grenadines' : 'St Vincent'\n",
    "\n",
    "}\n",
    "iq_df = iq_df.rename(index = iq_renaming)\n",
    "hdi_df = hdi_df.rename(index = hdi_renaming)"
   ]
  },
  {
   "cell_type": "code",
   "execution_count": 45,
   "metadata": {},
   "outputs": [
    {
     "name": "stdout",
     "output_type": "stream",
     "text": [
      "In IQ but missing in HDI: \n",
      " ['Bermuda', 'Cook Islands', 'EastTimor', 'England', 'Greenland', 'Korea: North', 'Macao', 'Mariana Islands', 'Micronesia', 'Netherlands Antilles', 'New Caledonia', 'Puerto Rico', 'Scotland', 'Somalia', 'St  Helena', 'St Kitts & Nevis', 'Swaziland', 'Taiwan', 'Tibet', 'USA', 'Zanzibar']\n",
      "In HDI but missing in IQ: \n",
      " ['Eswatini (Kingdom of)', 'Micronesia (Federated States of)', 'Palau', 'Saint Kitts and Nevis', 'San Marino', 'South Sudan', 'Timor-Leste', 'Tuvalu', 'United States']\n"
     ]
    }
   ],
   "source": [
    "# Looking at the missing values to avoid the case where two countries \n",
    "# are the same but have completely different names\n",
    "outer_join_df = hdi_df.merge(iq_df, how='outer',on='Country')\n",
    "missing_in_hdi = outer_join_df[outer_join_df['HDI'].isnull()].index\n",
    "missing_in_hdi = sorted(missing_in_hdi.tolist())\n",
    "print(\"In IQ but missing in HDI: \\n\", missing_in_hdi)\n",
    "\n",
    "missing_in_IQ = outer_join_df[outer_join_df['IQ'].isnull()].index\n",
    "missing_in_IQ = sorted(missing_in_IQ.tolist())\n",
    "print('In HDI but missing in IQ: \\n', missing_in_IQ)"
   ]
  },
  {
   "cell_type": "code",
   "execution_count": 46,
   "metadata": {},
   "outputs": [
    {
     "name": "stdout",
     "output_type": "stream",
     "text": [
      "In IQ but missing in HDI: \n",
      " ['Bermuda', 'Cook Islands', 'England', 'Greenland', 'Korea: North', 'Macao', 'Mariana Islands', 'Netherlands Antilles', 'New Caledonia', 'Puerto Rico', 'Scotland', 'Somalia', 'St  Helena', 'Taiwan', 'Tibet', 'Zanzibar']\n",
      "In HDI but missing in IQ: \n",
      " ['Palau', 'San Marino', 'South Sudan', 'Tuvalu']\n"
     ]
    }
   ],
   "source": [
    "# Renaming the countries which have completely different names in the two dataframes\n",
    "iq_renamed_indexes = {\n",
    "    'USA': 'United States',\n",
    "    'Swaziland': 'Eswatini',\n",
    "    'EastTimor': 'East Timor',\n",
    "    'St Kitts & Nevis': 'Saint Kitts and Nevis',\n",
    "} \n",
    "\n",
    "hdi_renamed_indexes = {\n",
    "    'Eswatini (Kingdom of)': 'Eswatini',\n",
    "    'Micronesia (Federated States of)': 'Micronesia',\n",
    "    'Timor-Leste': 'East Timor'\n",
    "}\n",
    "\n",
    "iq_df = iq_df.rename(index = iq_renamed_indexes)\n",
    "hdi_df = hdi_df.rename(index = hdi_renamed_indexes)\n",
    "\n",
    "# Looking at the two dataframes again\n",
    "outer_join_df = hdi_df.merge(iq_df, how='outer',on='Country')\n",
    "missing_in_hdi = outer_join_df[outer_join_df['HDI'].isnull()].index\n",
    "missing_in_hdi = sorted(missing_in_hdi.tolist())\n",
    "print(\"In IQ but missing in HDI: \\n\", missing_in_hdi)\n",
    "\n",
    "missing_in_IQ = outer_join_df[outer_join_df['IQ'].isnull()].index\n",
    "missing_in_IQ = sorted(missing_in_IQ.tolist())\n",
    "print('In HDI but missing in IQ: \\n', missing_in_IQ)"
   ]
  },
  {
   "cell_type": "markdown",
   "metadata": {},
   "source": [
    "We do not see any more countries that are present in both datasets, thus we can inner merge them to get our final merged dataframe."
   ]
  },
  {
   "cell_type": "code",
   "execution_count": 47,
   "metadata": {},
   "outputs": [],
   "source": [
    "merged_df = hdi_df.merge(iq_df, how='inner',on='Country')"
   ]
  },
  {
   "cell_type": "code",
   "execution_count": 48,
   "metadata": {},
   "outputs": [
    {
     "name": "stdout",
     "output_type": "stream",
     "text": [
      "<class 'pandas.core.frame.DataFrame'>\n",
      "Index: 188 entries, Afghanistan to Zimbabwe\n",
      "Data columns (total 4 columns):\n",
      " #   Column     Non-Null Count  Dtype  \n",
      "---  ------     --------------  -----  \n",
      " 0   HDI Group  188 non-null    object \n",
      " 1   HDI        188 non-null    float64\n",
      " 2   Region     188 non-null    object \n",
      " 3   IQ         188 non-null    float64\n",
      "dtypes: float64(2), object(2)\n",
      "memory usage: 7.3+ KB\n"
     ]
    }
   ],
   "source": [
    "merged_df.info()"
   ]
  },
  {
   "cell_type": "markdown",
   "metadata": {},
   "source": [
    "# 3.  DESCRIPTIVE STATISTICS"
   ]
  },
  {
   "cell_type": "markdown",
   "metadata": {},
   "source": [
    "## 3.1  Univariate analysis"
   ]
  },
  {
   "cell_type": "markdown",
   "metadata": {},
   "source": [
    "### 3.1.1 HDI"
   ]
  },
  {
   "cell_type": "code",
   "execution_count": 49,
   "metadata": {},
   "outputs": [
    {
     "name": "stderr",
     "output_type": "stream",
     "text": [
      "c:\\Users\\hutte\\anaconda3\\Lib\\site-packages\\seaborn\\_oldcore.py:1119: FutureWarning: use_inf_as_na option is deprecated and will be removed in a future version. Convert inf values to NaN before operating instead.\n",
      "  with pd.option_context('mode.use_inf_as_na', True):\n"
     ]
    },
    {
     "data": {
      "image/png": "[encoded data removed]",
      "text/plain": [
       "<Figure size 640x480 with 2 Axes>"
      ]
     },
     "metadata": {},
     "output_type": "display_data"
    }
   ],
   "source": [
    "# Plotting histogram\n",
    "sns.histplot(hdi_df['HDI'], color='orange', alpha=0.5)\n",
    "\n",
    "# Creating meaningful labels with corresponding colors and readable font sizes\n",
    "plt.xlabel('HDI', fontsize=12)\n",
    "plt.ylabel('Count', fontsize=12, color='#FF8C00')\n",
    "\n",
    "# Create a second y-axis for ECDF\n",
    "ax2 = plt.gca().twinx()\n",
    "\n",
    "# Computing ECDF\n",
    "sorted_hdi = np.sort(hdi_df['HDI'])\n",
    "n = sorted_hdi.size\n",
    "ecdf = np.arange(1, n + 1) / n\n",
    "\n",
    "# Plotting ECDF\n",
    "ax2.plot(sorted_hdi, ecdf, color='red')\n",
    "ax2.set_ylabel('ECDF', fontsize=12, color = 'red')\n",
    "\n",
    "# Adding mean, standard deviation, skewness, and kurtosis to the legend\n",
    "mean_hdi, standard_dev_hdi, skewness_hdi, kurtosis_hdi = hdi_df['HDI'].mean(), hdi_df['HDI'].std(), skew(hdi_df['HDI']), kurtosis(hdi_df['HDI'])\n",
    "plt.text(0.03, 0.8, 'Mean: {:.2f}\\nStd: {:.2f}\\nSkew: {:.2f}\\nKurt: {:.2f}'.format(mean_hdi, standard_dev_hdi, skewness_hdi, kurtosis_hdi),\n",
    "         transform=plt.gca().transAxes, fontsize=10,  bbox=dict(facecolor='white', alpha=0.7))\n",
    "\n",
    "# Adding title\n",
    "plt.title('HDI Distribution', fontsize=15)\n",
    "\n",
    "plt.show()"
   ]
  },
  {
   "cell_type": "code",
   "execution_count": 97,
   "metadata": {},
   "outputs": [
    {
     "data": {
      "image/png": "[encoded data removed]",
      "text/plain": [
       "<Figure size 640x480 with 1 Axes>"
      ]
     },
     "metadata": {},
     "output_type": "display_data"
    }
   ],
   "source": [
    "# plot ecdf alongside the theoretical ecdf\n",
    "fig, ax = plt.subplots()\n",
    "\n",
    "\n",
    "# Computing and plotting normalized ECDF\n",
    "data =  hdi_df['HDI'].tolist()\n",
    "mu = np.mean(data)\n",
    "sigma = np.std(data)\n",
    "sorted_hdi = np.sort((data-mu)/sigma)\n",
    "n = sorted_hdi.size\n",
    "ecdf = np.arange(1, n + 1) / n\n",
    "ax.plot(sorted_hdi, ecdf,label=\"ecdf\")\n",
    "\n",
    "# Plot theoretical CDF\n",
    "ax.plot(sorted_hdi, stats.norm.cdf(sorted_hdi), label ='cdf')\n",
    "\n",
    "\n",
    "# run the Kolmogorov-Smirnov test\n",
    "pval =  stats.ks_1samp((data-mu)/sigma, stats.norm.cdf)[1]\n",
    "plt.text(-2.35, 0.83, 'KStest = %.4f'%pval)\n",
    "\n",
    "ax.set_xlabel('HDI')\n",
    "ax.set_ylabel('Cumulative Probabilities')\n",
    "plt.title('HDI ECDF compared to Normal CDF Distribution')\n",
    "\n",
    "plt.legend()\n",
    "plt.show()"
   ]
  },
  {
   "cell_type": "markdown",
   "metadata": {},
   "source": [
    "Since p-value for the Kolmogrov-Smirnov test is $0.5516$ we can reject the Null Hypothesis that the HDI distribution is drawn from a normal distribution."
   ]
  },
  {
   "cell_type": "code",
   "execution_count": 50,
   "metadata": {},
   "outputs": [],
   "source": [
    "# Creating color palette for the regions\n",
    "region_col = merged_df[\"Region\"].unique()\n",
    "color_dict = dict(sorted(dict(zip(region_col, sns.color_palette(\"muted\", len(region_col)))).items()))"
   ]
  },
  {
   "cell_type": "code",
   "execution_count": 51,
   "metadata": {},
   "outputs": [
    {
     "data": {
      "image/png": "[encoded data removed]",
      "text/plain": [
       "<Figure size 800x800 with 1 Axes>"
      ]
     },
     "metadata": {},
     "output_type": "display_data"
    }
   ],
   "source": [
    "plt.figure(figsize=(8, 8))  # Increase the height of the figure\n",
    "\n",
    "sns.boxplot(data=merged_df, x='HDI', y='Region', hue='Region', palette=color_dict)\n",
    "\n",
    "# Increase font of the title and the labels\n",
    "plt.title('HDI of countries by region', fontsize=20)\n",
    "plt.xlabel('HDI', fontsize=15)\n",
    "plt.ylabel('Region', fontsize=15)\n",
    "plt.xticks(rotation=45)\n",
    "plt.show()"
   ]
  },
  {
   "cell_type": "code",
   "execution_count": 52,
   "metadata": {},
   "outputs": [
    {
     "name": "stdout",
     "output_type": "stream",
     "text": [
      "SA and AS are not significantly different with p-value 0.20904982271462957\n",
      "SA and EAP are not significantly different with p-value 0.12957966450502695\n",
      "AS and SA are not significantly different with p-value 0.20904982271462957\n",
      "AS and AME are not significantly different with p-value 0.2543059230885947\n",
      "AS and EAP are not significantly different with p-value 0.8016343816210654\n",
      "AME and AS are not significantly different with p-value 0.2543059230885947\n",
      "AME and EAP are not significantly different with p-value 0.3920599362152216\n",
      "EAP and SA are not significantly different with p-value 0.12957966450502695\n",
      "EAP and AS are not significantly different with p-value 0.8016343816210654\n",
      "EAP and AME are not significantly different with p-value 0.3920599362152216\n"
     ]
    }
   ],
   "source": [
    "stats.f_oneway(\n",
    "    merged_df[merged_df['Region'] == 'EAP']['HDI'],\n",
    "    merged_df[merged_df['Region'] == 'ECA']['HDI'],\n",
    "    merged_df[merged_df['Region'] == 'AME']['HDI'],\n",
    "    merged_df[merged_df['Region'] == 'SSA']['HDI'],\n",
    "    merged_df[merged_df['Region'] == 'SA']['HDI'],\n",
    "    merged_df[merged_df['Region'] == 'AS']['HDI'],\n",
    "    )\n",
    "compared_reg = []\n",
    "for region_base in merged_df['Region'].unique():\n",
    "    for region_compare in merged_df['Region'].unique():\n",
    "        if region_base != region_compare:\n",
    "            t, p = stats.ttest_ind(merged_df[merged_df['Region'] == region_base]['HDI'], merged_df[merged_df['Region'] == region_compare]['HDI'])\n",
    "            if p > 0.05:\n",
    "                print(f\"{region_base} and {region_compare} are not significantly different with p-value {p}\")\n",
    "                #compared_reg.append()"
   ]
  },
  {
   "cell_type": "markdown",
   "metadata": {},
   "source": [
    "As we can see we have a couple of ouliers (if we determine them by IQR). Lets look at them separately:"
   ]
  },
  {
   "cell_type": "code",
   "execution_count": 53,
   "metadata": {},
   "outputs": [
    {
     "data": {
      "text/html": [
       "<div>\n",
       "<style scoped>\n",
       "    .dataframe tbody tr th:only-of-type {\n",
       "        vertical-align: middle;\n",
       "    }\n",
       "\n",
       "    .dataframe tbody tr th {\n",
       "        vertical-align: top;\n",
       "    }\n",
       "\n",
       "    .dataframe thead th {\n",
       "        text-align: right;\n",
       "    }\n",
       "</style>\n",
       "<table border=\"1\" class=\"dataframe\">\n",
       "  <thead>\n",
       "    <tr style=\"text-align: right;\">\n",
       "      <th></th>\n",
       "      <th>HDI Group</th>\n",
       "      <th>HDI</th>\n",
       "      <th>Region</th>\n",
       "      <th>IQ</th>\n",
       "    </tr>\n",
       "    <tr>\n",
       "      <th>Country</th>\n",
       "      <th></th>\n",
       "      <th></th>\n",
       "      <th></th>\n",
       "      <th></th>\n",
       "    </tr>\n",
       "  </thead>\n",
       "  <tbody>\n",
       "    <tr>\n",
       "      <th>Mauritius</th>\n",
       "      <td>Very High</td>\n",
       "      <td>0.802</td>\n",
       "      <td>SSA</td>\n",
       "      <td>88.0</td>\n",
       "    </tr>\n",
       "    <tr>\n",
       "      <th>Seychelles</th>\n",
       "      <td>High</td>\n",
       "      <td>0.785</td>\n",
       "      <td>SSA</td>\n",
       "      <td>84.4</td>\n",
       "    </tr>\n",
       "    <tr>\n",
       "      <th>South Africa</th>\n",
       "      <td>High</td>\n",
       "      <td>0.713</td>\n",
       "      <td>SSA</td>\n",
       "      <td>71.6</td>\n",
       "    </tr>\n",
       "    <tr>\n",
       "      <th>Gabon</th>\n",
       "      <td>High</td>\n",
       "      <td>0.706</td>\n",
       "      <td>SSA</td>\n",
       "      <td>69.0</td>\n",
       "    </tr>\n",
       "  </tbody>\n",
       "</table>\n",
       "</div>"
      ],
      "text/plain": [
       "              HDI Group    HDI Region    IQ\n",
       "Country                                    \n",
       "Mauritius     Very High  0.802    SSA  88.0\n",
       "Seychelles         High  0.785    SSA  84.4\n",
       "South Africa       High  0.713    SSA  71.6\n",
       "Gabon              High  0.706    SSA  69.0"
      ]
     },
     "execution_count": 53,
     "metadata": {},
     "output_type": "execute_result"
    }
   ],
   "source": [
    "merged_df[merged_df['Region'] == 'SSA'].sort_values(by='HDI', ascending=False).head(4)"
   ]
  },
  {
   "cell_type": "markdown",
   "metadata": {},
   "source": [
    "The HDI of the Seychelles and the HDI of Mauritius is 10-15% higher than the HDI of the next best country."
   ]
  },
  {
   "cell_type": "code",
   "execution_count": 54,
   "metadata": {},
   "outputs": [
    {
     "data": {
      "text/html": [
       "<div>\n",
       "<style scoped>\n",
       "    .dataframe tbody tr th:only-of-type {\n",
       "        vertical-align: middle;\n",
       "    }\n",
       "\n",
       "    .dataframe tbody tr th {\n",
       "        vertical-align: top;\n",
       "    }\n",
       "\n",
       "    .dataframe thead th {\n",
       "        text-align: right;\n",
       "    }\n",
       "</style>\n",
       "<table border=\"1\" class=\"dataframe\">\n",
       "  <thead>\n",
       "    <tr style=\"text-align: right;\">\n",
       "      <th></th>\n",
       "      <th>HDI Group</th>\n",
       "      <th>HDI</th>\n",
       "      <th>Region</th>\n",
       "      <th>IQ</th>\n",
       "    </tr>\n",
       "    <tr>\n",
       "      <th>Country</th>\n",
       "      <th></th>\n",
       "      <th></th>\n",
       "      <th></th>\n",
       "      <th></th>\n",
       "    </tr>\n",
       "  </thead>\n",
       "  <tbody>\n",
       "    <tr>\n",
       "      <th>Syria</th>\n",
       "      <td>Medium</td>\n",
       "      <td>0.577</td>\n",
       "      <td>AS</td>\n",
       "      <td>82.0</td>\n",
       "    </tr>\n",
       "    <tr>\n",
       "      <th>Djibouti</th>\n",
       "      <td>Low</td>\n",
       "      <td>0.509</td>\n",
       "      <td>AS</td>\n",
       "      <td>75.0</td>\n",
       "    </tr>\n",
       "    <tr>\n",
       "      <th>Sudan</th>\n",
       "      <td>Low</td>\n",
       "      <td>0.508</td>\n",
       "      <td>AS</td>\n",
       "      <td>77.5</td>\n",
       "    </tr>\n",
       "    <tr>\n",
       "      <th>Yemen</th>\n",
       "      <td>Low</td>\n",
       "      <td>0.455</td>\n",
       "      <td>AS</td>\n",
       "      <td>80.5</td>\n",
       "    </tr>\n",
       "  </tbody>\n",
       "</table>\n",
       "</div>"
      ],
      "text/plain": [
       "         HDI Group    HDI Region    IQ\n",
       "Country                               \n",
       "Syria       Medium  0.577     AS  82.0\n",
       "Djibouti       Low  0.509     AS  75.0\n",
       "Sudan          Low  0.508     AS  77.5\n",
       "Yemen          Low  0.455     AS  80.5"
      ]
     },
     "execution_count": 54,
     "metadata": {},
     "output_type": "execute_result"
    }
   ],
   "source": [
    "merged_df[merged_df['Region'] == 'AS'].sort_values(by='HDI', ascending=False).tail(4)"
   ]
  },
  {
   "cell_type": "markdown",
   "metadata": {},
   "source": [
    "The HDI of Yemen is about 10% lower than the HDI of the next lowest country."
   ]
  },
  {
   "cell_type": "code",
   "execution_count": 55,
   "metadata": {},
   "outputs": [
    {
     "data": {
      "text/html": [
       "<div>\n",
       "<style scoped>\n",
       "    .dataframe tbody tr th:only-of-type {\n",
       "        vertical-align: middle;\n",
       "    }\n",
       "\n",
       "    .dataframe tbody tr th {\n",
       "        vertical-align: top;\n",
       "    }\n",
       "\n",
       "    .dataframe thead th {\n",
       "        text-align: right;\n",
       "    }\n",
       "</style>\n",
       "<table border=\"1\" class=\"dataframe\">\n",
       "  <thead>\n",
       "    <tr style=\"text-align: right;\">\n",
       "      <th></th>\n",
       "      <th>HDI Group</th>\n",
       "      <th>HDI</th>\n",
       "      <th>Region</th>\n",
       "      <th>IQ</th>\n",
       "    </tr>\n",
       "    <tr>\n",
       "      <th>Country</th>\n",
       "      <th></th>\n",
       "      <th></th>\n",
       "      <th></th>\n",
       "      <th></th>\n",
       "    </tr>\n",
       "  </thead>\n",
       "  <tbody>\n",
       "    <tr>\n",
       "      <th>Nicaragua</th>\n",
       "      <td>Medium</td>\n",
       "      <td>0.667</td>\n",
       "      <td>AME</td>\n",
       "      <td>84.0</td>\n",
       "    </tr>\n",
       "    <tr>\n",
       "      <th>Guatemala</th>\n",
       "      <td>Medium</td>\n",
       "      <td>0.627</td>\n",
       "      <td>AME</td>\n",
       "      <td>79.0</td>\n",
       "    </tr>\n",
       "    <tr>\n",
       "      <th>Honduras</th>\n",
       "      <td>Medium</td>\n",
       "      <td>0.621</td>\n",
       "      <td>AME</td>\n",
       "      <td>81.0</td>\n",
       "    </tr>\n",
       "    <tr>\n",
       "      <th>Haiti</th>\n",
       "      <td>Low</td>\n",
       "      <td>0.535</td>\n",
       "      <td>AME</td>\n",
       "      <td>67.0</td>\n",
       "    </tr>\n",
       "  </tbody>\n",
       "</table>\n",
       "</div>"
      ],
      "text/plain": [
       "          HDI Group    HDI Region    IQ\n",
       "Country                                \n",
       "Nicaragua    Medium  0.667    AME  84.0\n",
       "Guatemala    Medium  0.627    AME  79.0\n",
       "Honduras     Medium  0.621    AME  81.0\n",
       "Haiti           Low  0.535    AME  67.0"
      ]
     },
     "execution_count": 55,
     "metadata": {},
     "output_type": "execute_result"
    }
   ],
   "source": [
    "merged_df[merged_df['Region'] == 'AME'].sort_values(by='HDI', ascending=False).tail(4)"
   ]
  },
  {
   "cell_type": "markdown",
   "metadata": {},
   "source": [
    "The HDI of Haiti is about 15% lower than the HDI of the next lowest country."
   ]
  },
  {
   "cell_type": "code",
   "execution_count": 56,
   "metadata": {},
   "outputs": [
    {
     "data": {
      "text/html": [
       "<div>\n",
       "<style scoped>\n",
       "    .dataframe tbody tr th:only-of-type {\n",
       "        vertical-align: middle;\n",
       "    }\n",
       "\n",
       "    .dataframe tbody tr th {\n",
       "        vertical-align: top;\n",
       "    }\n",
       "\n",
       "    .dataframe thead th {\n",
       "        text-align: right;\n",
       "    }\n",
       "</style>\n",
       "<table border=\"1\" class=\"dataframe\">\n",
       "  <thead>\n",
       "    <tr style=\"text-align: right;\">\n",
       "      <th></th>\n",
       "      <th>HDI Group</th>\n",
       "      <th>HDI</th>\n",
       "      <th>Region</th>\n",
       "      <th>IQ</th>\n",
       "    </tr>\n",
       "    <tr>\n",
       "      <th>Country</th>\n",
       "      <th></th>\n",
       "      <th></th>\n",
       "      <th></th>\n",
       "      <th></th>\n",
       "    </tr>\n",
       "  </thead>\n",
       "  <tbody>\n",
       "    <tr>\n",
       "      <th>Canada</th>\n",
       "      <td>Very High</td>\n",
       "      <td>0.936</td>\n",
       "      <td>AME</td>\n",
       "      <td>100.4</td>\n",
       "    </tr>\n",
       "    <tr>\n",
       "      <th>United States</th>\n",
       "      <td>Very High</td>\n",
       "      <td>0.921</td>\n",
       "      <td>AME</td>\n",
       "      <td>97.5</td>\n",
       "    </tr>\n",
       "    <tr>\n",
       "      <th>Chile</th>\n",
       "      <td>Very High</td>\n",
       "      <td>0.855</td>\n",
       "      <td>AME</td>\n",
       "      <td>89.8</td>\n",
       "    </tr>\n",
       "    <tr>\n",
       "      <th>Argentina</th>\n",
       "      <td>Very High</td>\n",
       "      <td>0.842</td>\n",
       "      <td>AME</td>\n",
       "      <td>92.8</td>\n",
       "    </tr>\n",
       "  </tbody>\n",
       "</table>\n",
       "</div>"
      ],
      "text/plain": [
       "               HDI Group    HDI Region     IQ\n",
       "Country                                      \n",
       "Canada         Very High  0.936    AME  100.4\n",
       "United States  Very High  0.921    AME   97.5\n",
       "Chile          Very High  0.855    AME   89.8\n",
       "Argentina      Very High  0.842    AME   92.8"
      ]
     },
     "execution_count": 56,
     "metadata": {},
     "output_type": "execute_result"
    }
   ],
   "source": [
    "merged_df[merged_df['Region'] == 'AME'].sort_values(by='HDI', ascending=False).head(4)"
   ]
  },
  {
   "cell_type": "markdown",
   "metadata": {},
   "source": [
    "We can see that Canada is classified as an outlier (as expected) and is by almost 10% higher than Chile. The US is still not classified as an outlier even though it might look like as an outlier (and we would expect it to be one)."
   ]
  },
  {
   "cell_type": "code",
   "execution_count": 99,
   "metadata": {},
   "outputs": [
    {
     "data": {
      "image/png": "[encoded data removed]",
      "text/plain": [
       "<Figure size 640x480 with 1 Axes>"
      ]
     },
     "metadata": {},
     "output_type": "display_data"
    }
   ],
   "source": [
    "# Creating a count plot for the HDI Groups\n",
    "sns.countplot(data=merged_df, \n",
    "              y=\"Region\", \n",
    "              hue=\"HDI Group\", \n",
    "              #order=merged_df[\"Region\"], # bug creates sub hue plots\n",
    "              palette=\"GnBu_r\")\n",
    "\n",
    "plt.legend(title=\"HDI\",frameon=False)\n",
    "plt.title('HDI Group by Region', fontsize=15)\n",
    "plt.xlabel('Count', fontsize=12)\n",
    "plt.ylabel('Region', fontsize=12)\n",
    "\n",
    "# Add error bars\n",
    "\n",
    "plt.show()"
   ]
  },
  {
   "cell_type": "markdown",
   "metadata": {},
   "source": [
    "### 3.1.2 IQ"
   ]
  },
  {
   "cell_type": "markdown",
   "metadata": {},
   "source": [
    "The IQ of the world is distributed normally around 100. As this looks at the IQ of the population of the world and in our analysis we have the IQ of different countries to get the same result we would have to give our countries different weights to achieve the same result (as this datasets gives the same weigth for India and Hungary even though their population differs massively). Thus, this distriubtuion is not normal around 100 (or slightly underneath), as this is a histogram of countries and not population individuals. But it shows that more countries have under average (=100) IQ."
   ]
  },
  {
   "cell_type": "code",
   "execution_count": 58,
   "metadata": {},
   "outputs": [
    {
     "name": "stderr",
     "output_type": "stream",
     "text": [
      "c:\\Users\\hutte\\anaconda3\\Lib\\site-packages\\seaborn\\_oldcore.py:1119: FutureWarning: use_inf_as_na option is deprecated and will be removed in a future version. Convert inf values to NaN before operating instead.\n",
      "  with pd.option_context('mode.use_inf_as_na', True):\n"
     ]
    },
    {
     "data": {
      "image/png": "[encoded data removed]",
      "text/plain": [
       "<Figure size 640x480 with 2 Axes>"
      ]
     },
     "metadata": {},
     "output_type": "display_data"
    }
   ],
   "source": [
    "# Plot histogram\n",
    "sns.histplot(iq_df['IQ'], color='#00b4d8', alpha=0.7)\n",
    "# Setting readable labels with corresponding colors and font sizes\n",
    "plt.xlabel('IQ', fontsize=12)\n",
    "plt.ylabel('Count', fontsize=12, color='#00b4d8')\n",
    "\n",
    "# Create a second y-axis for ECDF\n",
    "ax2 = plt.gca().twinx()\n",
    "\n",
    "# Computeing ECDF\n",
    "sorted_hdi = np.sort(iq_df['IQ'])\n",
    "n = sorted_hdi.size\n",
    "ecdf = np.arange(1, n + 1) / n\n",
    "\n",
    "# Plotting ECDF\n",
    "ax2.plot(sorted_hdi, ecdf, color='blue')\n",
    "ax2.set_ylabel('ECDF', fontsize=12, color = 'blue')\n",
    "\n",
    "# Calculating and adding mean, standard deviation, skewness, and kurtosis to the legend\n",
    "mean_iq, standard_dev_iq, skewness_iq, kurtosis_iq = merged_df['IQ'].mean(), merged_df['IQ'].std(), skew(merged_df['IQ']), kurtosis(merged_df['IQ'])\n",
    "plt.text(0.03, 0.8, 'Mean: {:.2f}\\nStd: {:.2f}\\nSkew: {:.2f}\\nKurt: {:.2f}'.format(mean_iq, standard_dev_iq, skewness_iq, kurtosis_iq),\n",
    "         transform=plt.gca().transAxes, fontsize=10,  bbox=dict(facecolor='white', alpha=0.7))\n",
    "\n",
    "# Add title\n",
    "plt.title('IQ Distribution', fontsize=15)\n",
    "\n",
    "plt.show()"
   ]
  },
  {
   "cell_type": "code",
   "execution_count": 96,
   "metadata": {},
   "outputs": [
    {
     "data": {
      "image/png": "[encoded data removed]",
      "text/plain": [
       "<Figure size 640x480 with 1 Axes>"
      ]
     },
     "metadata": {},
     "output_type": "display_data"
    }
   ],
   "source": [
    "# plot ecdf alongside the theoretical ecdf\n",
    "fig, ax = plt.subplots()\n",
    "\n",
    "\n",
    "# Computing and plotting normalized ECDF\n",
    "data =  iq_df['IQ'].tolist()\n",
    "mu = np.mean(data)\n",
    "sigma = np.std(data)\n",
    "sorted_hdi = np.sort((data-mu)/sigma)\n",
    "n = sorted_hdi.size\n",
    "ecdf = np.arange(1, n + 1) / n\n",
    "ax.plot(sorted_hdi, ecdf,label=\"ecdf\")\n",
    "\n",
    "# Plot theoretical CDF\n",
    "ax.plot(sorted_hdi, stats.norm.cdf(sorted_hdi), label ='cdf')\n",
    "\n",
    "\n",
    "# run the Kolmogorov-Smirnov test\n",
    "pval =  stats.ks_1samp((data-mu)/sigma, stats.norm.cdf)[1]\n",
    "plt.text(-2.35, 0.83, 'KStest = %.4f'%pval)\n",
    "\n",
    "ax.set_xlabel('IQ')\n",
    "ax.set_ylabel('Cumulative Probabilities')\n",
    "plt.title('IQ ECDF compared to Normal CDF Distribution')\n",
    "plt.legend()\n",
    "plt.show()"
   ]
  },
  {
   "cell_type": "markdown",
   "metadata": {},
   "source": [
    "Similar as to HDI: Since p-value for the Kolmogrov-Smirnov test is very high with $0.4246$ we can reject the Null Hypothesis that the Average IQ distribution is drawn from a normal distribution."
   ]
  },
  {
   "cell_type": "code",
   "execution_count": 59,
   "metadata": {},
   "outputs": [
    {
     "data": {
      "image/png": "[encoded data removed]",
      "text/plain": [
       "<Figure size 800x800 with 1 Axes>"
      ]
     },
     "metadata": {},
     "output_type": "display_data"
    }
   ],
   "source": [
    "# Create a boxplot for the HDI of the countries sorted by region\n",
    "plt.figure(figsize=(8,8))\n",
    "sns.boxplot(data=merged_df, x='IQ', y='Region', hue = 'Region', palette=color_dict)\n",
    "# Increase font of the title and the labels\n",
    "plt.title('IQ of countries by region', fontsize=20)\n",
    "plt.xlabel('IQ', fontsize=15)\n",
    "plt.ylabel('Region', fontsize=15)\n",
    "plt.xticks(rotation=45)\n",
    "\n",
    "plt.show()"
   ]
  },
  {
   "cell_type": "code",
   "execution_count": 60,
   "metadata": {},
   "outputs": [
    {
     "name": "stdout",
     "output_type": "stream",
     "text": [
      "SA and AS are not significantly different with p-value 0.05126152405518301\n",
      "SA and AME are not significantly different with p-value 0.6098296807899326\n",
      "ECA and EAP are not significantly different with p-value 0.20061949688130293\n",
      "AS and SA are not significantly different with p-value 0.05126152405518301\n",
      "AS and AME are not significantly different with p-value 0.5299662931877493\n",
      "AME and SA are not significantly different with p-value 0.6098296807899326\n",
      "AME and AS are not significantly different with p-value 0.5299662931877493\n",
      "EAP and ECA are not significantly different with p-value 0.20061949688130293\n"
     ]
    }
   ],
   "source": [
    "stats.f_oneway(\n",
    "    merged_df[merged_df['Region'] == 'EAP']['IQ'],\n",
    "    merged_df[merged_df['Region'] == 'ECA']['IQ'],\n",
    "    merged_df[merged_df['Region'] == 'AME']['IQ'],\n",
    "    merged_df[merged_df['Region'] == 'SSA']['IQ'],\n",
    "    merged_df[merged_df['Region'] == 'SA']['IQ'],\n",
    "    merged_df[merged_df['Region'] == 'AS']['IQ'],\n",
    "    )\n",
    "\n",
    "for region_base in merged_df['Region'].unique():\n",
    "    for region_compare in merged_df['Region'].unique():\n",
    "        if region_base != region_compare:\n",
    "            t, p = stats.ttest_ind(merged_df[merged_df['Region'] == region_base]['IQ'], merged_df[merged_df['Region'] == region_compare]['IQ'])\n",
    "            if p > 0.05:\n",
    "                print(f\"{region_base} and {region_compare} are not significantly different with p-value {p}\")\n",
    "    "
   ]
  },
  {
   "cell_type": "code",
   "execution_count": 61,
   "metadata": {},
   "outputs": [
    {
     "data": {
      "text/html": [
       "<div>\n",
       "<style scoped>\n",
       "    .dataframe tbody tr th:only-of-type {\n",
       "        vertical-align: middle;\n",
       "    }\n",
       "\n",
       "    .dataframe tbody tr th {\n",
       "        vertical-align: top;\n",
       "    }\n",
       "\n",
       "    .dataframe thead th {\n",
       "        text-align: right;\n",
       "    }\n",
       "</style>\n",
       "<table border=\"1\" class=\"dataframe\">\n",
       "  <thead>\n",
       "    <tr style=\"text-align: right;\">\n",
       "      <th></th>\n",
       "      <th>HDI Group</th>\n",
       "      <th>HDI</th>\n",
       "      <th>Region</th>\n",
       "      <th>IQ</th>\n",
       "    </tr>\n",
       "    <tr>\n",
       "      <th>Country</th>\n",
       "      <th></th>\n",
       "      <th></th>\n",
       "      <th></th>\n",
       "      <th></th>\n",
       "    </tr>\n",
       "  </thead>\n",
       "  <tbody>\n",
       "    <tr>\n",
       "      <th>Mauritius</th>\n",
       "      <td>Very High</td>\n",
       "      <td>0.802</td>\n",
       "      <td>SSA</td>\n",
       "      <td>88.0</td>\n",
       "    </tr>\n",
       "    <tr>\n",
       "      <th>Seychelles</th>\n",
       "      <td>High</td>\n",
       "      <td>0.785</td>\n",
       "      <td>SSA</td>\n",
       "      <td>84.4</td>\n",
       "    </tr>\n",
       "    <tr>\n",
       "      <th>Madagascar</th>\n",
       "      <td>Low</td>\n",
       "      <td>0.501</td>\n",
       "      <td>SSA</td>\n",
       "      <td>82.0</td>\n",
       "    </tr>\n",
       "    <tr>\n",
       "      <th>Comoros</th>\n",
       "      <td>Medium</td>\n",
       "      <td>0.558</td>\n",
       "      <td>SSA</td>\n",
       "      <td>77.0</td>\n",
       "    </tr>\n",
       "    <tr>\n",
       "      <th>Botswana</th>\n",
       "      <td>Medium</td>\n",
       "      <td>0.693</td>\n",
       "      <td>SSA</td>\n",
       "      <td>76.9</td>\n",
       "    </tr>\n",
       "  </tbody>\n",
       "</table>\n",
       "</div>"
      ],
      "text/plain": [
       "            HDI Group    HDI Region    IQ\n",
       "Country                                  \n",
       "Mauritius   Very High  0.802    SSA  88.0\n",
       "Seychelles       High  0.785    SSA  84.4\n",
       "Madagascar        Low  0.501    SSA  82.0\n",
       "Comoros        Medium  0.558    SSA  77.0\n",
       "Botswana       Medium  0.693    SSA  76.9"
      ]
     },
     "execution_count": 61,
     "metadata": {},
     "output_type": "execute_result"
    }
   ],
   "source": [
    "merged_df[merged_df['Region'] == 'SSA'].sort_values(by='IQ', ascending=False).head(5)"
   ]
  },
  {
   "cell_type": "markdown",
   "metadata": {},
   "source": [
    "Interestingly, Seychelles and Mauritius were both classified as upper outliers (and the only upper outliers) regarding both IQ and HDI."
   ]
  },
  {
   "cell_type": "code",
   "execution_count": 62,
   "metadata": {},
   "outputs": [
    {
     "data": {
      "text/html": [
       "<div>\n",
       "<style scoped>\n",
       "    .dataframe tbody tr th:only-of-type {\n",
       "        vertical-align: middle;\n",
       "    }\n",
       "\n",
       "    .dataframe tbody tr th {\n",
       "        vertical-align: top;\n",
       "    }\n",
       "\n",
       "    .dataframe thead th {\n",
       "        text-align: right;\n",
       "    }\n",
       "</style>\n",
       "<table border=\"1\" class=\"dataframe\">\n",
       "  <thead>\n",
       "    <tr style=\"text-align: right;\">\n",
       "      <th></th>\n",
       "      <th>HDI Group</th>\n",
       "      <th>HDI</th>\n",
       "      <th>Region</th>\n",
       "      <th>IQ</th>\n",
       "    </tr>\n",
       "    <tr>\n",
       "      <th>Country</th>\n",
       "      <th></th>\n",
       "      <th></th>\n",
       "      <th></th>\n",
       "      <th></th>\n",
       "    </tr>\n",
       "  </thead>\n",
       "  <tbody>\n",
       "    <tr>\n",
       "      <th>Sierra Leone</th>\n",
       "      <td>Low</td>\n",
       "      <td>0.477</td>\n",
       "      <td>SSA</td>\n",
       "      <td>64.0</td>\n",
       "    </tr>\n",
       "    <tr>\n",
       "      <th>Cameroon</th>\n",
       "      <td>Medium</td>\n",
       "      <td>0.576</td>\n",
       "      <td>SSA</td>\n",
       "      <td>64.0</td>\n",
       "    </tr>\n",
       "    <tr>\n",
       "      <th>Central African Republic</th>\n",
       "      <td>Low</td>\n",
       "      <td>0.404</td>\n",
       "      <td>SSA</td>\n",
       "      <td>64.0</td>\n",
       "    </tr>\n",
       "    <tr>\n",
       "      <th>Gambia</th>\n",
       "      <td>Low</td>\n",
       "      <td>0.500</td>\n",
       "      <td>SSA</td>\n",
       "      <td>62.0</td>\n",
       "    </tr>\n",
       "    <tr>\n",
       "      <th>Malawi</th>\n",
       "      <td>Low</td>\n",
       "      <td>0.512</td>\n",
       "      <td>SSA</td>\n",
       "      <td>60.1</td>\n",
       "    </tr>\n",
       "  </tbody>\n",
       "</table>\n",
       "</div>"
      ],
      "text/plain": [
       "                         HDI Group    HDI Region    IQ\n",
       "Country                                               \n",
       "Sierra Leone                   Low  0.477    SSA  64.0\n",
       "Cameroon                    Medium  0.576    SSA  64.0\n",
       "Central African Republic       Low  0.404    SSA  64.0\n",
       "Gambia                         Low  0.500    SSA  62.0\n",
       "Malawi                         Low  0.512    SSA  60.1"
      ]
     },
     "execution_count": 62,
     "metadata": {},
     "output_type": "execute_result"
    }
   ],
   "source": [
    "merged_df[merged_df['Region'] == 'SSA'].sort_values(by='IQ', ascending=False).tail(5)"
   ]
  },
  {
   "cell_type": "markdown",
   "metadata": {},
   "source": [
    "We can see that Malawi is an outlier but it is not that significantly lower than Gambia"
   ]
  },
  {
   "cell_type": "code",
   "execution_count": 63,
   "metadata": {},
   "outputs": [
    {
     "data": {
      "text/html": [
       "<div>\n",
       "<style scoped>\n",
       "    .dataframe tbody tr th:only-of-type {\n",
       "        vertical-align: middle;\n",
       "    }\n",
       "\n",
       "    .dataframe tbody tr th {\n",
       "        vertical-align: top;\n",
       "    }\n",
       "\n",
       "    .dataframe thead th {\n",
       "        text-align: right;\n",
       "    }\n",
       "</style>\n",
       "<table border=\"1\" class=\"dataframe\">\n",
       "  <thead>\n",
       "    <tr style=\"text-align: right;\">\n",
       "      <th></th>\n",
       "      <th>HDI Group</th>\n",
       "      <th>HDI</th>\n",
       "      <th>Region</th>\n",
       "      <th>IQ</th>\n",
       "    </tr>\n",
       "    <tr>\n",
       "      <th>Country</th>\n",
       "      <th></th>\n",
       "      <th></th>\n",
       "      <th></th>\n",
       "      <th></th>\n",
       "    </tr>\n",
       "  </thead>\n",
       "  <tbody>\n",
       "    <tr>\n",
       "      <th>Albania</th>\n",
       "      <td>High</td>\n",
       "      <td>0.796</td>\n",
       "      <td>ECA</td>\n",
       "      <td>82.0</td>\n",
       "    </tr>\n",
       "    <tr>\n",
       "      <th>Turkmenistan</th>\n",
       "      <td>High</td>\n",
       "      <td>0.745</td>\n",
       "      <td>ECA</td>\n",
       "      <td>80.0</td>\n",
       "    </tr>\n",
       "    <tr>\n",
       "      <th>Tajikistan</th>\n",
       "      <td>Medium</td>\n",
       "      <td>0.685</td>\n",
       "      <td>ECA</td>\n",
       "      <td>80.0</td>\n",
       "    </tr>\n",
       "    <tr>\n",
       "      <th>Uzbekistan</th>\n",
       "      <td>High</td>\n",
       "      <td>0.727</td>\n",
       "      <td>ECA</td>\n",
       "      <td>80.0</td>\n",
       "    </tr>\n",
       "    <tr>\n",
       "      <th>Kyrgyzstan</th>\n",
       "      <td>Medium</td>\n",
       "      <td>0.692</td>\n",
       "      <td>ECA</td>\n",
       "      <td>74.8</td>\n",
       "    </tr>\n",
       "  </tbody>\n",
       "</table>\n",
       "</div>"
      ],
      "text/plain": [
       "             HDI Group    HDI Region    IQ\n",
       "Country                                   \n",
       "Albania           High  0.796    ECA  82.0\n",
       "Turkmenistan      High  0.745    ECA  80.0\n",
       "Tajikistan      Medium  0.685    ECA  80.0\n",
       "Uzbekistan        High  0.727    ECA  80.0\n",
       "Kyrgyzstan      Medium  0.692    ECA  74.8"
      ]
     },
     "execution_count": 63,
     "metadata": {},
     "output_type": "execute_result"
    }
   ],
   "source": [
    "merged_df[merged_df['Region'] == 'ECA'].sort_values(by='IQ', ascending=False).tail(5)"
   ]
  },
  {
   "cell_type": "markdown",
   "metadata": {},
   "source": [
    "Here we have Turkmenistan, Tajikistan, Uzbekistan and Kyrgyzistan as outliers. Kyrgyzistan is more obviously an outlier than the other two."
   ]
  },
  {
   "cell_type": "code",
   "execution_count": 64,
   "metadata": {},
   "outputs": [
    {
     "data": {
      "text/html": [
       "<div>\n",
       "<style scoped>\n",
       "    .dataframe tbody tr th:only-of-type {\n",
       "        vertical-align: middle;\n",
       "    }\n",
       "\n",
       "    .dataframe tbody tr th {\n",
       "        vertical-align: top;\n",
       "    }\n",
       "\n",
       "    .dataframe thead th {\n",
       "        text-align: right;\n",
       "    }\n",
       "</style>\n",
       "<table border=\"1\" class=\"dataframe\">\n",
       "  <thead>\n",
       "    <tr style=\"text-align: right;\">\n",
       "      <th></th>\n",
       "      <th>HDI Group</th>\n",
       "      <th>HDI</th>\n",
       "      <th>Region</th>\n",
       "      <th>IQ</th>\n",
       "    </tr>\n",
       "    <tr>\n",
       "      <th>Country</th>\n",
       "      <th></th>\n",
       "      <th></th>\n",
       "      <th></th>\n",
       "      <th></th>\n",
       "    </tr>\n",
       "  </thead>\n",
       "  <tbody>\n",
       "    <tr>\n",
       "      <th>Jamaica</th>\n",
       "      <td>High</td>\n",
       "      <td>0.709</td>\n",
       "      <td>AME</td>\n",
       "      <td>71.0</td>\n",
       "    </tr>\n",
       "    <tr>\n",
       "      <th>St Vincent</th>\n",
       "      <td>High</td>\n",
       "      <td>0.751</td>\n",
       "      <td>AME</td>\n",
       "      <td>71.0</td>\n",
       "    </tr>\n",
       "    <tr>\n",
       "      <th>Haiti</th>\n",
       "      <td>Low</td>\n",
       "      <td>0.535</td>\n",
       "      <td>AME</td>\n",
       "      <td>67.0</td>\n",
       "    </tr>\n",
       "    <tr>\n",
       "      <th>Dominica</th>\n",
       "      <td>High</td>\n",
       "      <td>0.720</td>\n",
       "      <td>AME</td>\n",
       "      <td>67.0</td>\n",
       "    </tr>\n",
       "    <tr>\n",
       "      <th>Saint Lucia</th>\n",
       "      <td>High</td>\n",
       "      <td>0.715</td>\n",
       "      <td>AME</td>\n",
       "      <td>62.0</td>\n",
       "    </tr>\n",
       "  </tbody>\n",
       "</table>\n",
       "</div>"
      ],
      "text/plain": [
       "            HDI Group    HDI Region    IQ\n",
       "Country                                  \n",
       "Jamaica          High  0.709    AME  71.0\n",
       "St Vincent       High  0.751    AME  71.0\n",
       "Haiti             Low  0.535    AME  67.0\n",
       "Dominica         High  0.720    AME  67.0\n",
       "Saint Lucia      High  0.715    AME  62.0"
      ]
     },
     "execution_count": 64,
     "metadata": {},
     "output_type": "execute_result"
    }
   ],
   "source": [
    "merged_df[merged_df['Region'] == 'AME'].sort_values(by='IQ', ascending=False).tail(5)"
   ]
  },
  {
   "cell_type": "markdown",
   "metadata": {},
   "source": [
    "Saint Lucia is classified as a lower outlier."
   ]
  },
  {
   "cell_type": "markdown",
   "metadata": {},
   "source": [
    "## 3.2  Bivariate analysis"
   ]
  },
  {
   "cell_type": "code",
   "execution_count": 65,
   "metadata": {},
   "outputs": [
    {
     "data": {
      "text/html": [
       "<div>\n",
       "<style scoped>\n",
       "    .dataframe tbody tr th:only-of-type {\n",
       "        vertical-align: middle;\n",
       "    }\n",
       "\n",
       "    .dataframe tbody tr th {\n",
       "        vertical-align: top;\n",
       "    }\n",
       "\n",
       "    .dataframe thead th {\n",
       "        text-align: right;\n",
       "    }\n",
       "</style>\n",
       "<table border=\"1\" class=\"dataframe\">\n",
       "  <thead>\n",
       "    <tr style=\"text-align: right;\">\n",
       "      <th></th>\n",
       "      <th>HDI</th>\n",
       "      <th>IQ</th>\n",
       "    </tr>\n",
       "    <tr>\n",
       "      <th>Region</th>\n",
       "      <th></th>\n",
       "      <th></th>\n",
       "    </tr>\n",
       "  </thead>\n",
       "  <tbody>\n",
       "    <tr>\n",
       "      <th>AME</th>\n",
       "      <td>0.751229</td>\n",
       "      <td>81.900000</td>\n",
       "    </tr>\n",
       "    <tr>\n",
       "      <th>AS</th>\n",
       "      <td>0.718263</td>\n",
       "      <td>83.173684</td>\n",
       "    </tr>\n",
       "    <tr>\n",
       "      <th>EAP</th>\n",
       "      <td>0.728154</td>\n",
       "      <td>91.403846</td>\n",
       "    </tr>\n",
       "    <tr>\n",
       "      <th>ECA</th>\n",
       "      <td>0.860019</td>\n",
       "      <td>93.555556</td>\n",
       "    </tr>\n",
       "    <tr>\n",
       "      <th>SA</th>\n",
       "      <td>0.654111</td>\n",
       "      <td>80.422222</td>\n",
       "    </tr>\n",
       "    <tr>\n",
       "      <th>SSA</th>\n",
       "      <td>0.547022</td>\n",
       "      <td>71.166667</td>\n",
       "    </tr>\n",
       "  </tbody>\n",
       "</table>\n",
       "</div>"
      ],
      "text/plain": [
       "             HDI         IQ\n",
       "Region                     \n",
       "AME     0.751229  81.900000\n",
       "AS      0.718263  83.173684\n",
       "EAP     0.728154  91.403846\n",
       "ECA     0.860019  93.555556\n",
       "SA      0.654111  80.422222\n",
       "SSA     0.547022  71.166667"
      ]
     },
     "execution_count": 65,
     "metadata": {},
     "output_type": "execute_result"
    }
   ],
   "source": [
    "centroids = merged_df[['Region', 'HDI', 'IQ']].groupby('Region').mean()\n",
    "centroids"
   ]
  },
  {
   "cell_type": "code",
   "execution_count": 66,
   "metadata": {},
   "outputs": [
    {
     "data": {
      "text/html": [
       "<div>\n",
       "<style scoped>\n",
       "    .dataframe tbody tr th:only-of-type {\n",
       "        vertical-align: middle;\n",
       "    }\n",
       "\n",
       "    .dataframe tbody tr th {\n",
       "        vertical-align: top;\n",
       "    }\n",
       "\n",
       "    .dataframe thead th {\n",
       "        text-align: right;\n",
       "    }\n",
       "</style>\n",
       "<table border=\"1\" class=\"dataframe\">\n",
       "  <thead>\n",
       "    <tr style=\"text-align: right;\">\n",
       "      <th></th>\n",
       "      <th>HDI</th>\n",
       "      <th>IQ</th>\n",
       "    </tr>\n",
       "    <tr>\n",
       "      <th>Region</th>\n",
       "      <th></th>\n",
       "      <th></th>\n",
       "    </tr>\n",
       "  </thead>\n",
       "  <tbody>\n",
       "    <tr>\n",
       "      <th>AME</th>\n",
       "      <td>0.013465</td>\n",
       "      <td>1.419315</td>\n",
       "    </tr>\n",
       "    <tr>\n",
       "      <th>AS</th>\n",
       "      <td>0.030009</td>\n",
       "      <td>0.767156</td>\n",
       "    </tr>\n",
       "    <tr>\n",
       "      <th>EAP</th>\n",
       "      <td>0.025257</td>\n",
       "      <td>1.624358</td>\n",
       "    </tr>\n",
       "    <tr>\n",
       "      <th>ECA</th>\n",
       "      <td>0.010100</td>\n",
       "      <td>0.854419</td>\n",
       "    </tr>\n",
       "    <tr>\n",
       "      <th>SA</th>\n",
       "      <td>0.034530</td>\n",
       "      <td>1.096684</td>\n",
       "    </tr>\n",
       "    <tr>\n",
       "      <th>SSA</th>\n",
       "      <td>0.014047</td>\n",
       "      <td>0.799128</td>\n",
       "    </tr>\n",
       "  </tbody>\n",
       "</table>\n",
       "</div>"
      ],
      "text/plain": [
       "             HDI        IQ\n",
       "Region                    \n",
       "AME     0.013465  1.419315\n",
       "AS      0.030009  0.767156\n",
       "EAP     0.025257  1.624358\n",
       "ECA     0.010100  0.854419\n",
       "SA      0.034530  1.096684\n",
       "SSA     0.014047  0.799128"
      ]
     },
     "execution_count": 66,
     "metadata": {},
     "output_type": "execute_result"
    }
   ],
   "source": [
    "sem_df = merged_df[['Region', 'HDI', 'IQ']].groupby('Region').sem()\n",
    "sem_df"
   ]
  },
  {
   "cell_type": "code",
   "execution_count": 67,
   "metadata": {},
   "outputs": [
    {
     "data": {
      "image/png": "[encoded data removed]",
      "text/plain": [
       "<Figure size 640x480 with 1 Axes>"
      ]
     },
     "metadata": {},
     "output_type": "display_data"
    }
   ],
   "source": [
    "sns.scatterplot(data=centroids, x='HDI', y='IQ', hue='Region', palette=color_dict)\n",
    "plt.errorbar(centroids['HDI'], centroids['IQ'], xerr=sem_df['HDI'], yerr=sem_df['IQ'], ecolor=color_dict.values(), linestyle='')\n",
    "plt.ylim(58, 109)\n",
    "plt.xlim(0.365, 0.99)\n",
    "\n",
    "plt.title('2D Standard error of the mean for HDI and IQ by region', fontsize=15)\n",
    "plt.xlabel('HDI', fontsize=12)\n",
    "plt.ylabel('IQ', fontsize=12)\n",
    "\n",
    "plt.legend(bbox_to_anchor=(1.05, 1), loc='upper left', borderaxespad=0.)\n",
    "plt.show()"
   ]
  },
  {
   "cell_type": "code",
   "execution_count": 68,
   "metadata": {},
   "outputs": [
    {
     "data": {
      "image/png": "[encoded data removed]",
      "text/plain": [
       "<Figure size 640x480 with 1 Axes>"
      ]
     },
     "metadata": {},
     "output_type": "display_data"
    }
   ],
   "source": [
    "# Create a scatter plot of HDI and IQ correlation, adding a pearson correlation coefficient and a spearman correlation\n",
    "sns.scatterplot(data=merged_df, x='HDI', y='IQ', hue='Region', palette=color_dict)\n",
    "pearson_corr = merged_df['HDI'].corr(merged_df['IQ'], method='pearson')\n",
    "spearman_corr = merged_df['HDI'].corr(merged_df['IQ'], method='spearman')\n",
    "plt.text(0.01, 0.95, f\"Pearson Correlation: {pearson_corr:.3f}\", transform=plt.gca().transAxes, fontsize=10, alpha=1)\n",
    "plt.text(0.01, 0.90, f\"Spearman Correlation: {spearman_corr:.3f}\", transform=plt.gca().transAxes, fontsize=10, alpha = 1)\n",
    "plt.title('HDI and IQ Correlation', fontsize=15)\n",
    "plt.legend(bbox_to_anchor=(1.05, 1), loc='upper left', borderaxespad=0.)\n",
    "plt.show()\n"
   ]
  },
  {
   "cell_type": "code",
   "execution_count": 69,
   "metadata": {},
   "outputs": [
    {
     "data": {
      "text/html": [
       "<table class=\"simpletable\">\n",
       "<caption>OLS Regression Results</caption>\n",
       "<tr>\n",
       "  <th>Dep. Variable:</th>           <td>IQ</td>        <th>  R-squared:         </th> <td>   0.666</td>\n",
       "</tr>\n",
       "<tr>\n",
       "  <th>Model:</th>                   <td>OLS</td>       <th>  Adj. R-squared:    </th> <td>   0.664</td>\n",
       "</tr>\n",
       "<tr>\n",
       "  <th>Method:</th>             <td>Least Squares</td>  <th>  F-statistic:       </th> <td>   370.3</td>\n",
       "</tr>\n",
       "<tr>\n",
       "  <th>Date:</th>             <td>Mon, 18 Mar 2024</td> <th>  Prob (F-statistic):</th> <td>4.05e-46</td>\n",
       "</tr>\n",
       "<tr>\n",
       "  <th>Time:</th>                 <td>13:57:19</td>     <th>  Log-Likelihood:    </th> <td> -610.60</td>\n",
       "</tr>\n",
       "<tr>\n",
       "  <th>No. Observations:</th>      <td>   188</td>      <th>  AIC:               </th> <td>   1225.</td>\n",
       "</tr>\n",
       "<tr>\n",
       "  <th>Df Residuals:</th>          <td>   186</td>      <th>  BIC:               </th> <td>   1232.</td>\n",
       "</tr>\n",
       "<tr>\n",
       "  <th>Df Model:</th>              <td>     1</td>      <th>                     </th>     <td> </td>   \n",
       "</tr>\n",
       "<tr>\n",
       "  <th>Covariance Type:</th>      <td>nonrobust</td>    <th>                     </th>     <td> </td>   \n",
       "</tr>\n",
       "</table>\n",
       "<table class=\"simpletable\">\n",
       "<tr>\n",
       "    <td></td>       <th>coef</th>     <th>std err</th>      <th>t</th>      <th>P>|t|</th>  <th>[0.025</th>    <th>0.975]</th>  \n",
       "</tr>\n",
       "<tr>\n",
       "  <th>const</th> <td>   41.5133</td> <td>    2.257</td> <td>   18.391</td> <td> 0.000</td> <td>   37.060</td> <td>   45.966</td>\n",
       "</tr>\n",
       "<tr>\n",
       "  <th>HDI</th>   <td>   58.8819</td> <td>    3.060</td> <td>   19.242</td> <td> 0.000</td> <td>   52.845</td> <td>   64.919</td>\n",
       "</tr>\n",
       "</table>\n",
       "<table class=\"simpletable\">\n",
       "<tr>\n",
       "  <th>Omnibus:</th>       <td> 8.845</td> <th>  Durbin-Watson:     </th> <td>   2.281</td>\n",
       "</tr>\n",
       "<tr>\n",
       "  <th>Prob(Omnibus):</th> <td> 0.012</td> <th>  Jarque-Bera (JB):  </th> <td>  10.511</td>\n",
       "</tr>\n",
       "<tr>\n",
       "  <th>Skew:</th>          <td>-0.361</td> <th>  Prob(JB):          </th> <td> 0.00522</td>\n",
       "</tr>\n",
       "<tr>\n",
       "  <th>Kurtosis:</th>      <td> 3.907</td> <th>  Cond. No.          </th> <td>    10.3</td>\n",
       "</tr>\n",
       "</table><br/><br/>Notes:<br/>[1] Standard Errors assume that the covariance matrix of the errors is correctly specified."
      ],
      "text/latex": [
       "\\begin{center}\n",
       "\\begin{tabular}{lclc}\n",
       "\\toprule\n",
       "\\textbf{Dep. Variable:}    &        IQ        & \\textbf{  R-squared:         } &     0.666   \\\\\n",
       "\\textbf{Model:}            &       OLS        & \\textbf{  Adj. R-squared:    } &     0.664   \\\\\n",
       "\\textbf{Method:}           &  Least Squares   & \\textbf{  F-statistic:       } &     370.3   \\\\\n",
       "\\textbf{Date:}             & Mon, 18 Mar 2024 & \\textbf{  Prob (F-statistic):} &  4.05e-46   \\\\\n",
       "\\textbf{Time:}             &     13:57:19     & \\textbf{  Log-Likelihood:    } &   -610.60   \\\\\n",
       "\\textbf{No. Observations:} &         188      & \\textbf{  AIC:               } &     1225.   \\\\\n",
       "\\textbf{Df Residuals:}     &         186      & \\textbf{  BIC:               } &     1232.   \\\\\n",
       "\\textbf{Df Model:}         &           1      & \\textbf{                     } &             \\\\\n",
       "\\textbf{Covariance Type:}  &    nonrobust     & \\textbf{                     } &             \\\\\n",
       "\\bottomrule\n",
       "\\end{tabular}\n",
       "\\begin{tabular}{lcccccc}\n",
       "               & \\textbf{coef} & \\textbf{std err} & \\textbf{t} & \\textbf{P$> |$t$|$} & \\textbf{[0.025} & \\textbf{0.975]}  \\\\\n",
       "\\midrule\n",
       "\\textbf{const} &      41.5133  &        2.257     &    18.391  &         0.000        &       37.060    &       45.966     \\\\\n",
       "\\textbf{HDI}   &      58.8819  &        3.060     &    19.242  &         0.000        &       52.845    &       64.919     \\\\\n",
       "\\bottomrule\n",
       "\\end{tabular}\n",
       "\\begin{tabular}{lclc}\n",
       "\\textbf{Omnibus:}       &  8.845 & \\textbf{  Durbin-Watson:     } &    2.281  \\\\\n",
       "\\textbf{Prob(Omnibus):} &  0.012 & \\textbf{  Jarque-Bera (JB):  } &   10.511  \\\\\n",
       "\\textbf{Skew:}          & -0.361 & \\textbf{  Prob(JB):          } &  0.00522  \\\\\n",
       "\\textbf{Kurtosis:}      &  3.907 & \\textbf{  Cond. No.          } &     10.3  \\\\\n",
       "\\bottomrule\n",
       "\\end{tabular}\n",
       "%\\caption{OLS Regression Results}\n",
       "\\end{center}\n",
       "\n",
       "Notes: \\newline\n",
       " [1] Standard Errors assume that the covariance matrix of the errors is correctly specified."
      ],
      "text/plain": [
       "<class 'statsmodels.iolib.summary.Summary'>\n",
       "\"\"\"\n",
       "                            OLS Regression Results                            \n",
       "==============================================================================\n",
       "Dep. Variable:                     IQ   R-squared:                       0.666\n",
       "Model:                            OLS   Adj. R-squared:                  0.664\n",
       "Method:                 Least Squares   F-statistic:                     370.3\n",
       "Date:                Mon, 18 Mar 2024   Prob (F-statistic):           4.05e-46\n",
       "Time:                        13:57:19   Log-Likelihood:                -610.60\n",
       "No. Observations:                 188   AIC:                             1225.\n",
       "Df Residuals:                     186   BIC:                             1232.\n",
       "Df Model:                           1                                         \n",
       "Covariance Type:            nonrobust                                         \n",
       "==============================================================================\n",
       "                 coef    std err          t      P>|t|      [0.025      0.975]\n",
       "------------------------------------------------------------------------------\n",
       "const         41.5133      2.257     18.391      0.000      37.060      45.966\n",
       "HDI           58.8819      3.060     19.242      0.000      52.845      64.919\n",
       "==============================================================================\n",
       "Omnibus:                        8.845   Durbin-Watson:                   2.281\n",
       "Prob(Omnibus):                  0.012   Jarque-Bera (JB):               10.511\n",
       "Skew:                          -0.361   Prob(JB):                      0.00522\n",
       "Kurtosis:                       3.907   Cond. No.                         10.3\n",
       "==============================================================================\n",
       "\n",
       "Notes:\n",
       "[1] Standard Errors assume that the covariance matrix of the errors is correctly specified.\n",
       "\"\"\""
      ]
     },
     "execution_count": 69,
     "metadata": {},
     "output_type": "execute_result"
    }
   ],
   "source": [
    "# calculate linear regression\n",
    "x = merged_df['HDI']\n",
    "y = merged_df['IQ']\n",
    "\n",
    "x = sm.add_constant(x)\n",
    "model_sm = sm.OLS(y,x).fit()\n",
    "R2 = model_sm.rsquared\n",
    "model_sm.summary()"
   ]
  },
  {
   "cell_type": "code",
   "execution_count": 103,
   "metadata": {},
   "outputs": [
    {
     "data": {
      "image/png": "[encoded data removed]",
      "text/plain": [
       "<Figure size 640x480 with 1 Axes>"
      ]
     },
     "metadata": {},
     "output_type": "display_data"
    }
   ],
   "source": [
    "\n",
    "sns.scatterplot(data=merged_df, x='HDI', y='IQ', hue='Region', palette=color_dict)\n",
    "\n",
    "x=merged_df['HDI']\n",
    "plt.plot(x, model_sm.fittedvalues, color='red', label=\"lin. reg.\")\n",
    "\n",
    "a = model_sm.params['const']\n",
    "b = model_sm.params['HDI']\n",
    "\n",
    "plt.text(min(x), max(y), '$IQ = %.2f + %.2f \\cdot HDI$'%(a,b))\n",
    "plt.text(min(x), max(y)-2.5, '$R_2 = %.2f$'%R2)\n",
    "\n",
    "plt.xlabel('HDI')\n",
    "plt.ylabel('IQ')\n",
    "plt.title('Linear Regression\\nGlobal HDI and IQ Correlation', fontsize=15)\n",
    "\n",
    "plt.legend(bbox_to_anchor=(1.05, 1), loc='upper left', borderaxespad=0.)\n",
    "\n",
    "plt.show()"
   ]
  },
  {
   "cell_type": "code",
   "execution_count": 75,
   "metadata": {},
   "outputs": [
    {
     "data": {
      "image/png": "[encoded data removed]",
      "text/plain": [
       "<Figure size 640x480 with 1 Axes>"
      ]
     },
     "metadata": {},
     "output_type": "display_data"
    }
   ],
   "source": [
    "# plot the residuals\n",
    "residuals = model_sm.resid\n",
    "\n",
    "plt.scatter(x,residuals)\n",
    "plt.title('Residuals vs HDI')\n",
    "plt.xlabel('HDI')\n",
    "plt.ylabel('Residuals')\n",
    "plt.show()"
   ]
  },
  {
   "cell_type": "code",
   "execution_count": null,
   "metadata": {},
   "outputs": [
    {
     "data": {
      "image/png": "[encoded data removed]",
      "text/plain": [
       "<Figure size 1500x1000 with 6 Axes>"
      ]
     },
     "metadata": {},
     "output_type": "display_data"
    }
   ],
   "source": [
    "# Creating a scatter plot for each region \n",
    "regions_full_name = {\n",
    "    'SA': 'South Asia',\n",
    "    'SSA': 'Sub-Saharan Africa',\n",
    "    'ECA': 'Europe and Central Asia',\n",
    "    'AS': 'Rest of Asia', \n",
    "    'AME': 'Americas', \n",
    "    'EAP': 'East Asia and Pacific'\n",
    "}\n",
    "\n",
    "regions = ['SA', 'SSA', 'ECA', 'AS', 'AME', 'EAP']\n",
    "\n",
    "fig, axes = plt.subplots(ncols=3, nrows=2, figsize=(15, 10))\n",
    "\n",
    "for region in regions:\n",
    "    ax = axes[regions.index(region) // 3, regions.index(region) % 3]\n",
    "    sns.scatterplot(data=merged_df[merged_df['Region'] == region], x='HDI', y='IQ', ax=ax, color=color_dict[region])\n",
    "    pearson_corr = merged_df[merged_df['Region'] == region]['HDI'].corr(merged_df[merged_df['Region'] == region]['IQ'], method='pearson')\n",
    "    spearman_corr = merged_df[merged_df['Region'] == region]['HDI'].corr(merged_df[merged_df['Region'] == region]['IQ'], method='spearman')\n",
    "    ax.text(0.01, 0.95, f\"Pearson Corr.: {pearson_corr:.3f}\", transform=ax.transAxes, fontsize=10, alpha=1)\n",
    "    ax.text(0.01, 0.90, f\"Spearman Corr.: {spearman_corr:.3f}\", transform=ax.transAxes, fontsize=10, alpha=1)\n",
    "    ax.set_title(f'{regions_full_name[region]}')\n",
    "\n",
    "\n",
    "plt.suptitle('HDI and IQ Correlation by Region', fontsize=20)\n",
    "plt.show()"
   ]
  },
  {
   "cell_type": "code",
   "execution_count": null,
   "metadata": {},
   "outputs": [
    {
     "data": {
      "image/png": "[encoded data removed]",
      "text/plain": [
       "<Figure size 640x480 with 1 Axes>"
      ]
     },
     "metadata": {},
     "output_type": "display_data"
    }
   ],
   "source": [
    "# Checks linear relationship differences per region\n",
    "pearson_corr_list = []\n",
    "region_list = []\n",
    "for region in merged_df['Region'].unique():\n",
    "    region_data = merged_df[merged_df['Region'] == region]\n",
    "    pearson_corr_region = region_data['HDI'].corr(region_data['IQ'], method='pearson')\n",
    "    pearson_corr_list.append(pearson_corr_region)\n",
    "    region_list.append(region)\n",
    "region_corr_df = pd.DataFrame({'Region': region_list, 'Pearson Correlation': pearson_corr_list})\n",
    "sns.barplot(data=region_corr_df, x='Region', y='Pearson Correlation',hue = 'Region', palette=color_dict)\n",
    "\n",
    "plt.title('HDI and IQ Correlation by Region', fontsize=15)\n",
    "plt.show()"
   ]
  },
  {
   "cell_type": "code",
   "execution_count": null,
   "metadata": {},
   "outputs": [
    {
     "data": {
      "image/png": "[encoded data removed]",
      "text/plain": [
       "<Figure size 640x480 with 1 Axes>"
      ]
     },
     "metadata": {},
     "output_type": "display_data"
    }
   ],
   "source": [
    "# Check non-linear monotonic relationship differences per region\n",
    "spearman_corr_list = []\n",
    "region_list = []\n",
    "for region in merged_df['Region'].unique():\n",
    "    region_data = merged_df[merged_df['Region'] == region]\n",
    "    spearman_corr_region = region_data['HDI'].corr(region_data['IQ'], method='spearman')\n",
    "    spearman_corr_list.append(spearman_corr_region)\n",
    "    region_list.append(region)\n",
    "\n",
    "region_corr_df = pd.DataFrame({'Region': region_list, 'Spearman Correlation': spearman_corr_list})\n",
    "sns.barplot(data=region_corr_df, x='Region', y='Spearman Correlation',hue = 'Region', palette=color_dict)\n",
    "\n",
    "plt.title('HDI and IQ Correlation by Region', fontsize=15)\n",
    "plt.show()"
   ]
  }
 ],
 "metadata": {
  "kernelspec": {
   "display_name": "base",
   "language": "python",
   "name": "python3"
  },
  "language_info": {
   "codemirror_mode": {
    "name": "ipython",
    "version": 3
   },
   "file_extension": ".py",
   "mimetype": "text/x-python",
   "name": "python",
   "nbconvert_exporter": "python",
   "pygments_lexer": "ipython3",
   "version": "3.11.5"
  }
 },
 "nbformat": 4,
 "nbformat_minor": 2
}
