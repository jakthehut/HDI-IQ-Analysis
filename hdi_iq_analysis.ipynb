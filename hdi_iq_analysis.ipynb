{
 "cells": [
  {
   "cell_type": "code",
   "execution_count": 150,
   "metadata": {},
   "outputs": [],
   "source": [
    "import pandas as pd\n",
    "import numpy as np \n",
    "import matplotlib.pyplot as plt\n",
    "import seaborn as sns\n",
    "from scipy.stats import skew, kurtosis"
   ]
  },
  {
   "cell_type": "markdown",
   "metadata": {},
   "source": [
    "# 0. Initial Data Loading and Exploration"
   ]
  },
  {
   "cell_type": "markdown",
   "metadata": {},
   "source": [
    "## HDI"
   ]
  },
  {
   "cell_type": "code",
   "execution_count": 83,
   "metadata": {},
   "outputs": [
    {
     "data": {
      "text/html": [
       "<div>\n",
       "<style scoped>\n",
       "    .dataframe tbody tr th:only-of-type {\n",
       "        vertical-align: middle;\n",
       "    }\n",
       "\n",
       "    .dataframe tbody tr th {\n",
       "        vertical-align: top;\n",
       "    }\n",
       "\n",
       "    .dataframe thead th {\n",
       "        text-align: right;\n",
       "    }\n",
       "</style>\n",
       "<table border=\"1\" class=\"dataframe\">\n",
       "  <thead>\n",
       "    <tr style=\"text-align: right;\">\n",
       "      <th></th>\n",
       "      <th>iso3</th>\n",
       "      <th>country</th>\n",
       "      <th>hdicode</th>\n",
       "      <th>region</th>\n",
       "      <th>hdi_rank_2021</th>\n",
       "      <th>hdi_1990</th>\n",
       "      <th>hdi_1991</th>\n",
       "      <th>hdi_1992</th>\n",
       "      <th>hdi_1993</th>\n",
       "      <th>hdi_1994</th>\n",
       "      <th>...</th>\n",
       "      <th>mf_2012</th>\n",
       "      <th>mf_2013</th>\n",
       "      <th>mf_2014</th>\n",
       "      <th>mf_2015</th>\n",
       "      <th>mf_2016</th>\n",
       "      <th>mf_2017</th>\n",
       "      <th>mf_2018</th>\n",
       "      <th>mf_2019</th>\n",
       "      <th>mf_2020</th>\n",
       "      <th>mf_2021</th>\n",
       "    </tr>\n",
       "  </thead>\n",
       "  <tbody>\n",
       "    <tr>\n",
       "      <th>193</th>\n",
       "      <td>ZMB</td>\n",
       "      <td>Zambia</td>\n",
       "      <td>Medium</td>\n",
       "      <td>SSA</td>\n",
       "      <td>154.0</td>\n",
       "      <td>0.412</td>\n",
       "      <td>0.408</td>\n",
       "      <td>0.408</td>\n",
       "      <td>0.414</td>\n",
       "      <td>0.411</td>\n",
       "      <td>...</td>\n",
       "      <td>4.74</td>\n",
       "      <td>4.68</td>\n",
       "      <td>3.92</td>\n",
       "      <td>3.36</td>\n",
       "      <td>3.12</td>\n",
       "      <td>3.21</td>\n",
       "      <td>2.80</td>\n",
       "      <td>2.38</td>\n",
       "      <td>2.38</td>\n",
       "      <td>2.38</td>\n",
       "    </tr>\n",
       "    <tr>\n",
       "      <th>166</th>\n",
       "      <td>SWZ</td>\n",
       "      <td>Eswatini (Kingdom of)</td>\n",
       "      <td>Medium</td>\n",
       "      <td>SSA</td>\n",
       "      <td>144.0</td>\n",
       "      <td>0.545</td>\n",
       "      <td>0.543</td>\n",
       "      <td>0.540</td>\n",
       "      <td>0.532</td>\n",
       "      <td>0.523</td>\n",
       "      <td>...</td>\n",
       "      <td>NaN</td>\n",
       "      <td>NaN</td>\n",
       "      <td>NaN</td>\n",
       "      <td>NaN</td>\n",
       "      <td>NaN</td>\n",
       "      <td>NaN</td>\n",
       "      <td>NaN</td>\n",
       "      <td>NaN</td>\n",
       "      <td>NaN</td>\n",
       "      <td>NaN</td>\n",
       "    </tr>\n",
       "    <tr>\n",
       "      <th>121</th>\n",
       "      <td>MRT</td>\n",
       "      <td>Mauritania</td>\n",
       "      <td>Medium</td>\n",
       "      <td>SSA</td>\n",
       "      <td>158.0</td>\n",
       "      <td>0.397</td>\n",
       "      <td>0.402</td>\n",
       "      <td>0.411</td>\n",
       "      <td>0.423</td>\n",
       "      <td>0.435</td>\n",
       "      <td>...</td>\n",
       "      <td>4.71</td>\n",
       "      <td>4.61</td>\n",
       "      <td>4.30</td>\n",
       "      <td>4.58</td>\n",
       "      <td>4.20</td>\n",
       "      <td>3.89</td>\n",
       "      <td>6.97</td>\n",
       "      <td>7.75</td>\n",
       "      <td>7.75</td>\n",
       "      <td>7.75</td>\n",
       "    </tr>\n",
       "  </tbody>\n",
       "</table>\n",
       "<p>3 rows × 1008 columns</p>\n",
       "</div>"
      ],
      "text/plain": [
       "    iso3                country hdicode region  hdi_rank_2021  hdi_1990  \\\n",
       "193  ZMB                 Zambia  Medium    SSA          154.0     0.412   \n",
       "166  SWZ  Eswatini (Kingdom of)  Medium    SSA          144.0     0.545   \n",
       "121  MRT             Mauritania  Medium    SSA          158.0     0.397   \n",
       "\n",
       "     hdi_1991  hdi_1992  hdi_1993  hdi_1994  ...  mf_2012  mf_2013  mf_2014  \\\n",
       "193     0.408     0.408     0.414     0.411  ...     4.74     4.68     3.92   \n",
       "166     0.543     0.540     0.532     0.523  ...      NaN      NaN      NaN   \n",
       "121     0.402     0.411     0.423     0.435  ...     4.71     4.61     4.30   \n",
       "\n",
       "     mf_2015  mf_2016  mf_2017  mf_2018  mf_2019  mf_2020  mf_2021  \n",
       "193     3.36     3.12     3.21     2.80     2.38     2.38     2.38  \n",
       "166      NaN      NaN      NaN      NaN      NaN      NaN      NaN  \n",
       "121     4.58     4.20     3.89     6.97     7.75     7.75     7.75  \n",
       "\n",
       "[3 rows x 1008 columns]"
      ]
     },
     "execution_count": 83,
     "metadata": {},
     "output_type": "execute_result"
    }
   ],
   "source": [
    "hdi_df = pd.read_csv('data/HDR21-22_Composite_indices_complete_time_series.csv')\n",
    "hdi_df.sample(3)"
   ]
  },
  {
   "cell_type": "code",
   "execution_count": 84,
   "metadata": {},
   "outputs": [],
   "source": [
    "# Exploring the columns\n",
    "\n",
    "# hdi_df.columns.tolist()"
   ]
  },
  {
   "cell_type": "code",
   "execution_count": 85,
   "metadata": {},
   "outputs": [
    {
     "data": {
      "text/html": [
       "<div>\n",
       "<style scoped>\n",
       "    .dataframe tbody tr th:only-of-type {\n",
       "        vertical-align: middle;\n",
       "    }\n",
       "\n",
       "    .dataframe tbody tr th {\n",
       "        vertical-align: top;\n",
       "    }\n",
       "\n",
       "    .dataframe thead th {\n",
       "        text-align: right;\n",
       "    }\n",
       "</style>\n",
       "<table border=\"1\" class=\"dataframe\">\n",
       "  <thead>\n",
       "    <tr style=\"text-align: right;\">\n",
       "      <th></th>\n",
       "      <th>country</th>\n",
       "      <th>hdicode</th>\n",
       "      <th>hdi_2021</th>\n",
       "      <th>region</th>\n",
       "      <th>hdi_rank_2021</th>\n",
       "    </tr>\n",
       "  </thead>\n",
       "  <tbody>\n",
       "    <tr>\n",
       "      <th>0</th>\n",
       "      <td>Afghanistan</td>\n",
       "      <td>Low</td>\n",
       "      <td>0.478</td>\n",
       "      <td>SA</td>\n",
       "      <td>180.0</td>\n",
       "    </tr>\n",
       "    <tr>\n",
       "      <th>1</th>\n",
       "      <td>Angola</td>\n",
       "      <td>Medium</td>\n",
       "      <td>0.586</td>\n",
       "      <td>SSA</td>\n",
       "      <td>148.0</td>\n",
       "    </tr>\n",
       "    <tr>\n",
       "      <th>2</th>\n",
       "      <td>Albania</td>\n",
       "      <td>High</td>\n",
       "      <td>0.796</td>\n",
       "      <td>ECA</td>\n",
       "      <td>67.0</td>\n",
       "    </tr>\n",
       "    <tr>\n",
       "      <th>3</th>\n",
       "      <td>Andorra</td>\n",
       "      <td>Very High</td>\n",
       "      <td>0.858</td>\n",
       "      <td>NaN</td>\n",
       "      <td>40.0</td>\n",
       "    </tr>\n",
       "    <tr>\n",
       "      <th>4</th>\n",
       "      <td>United Arab Emirates</td>\n",
       "      <td>Very High</td>\n",
       "      <td>0.911</td>\n",
       "      <td>AS</td>\n",
       "      <td>26.0</td>\n",
       "    </tr>\n",
       "  </tbody>\n",
       "</table>\n",
       "</div>"
      ],
      "text/plain": [
       "                country    hdicode  hdi_2021 region  hdi_rank_2021\n",
       "0           Afghanistan        Low     0.478     SA          180.0\n",
       "1                Angola     Medium     0.586    SSA          148.0\n",
       "2               Albania       High     0.796    ECA           67.0\n",
       "3               Andorra  Very High     0.858    NaN           40.0\n",
       "4  United Arab Emirates  Very High     0.911     AS           26.0"
      ]
     },
     "execution_count": 85,
     "metadata": {},
     "output_type": "execute_result"
    }
   ],
   "source": [
    "# Selecting the columns of interest\n",
    "hdi_df = hdi_df[['country', 'hdicode', 'hdi_2021', 'region','hdi_rank_2021']]\n",
    "hdi_df.head()"
   ]
  },
  {
   "cell_type": "code",
   "execution_count": 86,
   "metadata": {},
   "outputs": [],
   "source": [
    "# Renaming the columns so that they are easier to understand \n",
    "hdi_df.rename(columns={'hdi_2021': 'HDI',\n",
    "                       'country': 'Country',\n",
    "                       'hdicode': 'HDI Group',\n",
    "                       'region': 'Region',\n",
    "                       'hdi_rank_2021': 'HDI_Rank'}, inplace=True)    "
   ]
  },
  {
   "cell_type": "code",
   "execution_count": 87,
   "metadata": {},
   "outputs": [
    {
     "name": "stdout",
     "output_type": "stream",
     "text": [
      "<class 'pandas.core.frame.DataFrame'>\n",
      "RangeIndex: 206 entries, 0 to 205\n",
      "Data columns (total 5 columns):\n",
      " #   Column     Non-Null Count  Dtype  \n",
      "---  ------     --------------  -----  \n",
      " 0   Country    206 non-null    object \n",
      " 1   HDI Group  191 non-null    object \n",
      " 2   HDI        202 non-null    float64\n",
      " 3   Region     151 non-null    object \n",
      " 4   HDI_Rank   191 non-null    float64\n",
      "dtypes: float64(2), object(3)\n",
      "memory usage: 8.2+ KB\n"
     ]
    }
   ],
   "source": [
    "hdi_df.info()"
   ]
  },
  {
   "cell_type": "markdown",
   "metadata": {},
   "source": [
    "#### Lets look at the null values"
   ]
  },
  {
   "cell_type": "code",
   "execution_count": 88,
   "metadata": {},
   "outputs": [
    {
     "data": {
      "text/html": [
       "<div>\n",
       "<style scoped>\n",
       "    .dataframe tbody tr th:only-of-type {\n",
       "        vertical-align: middle;\n",
       "    }\n",
       "\n",
       "    .dataframe tbody tr th {\n",
       "        vertical-align: top;\n",
       "    }\n",
       "\n",
       "    .dataframe thead th {\n",
       "        text-align: right;\n",
       "    }\n",
       "</style>\n",
       "<table border=\"1\" class=\"dataframe\">\n",
       "  <thead>\n",
       "    <tr style=\"text-align: right;\">\n",
       "      <th></th>\n",
       "      <th>Country</th>\n",
       "      <th>HDI Group</th>\n",
       "      <th>HDI</th>\n",
       "      <th>Region</th>\n",
       "      <th>HDI_Rank</th>\n",
       "    </tr>\n",
       "  </thead>\n",
       "  <tbody>\n",
       "    <tr>\n",
       "      <th>108</th>\n",
       "      <td>Monaco</td>\n",
       "      <td>NaN</td>\n",
       "      <td>NaN</td>\n",
       "      <td>NaN</td>\n",
       "      <td>NaN</td>\n",
       "    </tr>\n",
       "    <tr>\n",
       "      <th>132</th>\n",
       "      <td>Nauru</td>\n",
       "      <td>NaN</td>\n",
       "      <td>NaN</td>\n",
       "      <td>EAP</td>\n",
       "      <td>NaN</td>\n",
       "    </tr>\n",
       "    <tr>\n",
       "      <th>142</th>\n",
       "      <td>Korea (Democratic People's Rep. of)</td>\n",
       "      <td>NaN</td>\n",
       "      <td>NaN</td>\n",
       "      <td>EAP</td>\n",
       "      <td>NaN</td>\n",
       "    </tr>\n",
       "    <tr>\n",
       "      <th>158</th>\n",
       "      <td>Somalia</td>\n",
       "      <td>NaN</td>\n",
       "      <td>NaN</td>\n",
       "      <td>AS</td>\n",
       "      <td>NaN</td>\n",
       "    </tr>\n",
       "  </tbody>\n",
       "</table>\n",
       "</div>"
      ],
      "text/plain": [
       "                                 Country HDI Group  HDI Region  HDI_Rank\n",
       "108                               Monaco       NaN  NaN    NaN       NaN\n",
       "132                                Nauru       NaN  NaN    EAP       NaN\n",
       "142  Korea (Democratic People's Rep. of)       NaN  NaN    EAP       NaN\n",
       "158                              Somalia       NaN  NaN     AS       NaN"
      ]
     },
     "execution_count": 88,
     "metadata": {},
     "output_type": "execute_result"
    }
   ],
   "source": [
    "# Looking at missing HDI values\n",
    "hdi_df[hdi_df['HDI'].isnull()]"
   ]
  },
  {
   "cell_type": "markdown",
   "metadata": {},
   "source": [
    "We can drop these rows as they contain no real information"
   ]
  },
  {
   "cell_type": "code",
   "execution_count": 89,
   "metadata": {},
   "outputs": [
    {
     "data": {
      "text/plain": [
       "Region\n",
       "SSA    46\n",
       "LAC    33\n",
       "EAP    26\n",
       "AS     20\n",
       "ECA    17\n",
       "SA      9\n",
       "Name: count, dtype: int64"
      ]
     },
     "execution_count": 89,
     "metadata": {},
     "output_type": "execute_result"
    }
   ],
   "source": [
    "# Getting the regions (abbreviations)\n",
    "hdi_df['Region'].value_counts()  "
   ]
  },
  {
   "cell_type": "markdown",
   "metadata": {},
   "source": [
    "As we can see we have 4 countries with missing HDI scores. These will have to be dropped as there would be no way to fill in the data for these cells (one could try to look for other datasets). We can also observe that there are summaries of the HDI scores by region. We save these in a separate dataframe so that we can have the data on the countries in one dataframe and the data about the regions in a separate one."
   ]
  },
  {
   "cell_type": "code",
   "execution_count": 90,
   "metadata": {},
   "outputs": [
    {
     "data": {
      "text/html": [
       "<div>\n",
       "<style scoped>\n",
       "    .dataframe tbody tr th:only-of-type {\n",
       "        vertical-align: middle;\n",
       "    }\n",
       "\n",
       "    .dataframe tbody tr th {\n",
       "        vertical-align: top;\n",
       "    }\n",
       "\n",
       "    .dataframe thead th {\n",
       "        text-align: right;\n",
       "    }\n",
       "</style>\n",
       "<table border=\"1\" class=\"dataframe\">\n",
       "  <thead>\n",
       "    <tr style=\"text-align: right;\">\n",
       "      <th></th>\n",
       "      <th>Country</th>\n",
       "      <th>HDI Group</th>\n",
       "      <th>HDI</th>\n",
       "      <th>Region</th>\n",
       "      <th>HDI_Rank</th>\n",
       "    </tr>\n",
       "  </thead>\n",
       "  <tbody>\n",
       "    <tr>\n",
       "      <th>195</th>\n",
       "      <td>Very high human development</td>\n",
       "      <td>NaN</td>\n",
       "      <td>0.896</td>\n",
       "      <td>NaN</td>\n",
       "      <td>NaN</td>\n",
       "    </tr>\n",
       "    <tr>\n",
       "      <th>196</th>\n",
       "      <td>High human development</td>\n",
       "      <td>NaN</td>\n",
       "      <td>0.754</td>\n",
       "      <td>NaN</td>\n",
       "      <td>NaN</td>\n",
       "    </tr>\n",
       "    <tr>\n",
       "      <th>197</th>\n",
       "      <td>Medium human development</td>\n",
       "      <td>NaN</td>\n",
       "      <td>0.636</td>\n",
       "      <td>NaN</td>\n",
       "      <td>NaN</td>\n",
       "    </tr>\n",
       "    <tr>\n",
       "      <th>198</th>\n",
       "      <td>Low human development</td>\n",
       "      <td>NaN</td>\n",
       "      <td>0.518</td>\n",
       "      <td>NaN</td>\n",
       "      <td>NaN</td>\n",
       "    </tr>\n",
       "    <tr>\n",
       "      <th>199</th>\n",
       "      <td>Arab States</td>\n",
       "      <td>NaN</td>\n",
       "      <td>0.708</td>\n",
       "      <td>NaN</td>\n",
       "      <td>NaN</td>\n",
       "    </tr>\n",
       "    <tr>\n",
       "      <th>200</th>\n",
       "      <td>East Asia and the Pacific</td>\n",
       "      <td>NaN</td>\n",
       "      <td>0.749</td>\n",
       "      <td>NaN</td>\n",
       "      <td>NaN</td>\n",
       "    </tr>\n",
       "    <tr>\n",
       "      <th>201</th>\n",
       "      <td>Europe and Central Asia</td>\n",
       "      <td>NaN</td>\n",
       "      <td>0.796</td>\n",
       "      <td>NaN</td>\n",
       "      <td>NaN</td>\n",
       "    </tr>\n",
       "    <tr>\n",
       "      <th>202</th>\n",
       "      <td>Latin America and the Caribbean</td>\n",
       "      <td>NaN</td>\n",
       "      <td>0.754</td>\n",
       "      <td>NaN</td>\n",
       "      <td>NaN</td>\n",
       "    </tr>\n",
       "    <tr>\n",
       "      <th>203</th>\n",
       "      <td>South Asia</td>\n",
       "      <td>NaN</td>\n",
       "      <td>0.632</td>\n",
       "      <td>NaN</td>\n",
       "      <td>NaN</td>\n",
       "    </tr>\n",
       "    <tr>\n",
       "      <th>204</th>\n",
       "      <td>Sub-Saharan Africa</td>\n",
       "      <td>NaN</td>\n",
       "      <td>0.547</td>\n",
       "      <td>NaN</td>\n",
       "      <td>NaN</td>\n",
       "    </tr>\n",
       "    <tr>\n",
       "      <th>205</th>\n",
       "      <td>World</td>\n",
       "      <td>NaN</td>\n",
       "      <td>0.732</td>\n",
       "      <td>NaN</td>\n",
       "      <td>NaN</td>\n",
       "    </tr>\n",
       "  </tbody>\n",
       "</table>\n",
       "</div>"
      ],
      "text/plain": [
       "                             Country HDI Group    HDI Region  HDI_Rank\n",
       "195      Very high human development       NaN  0.896    NaN       NaN\n",
       "196           High human development       NaN  0.754    NaN       NaN\n",
       "197         Medium human development       NaN  0.636    NaN       NaN\n",
       "198            Low human development       NaN  0.518    NaN       NaN\n",
       "199                      Arab States       NaN  0.708    NaN       NaN\n",
       "200        East Asia and the Pacific       NaN  0.749    NaN       NaN\n",
       "201          Europe and Central Asia       NaN  0.796    NaN       NaN\n",
       "202  Latin America and the Caribbean       NaN  0.754    NaN       NaN\n",
       "203                       South Asia       NaN  0.632    NaN       NaN\n",
       "204               Sub-Saharan Africa       NaN  0.547    NaN       NaN\n",
       "205                            World       NaN  0.732    NaN       NaN"
      ]
     },
     "execution_count": 90,
     "metadata": {},
     "output_type": "execute_result"
    }
   ],
   "source": [
    "hdi_df_regions = hdi_df.tail(11)\n",
    "hdi_df_regions"
   ]
  },
  {
   "cell_type": "code",
   "execution_count": 91,
   "metadata": {},
   "outputs": [
    {
     "data": {
      "text/html": [
       "<div>\n",
       "<style scoped>\n",
       "    .dataframe tbody tr th:only-of-type {\n",
       "        vertical-align: middle;\n",
       "    }\n",
       "\n",
       "    .dataframe tbody tr th {\n",
       "        vertical-align: top;\n",
       "    }\n",
       "\n",
       "    .dataframe thead th {\n",
       "        text-align: right;\n",
       "    }\n",
       "</style>\n",
       "<table border=\"1\" class=\"dataframe\">\n",
       "  <thead>\n",
       "    <tr style=\"text-align: right;\">\n",
       "      <th></th>\n",
       "      <th>Country</th>\n",
       "      <th>HDI Group</th>\n",
       "      <th>HDI</th>\n",
       "      <th>Region</th>\n",
       "      <th>HDI_Rank</th>\n",
       "    </tr>\n",
       "  </thead>\n",
       "  <tbody>\n",
       "    <tr>\n",
       "      <th>190</th>\n",
       "      <td>Samoa</td>\n",
       "      <td>High</td>\n",
       "      <td>0.707</td>\n",
       "      <td>EAP</td>\n",
       "      <td>111.0</td>\n",
       "    </tr>\n",
       "    <tr>\n",
       "      <th>191</th>\n",
       "      <td>Yemen</td>\n",
       "      <td>Low</td>\n",
       "      <td>0.455</td>\n",
       "      <td>AS</td>\n",
       "      <td>183.0</td>\n",
       "    </tr>\n",
       "    <tr>\n",
       "      <th>192</th>\n",
       "      <td>South Africa</td>\n",
       "      <td>High</td>\n",
       "      <td>0.713</td>\n",
       "      <td>SSA</td>\n",
       "      <td>109.0</td>\n",
       "    </tr>\n",
       "    <tr>\n",
       "      <th>193</th>\n",
       "      <td>Zambia</td>\n",
       "      <td>Medium</td>\n",
       "      <td>0.565</td>\n",
       "      <td>SSA</td>\n",
       "      <td>154.0</td>\n",
       "    </tr>\n",
       "    <tr>\n",
       "      <th>194</th>\n",
       "      <td>Zimbabwe</td>\n",
       "      <td>Medium</td>\n",
       "      <td>0.593</td>\n",
       "      <td>SSA</td>\n",
       "      <td>146.0</td>\n",
       "    </tr>\n",
       "  </tbody>\n",
       "</table>\n",
       "</div>"
      ],
      "text/plain": [
       "          Country HDI Group    HDI Region  HDI_Rank\n",
       "190         Samoa      High  0.707    EAP     111.0\n",
       "191         Yemen       Low  0.455     AS     183.0\n",
       "192  South Africa      High  0.713    SSA     109.0\n",
       "193        Zambia    Medium  0.565    SSA     154.0\n",
       "194      Zimbabwe    Medium  0.593    SSA     146.0"
      ]
     },
     "execution_count": 91,
     "metadata": {},
     "output_type": "execute_result"
    }
   ],
   "source": [
    "hdi_df = hdi_df.drop(hdi_df.tail(11).index)\n",
    "hdi_df.tail()"
   ]
  },
  {
   "cell_type": "code",
   "execution_count": 92,
   "metadata": {},
   "outputs": [
    {
     "name": "stdout",
     "output_type": "stream",
     "text": [
      "<class 'pandas.core.frame.DataFrame'>\n",
      "RangeIndex: 195 entries, 0 to 194\n",
      "Data columns (total 5 columns):\n",
      " #   Column     Non-Null Count  Dtype  \n",
      "---  ------     --------------  -----  \n",
      " 0   Country    195 non-null    object \n",
      " 1   HDI Group  191 non-null    object \n",
      " 2   HDI        191 non-null    float64\n",
      " 3   Region     151 non-null    object \n",
      " 4   HDI_Rank   191 non-null    float64\n",
      "dtypes: float64(2), object(3)\n",
      "memory usage: 7.7+ KB\n"
     ]
    }
   ],
   "source": [
    "# Lets drop the countries with NaN HDI values\n",
    "hdi_df['HDI'].dropna(inplace=True)\n",
    "hdi_df.info()"
   ]
  },
  {
   "cell_type": "code",
   "execution_count": 93,
   "metadata": {},
   "outputs": [],
   "source": [
    "# Dropping values which hVe NaN HDI values while ignoring region\n",
    "hdi_df.dropna(subset=['HDI'], inplace=True)"
   ]
  },
  {
   "cell_type": "code",
   "execution_count": 94,
   "metadata": {},
   "outputs": [],
   "source": [
    "# Lets set the countries as the index\n",
    "hdi_df.set_index('Country', inplace=True)"
   ]
  },
  {
   "cell_type": "code",
   "execution_count": 95,
   "metadata": {},
   "outputs": [
    {
     "name": "stdout",
     "output_type": "stream",
     "text": [
      "<class 'pandas.core.frame.DataFrame'>\n",
      "Index: 191 entries, Afghanistan to Zimbabwe\n",
      "Data columns (total 4 columns):\n",
      " #   Column     Non-Null Count  Dtype  \n",
      "---  ------     --------------  -----  \n",
      " 0   HDI Group  191 non-null    object \n",
      " 1   HDI        191 non-null    float64\n",
      " 2   Region     148 non-null    object \n",
      " 3   HDI_Rank   191 non-null    float64\n",
      "dtypes: float64(2), object(2)\n",
      "memory usage: 7.5+ KB\n"
     ]
    }
   ],
   "source": [
    "hdi_df.info()"
   ]
  },
  {
   "cell_type": "code",
   "execution_count": 113,
   "metadata": {},
   "outputs": [
    {
     "data": {
      "text/html": [
       "<div>\n",
       "<style scoped>\n",
       "    .dataframe tbody tr th:only-of-type {\n",
       "        vertical-align: middle;\n",
       "    }\n",
       "\n",
       "    .dataframe tbody tr th {\n",
       "        vertical-align: top;\n",
       "    }\n",
       "\n",
       "    .dataframe thead th {\n",
       "        text-align: right;\n",
       "    }\n",
       "</style>\n",
       "<table border=\"1\" class=\"dataframe\">\n",
       "  <thead>\n",
       "    <tr style=\"text-align: right;\">\n",
       "      <th></th>\n",
       "      <th>HDI</th>\n",
       "      <th>HDI_Rank</th>\n",
       "    </tr>\n",
       "  </thead>\n",
       "  <tbody>\n",
       "    <tr>\n",
       "      <th>count</th>\n",
       "      <td>191.000000</td>\n",
       "      <td>191.000000</td>\n",
       "    </tr>\n",
       "    <tr>\n",
       "      <th>mean</th>\n",
       "      <td>0.720576</td>\n",
       "      <td>95.811518</td>\n",
       "    </tr>\n",
       "    <tr>\n",
       "      <th>std</th>\n",
       "      <td>0.150661</td>\n",
       "      <td>55.307333</td>\n",
       "    </tr>\n",
       "    <tr>\n",
       "      <th>min</th>\n",
       "      <td>0.385000</td>\n",
       "      <td>1.000000</td>\n",
       "    </tr>\n",
       "    <tr>\n",
       "      <th>25%</th>\n",
       "      <td>0.599500</td>\n",
       "      <td>48.500000</td>\n",
       "    </tr>\n",
       "    <tr>\n",
       "      <th>50%</th>\n",
       "      <td>0.739000</td>\n",
       "      <td>96.000000</td>\n",
       "    </tr>\n",
       "    <tr>\n",
       "      <th>75%</th>\n",
       "      <td>0.835000</td>\n",
       "      <td>143.500000</td>\n",
       "    </tr>\n",
       "    <tr>\n",
       "      <th>max</th>\n",
       "      <td>0.962000</td>\n",
       "      <td>191.000000</td>\n",
       "    </tr>\n",
       "  </tbody>\n",
       "</table>\n",
       "</div>"
      ],
      "text/plain": [
       "              HDI    HDI_Rank\n",
       "count  191.000000  191.000000\n",
       "mean     0.720576   95.811518\n",
       "std      0.150661   55.307333\n",
       "min      0.385000    1.000000\n",
       "25%      0.599500   48.500000\n",
       "50%      0.739000   96.000000\n",
       "75%      0.835000  143.500000\n",
       "max      0.962000  191.000000"
      ]
     },
     "execution_count": 113,
     "metadata": {},
     "output_type": "execute_result"
    }
   ],
   "source": [
    "hdi_df.describe()"
   ]
  },
  {
   "cell_type": "markdown",
   "metadata": {},
   "source": [
    "We won't drop the rows with null values in the 'Region' row as we can still use the HDI-value of these countries for non-regional analysis."
   ]
  },
  {
   "cell_type": "markdown",
   "metadata": {},
   "source": [
    "## IQ"
   ]
  },
  {
   "cell_type": "code",
   "execution_count": 96,
   "metadata": {},
   "outputs": [
    {
     "data": {
      "text/html": [
       "<div>\n",
       "<style scoped>\n",
       "    .dataframe tbody tr th:only-of-type {\n",
       "        vertical-align: middle;\n",
       "    }\n",
       "\n",
       "    .dataframe tbody tr th {\n",
       "        vertical-align: top;\n",
       "    }\n",
       "\n",
       "    .dataframe thead th {\n",
       "        text-align: right;\n",
       "    }\n",
       "</style>\n",
       "<table border=\"1\" class=\"dataframe\">\n",
       "  <thead>\n",
       "    <tr style=\"text-align: right;\">\n",
       "      <th></th>\n",
       "      <th>Rank</th>\n",
       "      <th>Country</th>\n",
       "      <th>Measured IQ</th>\n",
       "      <th>IQ data quality</th>\n",
       "      <th>SchAch</th>\n",
       "      <th>SA direct</th>\n",
       "      <th>SA scaled</th>\n",
       "      <th>SA data quality</th>\n",
       "      <th>Final IQ</th>\n",
       "      <th>Final IQ.1</th>\n",
       "    </tr>\n",
       "  </thead>\n",
       "  <tbody>\n",
       "    <tr>\n",
       "      <th>84</th>\n",
       "      <td>86.0</td>\n",
       "      <td>Brazil</td>\n",
       "      <td>87.0</td>\n",
       "      <td>13.0</td>\n",
       "      <td>396.1</td>\n",
       "      <td>80.4</td>\n",
       "      <td>83.3</td>\n",
       "      <td>8.0</td>\n",
       "      <td>85.6</td>\n",
       "      <td>85.6</td>\n",
       "    </tr>\n",
       "    <tr>\n",
       "      <th>114</th>\n",
       "      <td>113.5</td>\n",
       "      <td>Syria</td>\n",
       "      <td>80.5</td>\n",
       "      <td>7.0</td>\n",
       "      <td>427.0</td>\n",
       "      <td>85.1</td>\n",
       "      <td>87.1</td>\n",
       "      <td>2.0</td>\n",
       "      <td>82</td>\n",
       "      <td>82.0</td>\n",
       "    </tr>\n",
       "    <tr>\n",
       "      <th>70</th>\n",
       "      <td>71.0</td>\n",
       "      <td>Mexico</td>\n",
       "      <td>88.0</td>\n",
       "      <td>8.0</td>\n",
       "      <td>431.2</td>\n",
       "      <td>85.8</td>\n",
       "      <td>87.6</td>\n",
       "      <td>8.0</td>\n",
       "      <td>87.8</td>\n",
       "      <td>87.8</td>\n",
       "    </tr>\n",
       "  </tbody>\n",
       "</table>\n",
       "</div>"
      ],
      "text/plain": [
       "      Rank Country  Measured IQ  IQ data quality   SchAch  SA direct  \\\n",
       "84    86.0  Brazil         87.0             13.0    396.1       80.4   \n",
       "114  113.5   Syria         80.5              7.0    427.0       85.1   \n",
       "70    71.0  Mexico         88.0              8.0    431.2       85.8   \n",
       "\n",
       "     SA scaled  SA data quality  Final IQ   Final IQ.1  \n",
       "84        83.3              8.0      85.6         85.6  \n",
       "114       87.1              2.0        82         82.0  \n",
       "70        87.6              8.0      87.8         87.8  "
      ]
     },
     "execution_count": 96,
     "metadata": {},
     "output_type": "execute_result"
    }
   ],
   "source": [
    "iq_df = pd.read_csv('data/National_IQ.csv')\n",
    "iq_df.sample(3)"
   ]
  },
  {
   "cell_type": "code",
   "execution_count": 97,
   "metadata": {},
   "outputs": [
    {
     "name": "stdout",
     "output_type": "stream",
     "text": [
      "<class 'pandas.core.frame.DataFrame'>\n",
      "RangeIndex: 204 entries, 0 to 203\n",
      "Data columns (total 10 columns):\n",
      " #   Column           Non-Null Count  Dtype  \n",
      "---  ------           --------------  -----  \n",
      " 0   Rank             162 non-null    float64\n",
      " 1   Country          204 non-null    object \n",
      " 2   Measured IQ      136 non-null    float64\n",
      " 3   IQ data quality  137 non-null    float64\n",
      " 4    SchAch          113 non-null    float64\n",
      " 5   SA direct        111 non-null    float64\n",
      " 6   SA scaled        112 non-null    float64\n",
      " 7   SA data quality  112 non-null    float64\n",
      " 8    Final IQ        204 non-null    object \n",
      " 9    Final IQ.1      204 non-null    float64\n",
      "dtypes: float64(8), object(2)\n",
      "memory usage: 16.1+ KB\n"
     ]
    }
   ],
   "source": [
    "iq_df.info()\n"
   ]
  },
  {
   "cell_type": "markdown",
   "metadata": {},
   "source": [
    "The values which we are intersted in are ones which are easily interpretable, and relevant to the research question, which aim it is to compare the HDI scores with the IQ scores. To do this, the IQ, the Rank of the country and the country itself ought to be included. "
   ]
  },
  {
   "cell_type": "code",
   "execution_count": 98,
   "metadata": {},
   "outputs": [
    {
     "data": {
      "text/plain": [
       "Index(['Rank', 'Country', 'Measured IQ', 'IQ data quality', ' SchAch',\n",
       "       'SA direct', 'SA scaled', 'SA data quality', ' Final IQ',\n",
       "       ' Final IQ.1'],\n",
       "      dtype='object')"
      ]
     },
     "execution_count": 98,
     "metadata": {},
     "output_type": "execute_result"
    }
   ],
   "source": [
    "iq_df.columns"
   ]
  },
  {
   "cell_type": "code",
   "execution_count": null,
   "metadata": {},
   "outputs": [],
   "source": []
  },
  {
   "cell_type": "code",
   "execution_count": 99,
   "metadata": {},
   "outputs": [],
   "source": [
    "columns_of_interest = ['Rank','Country', ' Final IQ']\n",
    "iq_df = iq_df[columns_of_interest]\n"
   ]
  },
  {
   "cell_type": "code",
   "execution_count": 100,
   "metadata": {},
   "outputs": [],
   "source": [
    "iq_df = iq_df.rename(columns=\n",
    "{' Final IQ': 'IQ',\n",
    "'Rank': 'IQ_Rank'\n",
    "})"
   ]
  },
  {
   "cell_type": "markdown",
   "metadata": {},
   "source": [
    "Since we are searching for potential biases and other correlations between the variables it is crucial that all the IQ values used will be the actual reported ones. Because of this, along with the same methodlogy being applied for the HDI dataset, we have to drop the NaN values rows of the IQ column. "
   ]
  },
  {
   "cell_type": "code",
   "execution_count": 101,
   "metadata": {},
   "outputs": [],
   "source": [
    "iq_df['IQ'].dropna(inplace=True)"
   ]
  },
  {
   "cell_type": "code",
   "execution_count": 102,
   "metadata": {},
   "outputs": [],
   "source": [
    "iq_df.set_index('Country',inplace=True)"
   ]
  },
  {
   "cell_type": "code",
   "execution_count": 103,
   "metadata": {},
   "outputs": [
    {
     "data": {
      "text/html": [
       "<div>\n",
       "<style scoped>\n",
       "    .dataframe tbody tr th:only-of-type {\n",
       "        vertical-align: middle;\n",
       "    }\n",
       "\n",
       "    .dataframe tbody tr th {\n",
       "        vertical-align: top;\n",
       "    }\n",
       "\n",
       "    .dataframe thead th {\n",
       "        text-align: right;\n",
       "    }\n",
       "</style>\n",
       "<table border=\"1\" class=\"dataframe\">\n",
       "  <thead>\n",
       "    <tr style=\"text-align: right;\">\n",
       "      <th></th>\n",
       "      <th>IQ_Rank</th>\n",
       "      <th>IQ</th>\n",
       "    </tr>\n",
       "    <tr>\n",
       "      <th>Country</th>\n",
       "      <th></th>\n",
       "      <th></th>\n",
       "    </tr>\n",
       "  </thead>\n",
       "  <tbody>\n",
       "    <tr>\n",
       "      <th>Singapore</th>\n",
       "      <td>1.0</td>\n",
       "      <td>107.1</td>\n",
       "    </tr>\n",
       "    <tr>\n",
       "      <th>China</th>\n",
       "      <td>2.0</td>\n",
       "      <td>105.8</td>\n",
       "    </tr>\n",
       "    <tr>\n",
       "      <th>Hong Kong</th>\n",
       "      <td>3.0</td>\n",
       "      <td>105.7</td>\n",
       "    </tr>\n",
       "    <tr>\n",
       "      <th>Korea: South</th>\n",
       "      <td>4.5</td>\n",
       "      <td>104.6</td>\n",
       "    </tr>\n",
       "    <tr>\n",
       "      <th>Taiwan</th>\n",
       "      <td>4.5</td>\n",
       "      <td>104.6</td>\n",
       "    </tr>\n",
       "    <tr>\n",
       "      <th>...</th>\n",
       "      <td>...</td>\n",
       "      <td>...</td>\n",
       "    </tr>\n",
       "    <tr>\n",
       "      <th>GuineaBissau</th>\n",
       "      <td>NaN</td>\n",
       "      <td>(69)</td>\n",
       "    </tr>\n",
       "    <tr>\n",
       "      <th>Liberia</th>\n",
       "      <td>NaN</td>\n",
       "      <td>(68)</td>\n",
       "    </tr>\n",
       "    <tr>\n",
       "      <th>Haiti</th>\n",
       "      <td>NaN</td>\n",
       "      <td>(67)</td>\n",
       "    </tr>\n",
       "    <tr>\n",
       "      <th>Sao Tome &amp; Principe</th>\n",
       "      <td>NaN</td>\n",
       "      <td>(67)</td>\n",
       "    </tr>\n",
       "    <tr>\n",
       "      <th>Chad</th>\n",
       "      <td>NaN</td>\n",
       "      <td>(66)</td>\n",
       "    </tr>\n",
       "  </tbody>\n",
       "</table>\n",
       "<p>204 rows × 2 columns</p>\n",
       "</div>"
      ],
      "text/plain": [
       "                     IQ_Rank     IQ\n",
       "Country                            \n",
       "Singapore                1.0  107.1\n",
       "China                    2.0  105.8\n",
       "Hong Kong                3.0  105.7\n",
       "Korea: South             4.5  104.6\n",
       "Taiwan                   4.5  104.6\n",
       "...                      ...    ...\n",
       "GuineaBissau             NaN   (69)\n",
       "Liberia                  NaN   (68)\n",
       "Haiti                    NaN   (67)\n",
       "Sao Tome & Principe      NaN   (67)\n",
       "Chad                     NaN   (66)\n",
       "\n",
       "[204 rows x 2 columns]"
      ]
     },
     "execution_count": 103,
     "metadata": {},
     "output_type": "execute_result"
    }
   ],
   "source": [
    "iq_df"
   ]
  },
  {
   "cell_type": "markdown",
   "metadata": {},
   "source": [
    "The values in brackets are estimated from the neighbouring countries"
   ]
  },
  {
   "cell_type": "markdown",
   "metadata": {},
   "source": [
    "# 1. Cleaning the Data"
   ]
  },
  {
   "cell_type": "code",
   "execution_count": null,
   "metadata": {},
   "outputs": [],
   "source": []
  },
  {
   "cell_type": "markdown",
   "metadata": {},
   "source": [
    "\n",
    "# 1. Merge Data\n"
   ]
  },
  {
   "cell_type": "code",
   "execution_count": 104,
   "metadata": {},
   "outputs": [
    {
     "name": "stdout",
     "output_type": "stream",
     "text": [
      "<class 'pandas.core.frame.DataFrame'>\n",
      "Index: 245 entries, Afghanistan to Sao Tome & Principe\n",
      "Data columns (total 6 columns):\n",
      " #   Column     Non-Null Count  Dtype  \n",
      "---  ------     --------------  -----  \n",
      " 0   HDI Group  191 non-null    object \n",
      " 1   HDI        191 non-null    float64\n",
      " 2   Region     148 non-null    object \n",
      " 3   HDI_Rank   191 non-null    float64\n",
      " 4   IQ_Rank    162 non-null    float64\n",
      " 5   IQ         204 non-null    object \n",
      "dtypes: float64(3), object(3)\n",
      "memory usage: 13.4+ KB\n"
     ]
    }
   ],
   "source": [
    "outer_join_df = hdi_df.merge(iq_df, how='outer',on='Country')\n",
    "outer_join_df.info()"
   ]
  },
  {
   "cell_type": "code",
   "execution_count": 105,
   "metadata": {},
   "outputs": [
    {
     "name": "stdout",
     "output_type": "stream",
     "text": [
      "In IQ but missing in HDI: \n",
      " ['(Serbia &) Montenegro', 'Antigua/Barbuda', 'Bermuda', 'Bolivia', 'Bosnia', 'Brunei', 'Cape Verde', 'Central African Rep.', 'Congo (Brazzaville)', 'Congo (Zaire)', 'Cook Islands', 'CostaRica', \"Cote d'Ivoire\", 'CzechRep.', 'EastTimor', 'England', 'Greenland', 'GuineaBissau', 'Hong Kong', 'Iran', 'Korea: North', 'Korea: South', 'Laos', 'Macao', 'Macedonia', 'Mariana Islands', 'Micronesia', 'Moldova', 'Myanmar/Burma', 'Netherlands Antilles', 'New Caledonia', 'Palestine', 'Papua N.G.', 'Puerto Rico', 'Russia', 'Samoa (Western)', 'Sao Tome & Principe', 'Scotland', 'Serbia & (Montenegro)', 'Somalia', 'St  Helena', 'St Kitts & Nevis', 'St Lucia', 'St Vincent', 'Swaziland', 'Syria', 'Taiwan', 'Tanzania', 'Tibet', 'Trinidad & Tobago', 'USA', 'Venezuela', 'Vietnam', 'Zanzibar']\n",
      "In HDI but missing in IQ: \n",
      " ['Antigua and Barbuda', 'Bolivia (Plurinational State of)', 'Bosnia and Herzegovina', 'Brunei Darussalam', 'Cabo Verde', 'Central African Republic', 'Congo', 'Congo (Democratic Republic of the)', 'Costa Rica', 'Czechia', \"Côte d'Ivoire\", 'Eswatini (Kingdom of)', 'Guinea-Bissau', 'Hong Kong, China (SAR)', 'Iran (Islamic Republic of)', 'Korea (Republic of)', \"Lao People's Democratic Republic\", 'Micronesia (Federated States of)', 'Moldova (Republic of)', 'Myanmar', 'North Macedonia', 'Palau', 'Palestine, State of', 'Papua New Guinea', 'Russian Federation', 'Saint Kitts and Nevis', 'Saint Lucia', 'Saint Vincent and the Grenadines', 'Samoa', 'San Marino', 'Sao Tome and Principe', 'Serbia', 'South Sudan', 'Syrian Arab Republic', 'Tanzania (United Republic of)', 'Timor-Leste', 'Trinidad and Tobago', 'Tuvalu', 'United States', 'Venezuela (Bolivarian Republic of)', 'Viet Nam']\n"
     ]
    }
   ],
   "source": [
    "missing_in_hdi = outer_join_df[outer_join_df['HDI'].isnull()].index\n",
    "missing_in_hdi = sorted(missing_in_hdi.tolist())\n",
    "print(\"In IQ but missing in HDI: \\n\", missing_in_hdi)\n",
    "\n",
    "missing_in_IQ = outer_join_df[outer_join_df['IQ'].isnull()].index\n",
    "missing_in_IQ = sorted(missing_in_IQ.tolist())\n",
    "print('In HDI but missing in IQ: \\n', missing_in_IQ)\n",
    "#A few countries on the list seem to have data for both data sets, but are named differently, which makes for the large amount of values (252)\n",
    "iq_renaming = {\n",
    "'(Serbia &) Montenegro' : 'Montenegro',\n",
    "'Central African Rep.' : 'Central African Republic',\n",
    "'CostaRica' : 'Costa Rica',\n",
    "'GuineaBissau' : 'Guinea-Bissau',\n",
    "'Myanmar/Burma' : 'Myanmar',\n",
    "'Papua N.G.' : 'Papua New Guinea',\n",
    "'CzechRep.' : 'Czechia',\n",
    "'Macedonia' : 'North Macedonia'\n",
    "}\n",
    "hdi_renaming = {\n",
    "    'Bolivia (Plurinational State of)' : 'Bolivia',\n",
    "    'Bosnia and Herzegovina': 'Bosnia',\n",
    "    'Brunei Darussalam' : 'Brunei',\n",
    "    'Cabo Verde': 'Cape Verde',\n",
    "    'Congo' : 'Congo (Brazzaville)',\n",
    "    'Congo (Democratic Republic of the)' : 'Congo (Zaire)',\n",
    "    'Hong Kong, China (SAR)' : 'Hong Kong',\n",
    "    'Iran (Islamic Republic of)' : 'Iran', \n",
    "    \"Lao People's Democratic Republic\" : 'Laos',\n",
    "    'Moldova (Republic of)' : 'Moldova',\n",
    "    'Palestine, State of' : 'Palestine',\n",
    "    'Russian Federation': 'Russia',\n",
    "    \"Côte d'Ivoire\": \"Cote d'Ivoire\",\n",
    "\n",
    "}\n",
    "iq_df = iq_df.rename(index = iq_renaming)\n",
    "hdi_df = hdi_df.rename(index = hdi_renaming)\n"
   ]
  },
  {
   "cell_type": "code",
   "execution_count": 106,
   "metadata": {},
   "outputs": [
    {
     "name": "stdout",
     "output_type": "stream",
     "text": [
      "In IQ but missing in HDI: \n",
      " ['Antigua/Barbuda', 'Bermuda', 'Cook Islands', 'EastTimor', 'England', 'Greenland', 'Korea: North', 'Korea: South', 'Macao', 'Mariana Islands', 'Micronesia', 'Netherlands Antilles', 'New Caledonia', 'Puerto Rico', 'Samoa (Western)', 'Sao Tome & Principe', 'Scotland', 'Serbia & (Montenegro)', 'Somalia', 'St  Helena', 'St Kitts & Nevis', 'St Lucia', 'St Vincent', 'Swaziland', 'Syria', 'Taiwan', 'Tanzania', 'Tibet', 'Trinidad & Tobago', 'USA', 'Venezuela', 'Vietnam', 'Zanzibar']\n",
      "In HDI but missing in IQ: \n",
      " ['Antigua and Barbuda', 'Eswatini (Kingdom of)', 'Korea (Republic of)', 'Micronesia (Federated States of)', 'Palau', 'Saint Kitts and Nevis', 'Saint Lucia', 'Saint Vincent and the Grenadines', 'Samoa', 'San Marino', 'Sao Tome and Principe', 'Serbia', 'South Sudan', 'Syrian Arab Republic', 'Tanzania (United Republic of)', 'Timor-Leste', 'Trinidad and Tobago', 'Tuvalu', 'United States', 'Venezuela (Bolivarian Republic of)', 'Viet Nam']\n"
     ]
    }
   ],
   "source": [
    "\n",
    "outer_join_df = hdi_df.merge(iq_df, how='outer',on='Country')\n",
    "missing_in_hdi = outer_join_df[outer_join_df['HDI'].isnull()].index\n",
    "missing_in_hdi = sorted(missing_in_hdi.tolist())\n",
    "print(\"In IQ but missing in HDI: \\n\", missing_in_hdi)\n",
    "\n",
    "missing_in_IQ = outer_join_df[outer_join_df['IQ'].isnull()].index\n",
    "missing_in_IQ = sorted(missing_in_IQ.tolist())\n",
    "print('In HDI but missing in IQ: \\n', missing_in_IQ)"
   ]
  },
  {
   "cell_type": "code",
   "execution_count": 107,
   "metadata": {},
   "outputs": [],
   "source": [
    "merged_df = outer_join_df.copy()"
   ]
  },
  {
   "cell_type": "code",
   "execution_count": 108,
   "metadata": {},
   "outputs": [
    {
     "name": "stdout",
     "output_type": "stream",
     "text": [
      "Index(['Antigua and Barbuda', 'Micronesia (Federated States of)',\n",
      "       'Saint Kitts and Nevis', 'Korea (Republic of)', 'Saint Lucia', 'Palau',\n",
      "       'San Marino', 'Serbia', 'South Sudan', 'Sao Tome and Principe',\n",
      "       'Eswatini (Kingdom of)', 'Syrian Arab Republic', 'Timor-Leste',\n",
      "       'Trinidad and Tobago', 'Tuvalu', 'Tanzania (United Republic of)',\n",
      "       'United States', 'Saint Vincent and the Grenadines',\n",
      "       'Venezuela (Bolivarian Republic of)', 'Viet Nam', 'Samoa'],\n",
      "      dtype='object', name='Country')\n"
     ]
    }
   ],
   "source": [
    "# Countries with NO IQ values\n",
    "nan_indices = merged_df[merged_df['IQ'].isnull()].index\n",
    "print(nan_indices)\n"
   ]
  },
  {
   "cell_type": "markdown",
   "metadata": {},
   "source": [
    "# 2. INTRODUCTION\n",
    "\n",
    "*In the introduction, provide the description of the problem addressed (the context of your data) and the project objectives.\n",
    "Very briefly describe the analysis design and how it accomplishes the stated objectives. \n",
    "State your research hypotheses in a human-understandable language.\n",
    "What  can the results be used for?*"
   ]
  },
  {
   "cell_type": "markdown",
   "metadata": {},
   "source": [
    "**Data**  \n",
    "The Data includes all countries (indices) and their global rank as well as value of their Human Development Index and Average IQ from the year 2021. The Data was merged from two distrinct databases, first the HDI data was sourced from the United Nations Development Program, short UNDP, public databases, the second IQ Data __ INSERT SOURCE __.\n",
    "\n",
    "**Problem**\n",
    "This projects aims to invetigate the correlation of IQ and HDI in different countries and regions of the world.\n",
    "\n",
    "**Hypotheses**\n",
    "Average Country IQ and Human Dvelopment Index are positively correlated.\n",
    "Data is mainly missing in third world countries and less developed regions.\n",
    "\n",
    "**Analysis Design**\n",
    "The Design is to first merge the two sources into one comprehensive Pandas Dataframe. After furter preperation and cleaning of the Data, we plan to do deailed univariate analysis\n",
    "such as ...\n",
    "....\n",
    "followed by bivariate analysis from\n",
    "...\n",
    "\n",
    "**What the results can be used for**\n",
    "The result can be used by legislators to asses their countries position, in perspective of wheter they are under or overperforming in terms of IQ. This means that if a cuntries IQ is lower than to other countries with similar HDI, they should aim to set goals in terms of education, mental fitness, etc. to improve their AVG Iq in the long run."
   ]
  },
  {
   "cell_type": "markdown",
   "metadata": {},
   "source": [
    "# 3. DATA CLEANING AND PREPARATION\n",
    "\n",
    "What did you need to do to clean and prepare your dataset?\n",
    "Missing values, duplicates, inconsistent data types…\n"
   ]
  },
  {
   "cell_type": "code",
   "execution_count": null,
   "metadata": {},
   "outputs": [],
   "source": []
  },
  {
   "cell_type": "markdown",
   "metadata": {},
   "source": [
    "# 4.  DESCRIPTIVE STATISTICS"
   ]
  },
  {
   "cell_type": "markdown",
   "metadata": {},
   "source": [
    "## 4.1  Univariate analysis\n",
    "Histogram and metrics introduced in class. Outliers identification. Interpret and discuss your results."
   ]
  },
  {
   "cell_type": "markdown",
   "metadata": {},
   "source": [
    "### 4.1.1 HDI"
   ]
  },
  {
   "cell_type": "code",
   "execution_count": 180,
   "metadata": {},
   "outputs": [
    {
     "data": {
      "text/html": [
       "<div>\n",
       "<style scoped>\n",
       "    .dataframe tbody tr th:only-of-type {\n",
       "        vertical-align: middle;\n",
       "    }\n",
       "\n",
       "    .dataframe tbody tr th {\n",
       "        vertical-align: top;\n",
       "    }\n",
       "\n",
       "    .dataframe thead th {\n",
       "        text-align: right;\n",
       "    }\n",
       "</style>\n",
       "<table border=\"1\" class=\"dataframe\">\n",
       "  <thead>\n",
       "    <tr style=\"text-align: right;\">\n",
       "      <th></th>\n",
       "      <th>Country</th>\n",
       "      <th>HDI Group</th>\n",
       "      <th>HDI</th>\n",
       "      <th>Region</th>\n",
       "      <th>HDI_Rank</th>\n",
       "    </tr>\n",
       "  </thead>\n",
       "  <tbody>\n",
       "    <tr>\n",
       "      <th>199</th>\n",
       "      <td>Arab States</td>\n",
       "      <td>NaN</td>\n",
       "      <td>0.708</td>\n",
       "      <td>NaN</td>\n",
       "      <td>NaN</td>\n",
       "    </tr>\n",
       "    <tr>\n",
       "      <th>200</th>\n",
       "      <td>East Asia and the Pacific</td>\n",
       "      <td>NaN</td>\n",
       "      <td>0.749</td>\n",
       "      <td>NaN</td>\n",
       "      <td>NaN</td>\n",
       "    </tr>\n",
       "    <tr>\n",
       "      <th>201</th>\n",
       "      <td>Europe and Central Asia</td>\n",
       "      <td>NaN</td>\n",
       "      <td>0.796</td>\n",
       "      <td>NaN</td>\n",
       "      <td>NaN</td>\n",
       "    </tr>\n",
       "    <tr>\n",
       "      <th>202</th>\n",
       "      <td>Latin America and the Caribbean</td>\n",
       "      <td>NaN</td>\n",
       "      <td>0.754</td>\n",
       "      <td>NaN</td>\n",
       "      <td>NaN</td>\n",
       "    </tr>\n",
       "    <tr>\n",
       "      <th>203</th>\n",
       "      <td>South Asia</td>\n",
       "      <td>NaN</td>\n",
       "      <td>0.632</td>\n",
       "      <td>NaN</td>\n",
       "      <td>NaN</td>\n",
       "    </tr>\n",
       "    <tr>\n",
       "      <th>204</th>\n",
       "      <td>Sub-Saharan Africa</td>\n",
       "      <td>NaN</td>\n",
       "      <td>0.547</td>\n",
       "      <td>NaN</td>\n",
       "      <td>NaN</td>\n",
       "    </tr>\n",
       "  </tbody>\n",
       "</table>\n",
       "</div>"
      ],
      "text/plain": [
       "                             Country HDI Group    HDI Region  HDI_Rank\n",
       "199                      Arab States       NaN  0.708    NaN       NaN\n",
       "200        East Asia and the Pacific       NaN  0.749    NaN       NaN\n",
       "201          Europe and Central Asia       NaN  0.796    NaN       NaN\n",
       "202  Latin America and the Caribbean       NaN  0.754    NaN       NaN\n",
       "203                       South Asia       NaN  0.632    NaN       NaN\n",
       "204               Sub-Saharan Africa       NaN  0.547    NaN       NaN"
      ]
     },
     "execution_count": 180,
     "metadata": {},
     "output_type": "execute_result"
    }
   ],
   "source": [
    "hdi_df_regions.tail(7).head(6)"
   ]
  },
  {
   "cell_type": "code",
   "execution_count": 172,
   "metadata": {},
   "outputs": [
    {
     "name": "stderr",
     "output_type": "stream",
     "text": [
      "/var/folders/qc/7382bn3j7vq46cnb3_4lsqk40000gn/T/ipykernel_48750/1464275638.py:1: FutureWarning: Calling float on a single element Series is deprecated and will raise a TypeError in the future. Use float(ser.iloc[0]) instead\n",
      "  float(hdi_df_regions[hdi_df_regions['Country'] == 'Arab States']['HDI'])\n"
     ]
    },
    {
     "data": {
      "text/plain": [
       "0.708"
      ]
     },
     "execution_count": 172,
     "metadata": {},
     "output_type": "execute_result"
    }
   ],
   "source": [
    "float(hdi_df_regions[hdi_df_regions['Country'] == 'Arab States']['HDI'])"
   ]
  },
  {
   "cell_type": "markdown",
   "metadata": {},
   "source": [
    "# I will finish later"
   ]
  },
  {
   "cell_type": "code",
   "execution_count": 192,
   "metadata": {},
   "outputs": [],
   "source": [
    "custom_color_palette = ['red', 'green', 'orange', 'pink', 'purple', 'brown']"
   ]
  },
  {
   "cell_type": "code",
   "execution_count": 200,
   "metadata": {},
   "outputs": [
    {
     "data": {
      "image/png": "[encoded data removed]",
      "text/plain": [
       "<Figure size 640x480 with 1 Axes>"
      ]
     },
     "metadata": {},
     "output_type": "display_data"
    }
   ],
   "source": [
    "colors = dict(zip(hdi_df_regions.tail(7).head(6)['Country'], custom_color_palette))\n",
    "\n",
    "sns.histplot(hdi_df['HDI'])\n",
    "mean_hdi, standard_dev_hdi, skewness_hdi, kurtosis_hdi = hdi_df['HDI'].mean(), hdi_df['HDI'].std(), skew(hdi_df['HDI']), kurtosis(hdi_df['HDI'])\n",
    "for _, region in hdi_df_regions.tail(7).head(6).iterrows():  \n",
    "    plt.axvline(float(region['HDI']), color=colors[region['Country']], linestyle='dashed', linewidth=2, label=region['Country'])\n",
    "plt.text(0.8, 0.8, 'Mean: {:.2f}'.format(mean_hdi)+ '\\n'+ 'Var: {:.2f}'.format(standard_dev_hdi)+ '\\n'+ 'Skew: {:.2f}'.format(skewness_hdi)+ '\\n'+ 'Kurt: {:.2f}'.format(kurtosis_hdi), \n",
    "             transform=plt.gca().transAxes, fontsize=10,  bbox=dict(facecolor='white', alpha=0.7))\n",
    "plt.title('HDI Distribution', fontsize=15)\n",
    "plt.xlabel('HDI', fontsize=12)\n",
    "plt.ylabel('Frequency', fontsize=12)\n",
    "plt.legend()\n",
    "plt.show()"
   ]
  },
  {
   "cell_type": "code",
   "execution_count": 121,
   "metadata": {},
   "outputs": [],
   "source": [
    "# Creating color palette for the regions\n",
    "region_col = hdi_df[\"Region\"].unique()\n",
    "color_dict = dict(zip(region_col, sns.color_palette(\"muted\", len(region_col))))"
   ]
  },
  {
   "cell_type": "code",
   "execution_count": 127,
   "metadata": {},
   "outputs": [
    {
     "data": {
      "image/png": "[encoded data removed]",
      "text/plain": [
       "<Figure size 800x800 with 1 Axes>"
      ]
     },
     "metadata": {},
     "output_type": "display_data"
    }
   ],
   "source": [
    "# Create a boxplot for the HDI of the countries sorted by region\n",
    "plt.figure(figsize=(8,8))\n",
    "sns.boxplot(data=hdi_df, x='HDI', y='Region', hue = 'Region', palette=color_dict)\n",
    "# Increase font of the title and the labels\n",
    "plt.title('HDI of countries by region', fontsize=20)\n",
    "plt.xlabel('HDI', fontsize=15)\n",
    "plt.ylabel('Region', fontsize=15)\n",
    "plt.xticks(rotation=45)\n",
    "plt.show()"
   ]
  },
  {
   "cell_type": "markdown",
   "metadata": {},
   "source": [
    "As we can see we have a couple of ouliers. Lets look at them separately:"
   ]
  },
  {
   "cell_type": "code",
   "execution_count": 130,
   "metadata": {},
   "outputs": [
    {
     "data": {
      "text/html": [
       "<div>\n",
       "<style scoped>\n",
       "    .dataframe tbody tr th:only-of-type {\n",
       "        vertical-align: middle;\n",
       "    }\n",
       "\n",
       "    .dataframe tbody tr th {\n",
       "        vertical-align: top;\n",
       "    }\n",
       "\n",
       "    .dataframe thead th {\n",
       "        text-align: right;\n",
       "    }\n",
       "</style>\n",
       "<table border=\"1\" class=\"dataframe\">\n",
       "  <thead>\n",
       "    <tr style=\"text-align: right;\">\n",
       "      <th></th>\n",
       "      <th>HDI Group</th>\n",
       "      <th>HDI</th>\n",
       "      <th>Region</th>\n",
       "      <th>HDI_Rank</th>\n",
       "    </tr>\n",
       "    <tr>\n",
       "      <th>Country</th>\n",
       "      <th></th>\n",
       "      <th></th>\n",
       "      <th></th>\n",
       "      <th></th>\n",
       "    </tr>\n",
       "  </thead>\n",
       "  <tbody>\n",
       "    <tr>\n",
       "      <th>Mauritius</th>\n",
       "      <td>Very High</td>\n",
       "      <td>0.802</td>\n",
       "      <td>SSA</td>\n",
       "      <td>63.0</td>\n",
       "    </tr>\n",
       "    <tr>\n",
       "      <th>Seychelles</th>\n",
       "      <td>High</td>\n",
       "      <td>0.785</td>\n",
       "      <td>SSA</td>\n",
       "      <td>72.0</td>\n",
       "    </tr>\n",
       "    <tr>\n",
       "      <th>South Africa</th>\n",
       "      <td>High</td>\n",
       "      <td>0.713</td>\n",
       "      <td>SSA</td>\n",
       "      <td>109.0</td>\n",
       "    </tr>\n",
       "    <tr>\n",
       "      <th>Gabon</th>\n",
       "      <td>High</td>\n",
       "      <td>0.706</td>\n",
       "      <td>SSA</td>\n",
       "      <td>112.0</td>\n",
       "    </tr>\n",
       "  </tbody>\n",
       "</table>\n",
       "</div>"
      ],
      "text/plain": [
       "              HDI Group    HDI Region  HDI_Rank\n",
       "Country                                        \n",
       "Mauritius     Very High  0.802    SSA      63.0\n",
       "Seychelles         High  0.785    SSA      72.0\n",
       "South Africa       High  0.713    SSA     109.0\n",
       "Gabon              High  0.706    SSA     112.0"
      ]
     },
     "execution_count": 130,
     "metadata": {},
     "output_type": "execute_result"
    }
   ],
   "source": [
    "hdi_df[hdi_df['Region'] == 'SSA'].sort_values(by='HDI', ascending=False).head(4)"
   ]
  },
  {
   "cell_type": "markdown",
   "metadata": {},
   "source": [
    "The HDI of the Seychelles and the HDI of Mauritius is 10-15% higher than the HDI of the next best country."
   ]
  },
  {
   "cell_type": "code",
   "execution_count": 131,
   "metadata": {},
   "outputs": [],
   "source": [
    "# Look at the IQ of these countries relatively to the Regions"
   ]
  },
  {
   "cell_type": "code",
   "execution_count": 137,
   "metadata": {},
   "outputs": [
    {
     "data": {
      "text/html": [
       "<div>\n",
       "<style scoped>\n",
       "    .dataframe tbody tr th:only-of-type {\n",
       "        vertical-align: middle;\n",
       "    }\n",
       "\n",
       "    .dataframe tbody tr th {\n",
       "        vertical-align: top;\n",
       "    }\n",
       "\n",
       "    .dataframe thead th {\n",
       "        text-align: right;\n",
       "    }\n",
       "</style>\n",
       "<table border=\"1\" class=\"dataframe\">\n",
       "  <thead>\n",
       "    <tr style=\"text-align: right;\">\n",
       "      <th></th>\n",
       "      <th>HDI Group</th>\n",
       "      <th>HDI</th>\n",
       "      <th>Region</th>\n",
       "      <th>HDI_Rank</th>\n",
       "    </tr>\n",
       "    <tr>\n",
       "      <th>Country</th>\n",
       "      <th></th>\n",
       "      <th></th>\n",
       "      <th></th>\n",
       "      <th></th>\n",
       "    </tr>\n",
       "  </thead>\n",
       "  <tbody>\n",
       "    <tr>\n",
       "      <th>Syrian Arab Republic</th>\n",
       "      <td>Medium</td>\n",
       "      <td>0.577</td>\n",
       "      <td>AS</td>\n",
       "      <td>150.0</td>\n",
       "    </tr>\n",
       "    <tr>\n",
       "      <th>Djibouti</th>\n",
       "      <td>Low</td>\n",
       "      <td>0.509</td>\n",
       "      <td>AS</td>\n",
       "      <td>171.0</td>\n",
       "    </tr>\n",
       "    <tr>\n",
       "      <th>Sudan</th>\n",
       "      <td>Low</td>\n",
       "      <td>0.508</td>\n",
       "      <td>AS</td>\n",
       "      <td>172.0</td>\n",
       "    </tr>\n",
       "    <tr>\n",
       "      <th>Yemen</th>\n",
       "      <td>Low</td>\n",
       "      <td>0.455</td>\n",
       "      <td>AS</td>\n",
       "      <td>183.0</td>\n",
       "    </tr>\n",
       "  </tbody>\n",
       "</table>\n",
       "</div>"
      ],
      "text/plain": [
       "                     HDI Group    HDI Region  HDI_Rank\n",
       "Country                                               \n",
       "Syrian Arab Republic    Medium  0.577     AS     150.0\n",
       "Djibouti                   Low  0.509     AS     171.0\n",
       "Sudan                      Low  0.508     AS     172.0\n",
       "Yemen                      Low  0.455     AS     183.0"
      ]
     },
     "execution_count": 137,
     "metadata": {},
     "output_type": "execute_result"
    }
   ],
   "source": [
    "hdi_df[hdi_df['Region'] == 'AS'].sort_values(by='HDI', ascending=False).tail(4)"
   ]
  },
  {
   "cell_type": "markdown",
   "metadata": {},
   "source": [
    "The HDI of Yemen is about 10% lower than the HDI of the next lowest country."
   ]
  },
  {
   "cell_type": "code",
   "execution_count": 136,
   "metadata": {},
   "outputs": [
    {
     "data": {
      "text/html": [
       "<div>\n",
       "<style scoped>\n",
       "    .dataframe tbody tr th:only-of-type {\n",
       "        vertical-align: middle;\n",
       "    }\n",
       "\n",
       "    .dataframe tbody tr th {\n",
       "        vertical-align: top;\n",
       "    }\n",
       "\n",
       "    .dataframe thead th {\n",
       "        text-align: right;\n",
       "    }\n",
       "</style>\n",
       "<table border=\"1\" class=\"dataframe\">\n",
       "  <thead>\n",
       "    <tr style=\"text-align: right;\">\n",
       "      <th></th>\n",
       "      <th>HDI Group</th>\n",
       "      <th>HDI</th>\n",
       "      <th>Region</th>\n",
       "      <th>HDI_Rank</th>\n",
       "    </tr>\n",
       "    <tr>\n",
       "      <th>Country</th>\n",
       "      <th></th>\n",
       "      <th></th>\n",
       "      <th></th>\n",
       "      <th></th>\n",
       "    </tr>\n",
       "  </thead>\n",
       "  <tbody>\n",
       "    <tr>\n",
       "      <th>Nicaragua</th>\n",
       "      <td>Medium</td>\n",
       "      <td>0.667</td>\n",
       "      <td>LAC</td>\n",
       "      <td>126.0</td>\n",
       "    </tr>\n",
       "    <tr>\n",
       "      <th>Guatemala</th>\n",
       "      <td>Medium</td>\n",
       "      <td>0.627</td>\n",
       "      <td>LAC</td>\n",
       "      <td>135.0</td>\n",
       "    </tr>\n",
       "    <tr>\n",
       "      <th>Honduras</th>\n",
       "      <td>Medium</td>\n",
       "      <td>0.621</td>\n",
       "      <td>LAC</td>\n",
       "      <td>137.0</td>\n",
       "    </tr>\n",
       "    <tr>\n",
       "      <th>Haiti</th>\n",
       "      <td>Low</td>\n",
       "      <td>0.535</td>\n",
       "      <td>LAC</td>\n",
       "      <td>163.0</td>\n",
       "    </tr>\n",
       "  </tbody>\n",
       "</table>\n",
       "</div>"
      ],
      "text/plain": [
       "          HDI Group    HDI Region  HDI_Rank\n",
       "Country                                    \n",
       "Nicaragua    Medium  0.667    LAC     126.0\n",
       "Guatemala    Medium  0.627    LAC     135.0\n",
       "Honduras     Medium  0.621    LAC     137.0\n",
       "Haiti           Low  0.535    LAC     163.0"
      ]
     },
     "execution_count": 136,
     "metadata": {},
     "output_type": "execute_result"
    }
   ],
   "source": [
    "hdi_df[hdi_df['Region'] == 'LAC'].sort_values(by='HDI', ascending=False).tail(4)"
   ]
  },
  {
   "cell_type": "markdown",
   "metadata": {},
   "source": [
    "The HDI of Haiti is abou 15% lower than the HDI of the next lowest country."
   ]
  },
  {
   "cell_type": "markdown",
   "metadata": {},
   "source": [
    "## 4.2  Bivariate analysis\n",
    "Scatter plots and correlation for pairs of variables of interest. Interpret and discuss your results."
   ]
  },
  {
   "cell_type": "code",
   "execution_count": null,
   "metadata": {},
   "outputs": [],
   "source": []
  },
  {
   "cell_type": "markdown",
   "metadata": {},
   "source": [
    "\n",
    "# 5.  DISCUSSION AND PRELIMINARY CONCLUSIONS \n",
    "\n",
    "Discuss the initial insights and how they align with the objectives set in the Introduction. Briefly address any limitations or challenges encountered in the data or analysis. Reflect on the implications of these findings and how they might guide future research directions or applications\n"
   ]
  }
 ],
 "metadata": {
  "kernelspec": {
   "display_name": "base",
   "language": "python",
   "name": "python3"
  },
  "language_info": {
   "codemirror_mode": {
    "name": "ipython",
    "version": 3
   },
   "file_extension": ".py",
   "mimetype": "text/x-python",
   "name": "python",
   "nbconvert_exporter": "python",
   "pygments_lexer": "ipython3",
   "version": "3.11.5"
  }
 },
 "nbformat": 4,
 "nbformat_minor": 2
}
