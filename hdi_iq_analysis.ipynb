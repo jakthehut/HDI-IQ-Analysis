{
 "cells": [
  {
   "cell_type": "markdown",
   "metadata": {},
   "source": [
    "\n",
    "# 1. Merge Data\n"
   ]
  },
  {
   "cell_type": "code",
   "execution_count": null,
   "metadata": {},
   "outputs": [],
   "source": []
  },
  {
   "cell_type": "markdown",
   "metadata": {},
   "source": [
    "# 2. INTRODUCTION\n",
    "\n",
    "In the introduction, provide the description of the problem addressed (the context of your data) and the project objectives.\n",
    "Very briefly describe the analysis design and how it accomplishes the stated objectives. \n",
    "State your research hypotheses in a human-understandable language.\n",
    "What  can the results be used for?"
   ]
  },
  {
   "cell_type": "code",
   "execution_count": null,
   "metadata": {},
   "outputs": [],
   "source": []
  },
  {
   "cell_type": "markdown",
   "metadata": {},
   "source": [
    "# 3. DATA CLEANING AND PREPARATION\n",
    "\n",
    "What did you need to do to clean and prepare your dataset?\n",
    "Missing values, duplicates, inconsistent data types…\n"
   ]
  },
  {
   "cell_type": "code",
   "execution_count": null,
   "metadata": {},
   "outputs": [],
   "source": []
  },
  {
   "cell_type": "markdown",
   "metadata": {},
   "source": [
    "# 4.  DESCRIPTIVE STATISTICS\n",
    "\n",
    "## 4.1  Univariate analysis\n",
    "Histogram and metrics introduced in class. Outliers identification. Interpret and discuss your results.\n",
    "\n",
    "## 4.2  Bivariate analysis\n",
    "Scatter plots and correlation for pairs of variables of interest. Interpret and discuss your results.\n"
   ]
  },
  {
   "cell_type": "code",
   "execution_count": null,
   "metadata": {},
   "outputs": [],
   "source": []
  },
  {
   "cell_type": "markdown",
   "metadata": {},
   "source": [
    "\n",
    "# 5.  DISCUSSION AND PRELIMINARY CONCLUSIONS \n",
    "\n",
    "Discuss the initial insights and how they align with the objectives set in the Introduction. Briefly address any limitations or challenges encountered in the data or analysis. Reflect on the implications of these findings and how they might guide future research directions or applications\n"
   ]
  }
 ],
 "metadata": {
  "language_info": {
   "name": "python"
  }
 },
 "nbformat": 4,
 "nbformat_minor": 2
}
