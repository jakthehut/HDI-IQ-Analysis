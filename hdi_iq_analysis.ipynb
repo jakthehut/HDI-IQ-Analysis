{
 "cells": [
  {
   "cell_type": "code",
   "execution_count": 1,
   "metadata": {},
   "outputs": [],
   "source": [
    "import pandas as pd\n",
    "import numpy as np \n",
    "import matplotlib.pyplot as plt\n",
    "import seaborn as sns"
   ]
  },
  {
   "cell_type": "markdown",
   "metadata": {},
   "source": [
    "# 0. Initial Data Loading and Exploration"
   ]
  },
  {
   "cell_type": "markdown",
   "metadata": {},
   "source": [
    "## HDI"
   ]
  },
  {
   "cell_type": "code",
   "execution_count": 2,
   "metadata": {},
   "outputs": [
    {
     "data": {
      "text/html": [
       "<div>\n",
       "<style scoped>\n",
       "    .dataframe tbody tr th:only-of-type {\n",
       "        vertical-align: middle;\n",
       "    }\n",
       "\n",
       "    .dataframe tbody tr th {\n",
       "        vertical-align: top;\n",
       "    }\n",
       "\n",
       "    .dataframe thead th {\n",
       "        text-align: right;\n",
       "    }\n",
       "</style>\n",
       "<table border=\"1\" class=\"dataframe\">\n",
       "  <thead>\n",
       "    <tr style=\"text-align: right;\">\n",
       "      <th></th>\n",
       "      <th>iso3</th>\n",
       "      <th>country</th>\n",
       "      <th>hdicode</th>\n",
       "      <th>region</th>\n",
       "      <th>hdi_rank_2021</th>\n",
       "      <th>hdi_1990</th>\n",
       "      <th>hdi_1991</th>\n",
       "      <th>hdi_1992</th>\n",
       "      <th>hdi_1993</th>\n",
       "      <th>hdi_1994</th>\n",
       "      <th>...</th>\n",
       "      <th>mf_2012</th>\n",
       "      <th>mf_2013</th>\n",
       "      <th>mf_2014</th>\n",
       "      <th>mf_2015</th>\n",
       "      <th>mf_2016</th>\n",
       "      <th>mf_2017</th>\n",
       "      <th>mf_2018</th>\n",
       "      <th>mf_2019</th>\n",
       "      <th>mf_2020</th>\n",
       "      <th>mf_2021</th>\n",
       "    </tr>\n",
       "  </thead>\n",
       "  <tbody>\n",
       "    <tr>\n",
       "      <th>102</th>\n",
       "      <td>LKA</td>\n",
       "      <td>Sri Lanka</td>\n",
       "      <td>High</td>\n",
       "      <td>SA</td>\n",
       "      <td>73.0</td>\n",
       "      <td>0.636</td>\n",
       "      <td>0.641</td>\n",
       "      <td>0.65</td>\n",
       "      <td>0.658</td>\n",
       "      <td>0.663</td>\n",
       "      <td>...</td>\n",
       "      <td>5.68</td>\n",
       "      <td>3.52</td>\n",
       "      <td>5.73</td>\n",
       "      <td>6.20</td>\n",
       "      <td>4.55</td>\n",
       "      <td>7.29</td>\n",
       "      <td>4.33</td>\n",
       "      <td>4.36</td>\n",
       "      <td>4.36</td>\n",
       "      <td>4.36</td>\n",
       "    </tr>\n",
       "    <tr>\n",
       "      <th>20</th>\n",
       "      <td>BLR</td>\n",
       "      <td>Belarus</td>\n",
       "      <td>Very High</td>\n",
       "      <td>ECA</td>\n",
       "      <td>60.0</td>\n",
       "      <td>NaN</td>\n",
       "      <td>NaN</td>\n",
       "      <td>NaN</td>\n",
       "      <td>NaN</td>\n",
       "      <td>NaN</td>\n",
       "      <td>...</td>\n",
       "      <td>6.07</td>\n",
       "      <td>7.55</td>\n",
       "      <td>7.98</td>\n",
       "      <td>6.53</td>\n",
       "      <td>5.63</td>\n",
       "      <td>6.18</td>\n",
       "      <td>6.75</td>\n",
       "      <td>5.59</td>\n",
       "      <td>5.59</td>\n",
       "      <td>5.59</td>\n",
       "    </tr>\n",
       "    <tr>\n",
       "      <th>162</th>\n",
       "      <td>SUR</td>\n",
       "      <td>Suriname</td>\n",
       "      <td>High</td>\n",
       "      <td>LAC</td>\n",
       "      <td>99.0</td>\n",
       "      <td>NaN</td>\n",
       "      <td>NaN</td>\n",
       "      <td>NaN</td>\n",
       "      <td>NaN</td>\n",
       "      <td>NaN</td>\n",
       "      <td>...</td>\n",
       "      <td>NaN</td>\n",
       "      <td>NaN</td>\n",
       "      <td>NaN</td>\n",
       "      <td>NaN</td>\n",
       "      <td>NaN</td>\n",
       "      <td>NaN</td>\n",
       "      <td>NaN</td>\n",
       "      <td>NaN</td>\n",
       "      <td>NaN</td>\n",
       "      <td>NaN</td>\n",
       "    </tr>\n",
       "  </tbody>\n",
       "</table>\n",
       "<p>3 rows × 1008 columns</p>\n",
       "</div>"
      ],
      "text/plain": [
       "    iso3    country    hdicode region  hdi_rank_2021  hdi_1990  hdi_1991  \\\n",
       "102  LKA  Sri Lanka       High     SA           73.0     0.636     0.641   \n",
       "20   BLR    Belarus  Very High    ECA           60.0       NaN       NaN   \n",
       "162  SUR   Suriname       High    LAC           99.0       NaN       NaN   \n",
       "\n",
       "     hdi_1992  hdi_1993  hdi_1994  ...  mf_2012  mf_2013  mf_2014  mf_2015  \\\n",
       "102      0.65     0.658     0.663  ...     5.68     3.52     5.73     6.20   \n",
       "20        NaN       NaN       NaN  ...     6.07     7.55     7.98     6.53   \n",
       "162       NaN       NaN       NaN  ...      NaN      NaN      NaN      NaN   \n",
       "\n",
       "     mf_2016  mf_2017  mf_2018  mf_2019  mf_2020  mf_2021  \n",
       "102     4.55     7.29     4.33     4.36     4.36     4.36  \n",
       "20      5.63     6.18     6.75     5.59     5.59     5.59  \n",
       "162      NaN      NaN      NaN      NaN      NaN      NaN  \n",
       "\n",
       "[3 rows x 1008 columns]"
      ]
     },
     "execution_count": 2,
     "metadata": {},
     "output_type": "execute_result"
    }
   ],
   "source": [
    "hdi_df = pd.read_csv('data/HDR21-22_Composite_indices_complete_time_series.csv')\n",
    "hdi_df.sample(3)"
   ]
  },
  {
   "cell_type": "code",
   "execution_count": 26,
   "metadata": {},
   "outputs": [],
   "source": [
    "# Exploring the columns\n",
    "\n",
    "# hdi_df.columns.tolist()"
   ]
  },
  {
   "cell_type": "code",
   "execution_count": 4,
   "metadata": {},
   "outputs": [
    {
     "data": {
      "text/html": [
       "<div>\n",
       "<style scoped>\n",
       "    .dataframe tbody tr th:only-of-type {\n",
       "        vertical-align: middle;\n",
       "    }\n",
       "\n",
       "    .dataframe tbody tr th {\n",
       "        vertical-align: top;\n",
       "    }\n",
       "\n",
       "    .dataframe thead th {\n",
       "        text-align: right;\n",
       "    }\n",
       "</style>\n",
       "<table border=\"1\" class=\"dataframe\">\n",
       "  <thead>\n",
       "    <tr style=\"text-align: right;\">\n",
       "      <th></th>\n",
       "      <th>country</th>\n",
       "      <th>hdicode</th>\n",
       "      <th>hdi_2021</th>\n",
       "      <th>region</th>\n",
       "      <th>hdi_rank_2021</th>\n",
       "    </tr>\n",
       "  </thead>\n",
       "  <tbody>\n",
       "    <tr>\n",
       "      <th>0</th>\n",
       "      <td>Afghanistan</td>\n",
       "      <td>Low</td>\n",
       "      <td>0.478</td>\n",
       "      <td>SA</td>\n",
       "      <td>180.0</td>\n",
       "    </tr>\n",
       "    <tr>\n",
       "      <th>1</th>\n",
       "      <td>Angola</td>\n",
       "      <td>Medium</td>\n",
       "      <td>0.586</td>\n",
       "      <td>SSA</td>\n",
       "      <td>148.0</td>\n",
       "    </tr>\n",
       "    <tr>\n",
       "      <th>2</th>\n",
       "      <td>Albania</td>\n",
       "      <td>High</td>\n",
       "      <td>0.796</td>\n",
       "      <td>ECA</td>\n",
       "      <td>67.0</td>\n",
       "    </tr>\n",
       "    <tr>\n",
       "      <th>3</th>\n",
       "      <td>Andorra</td>\n",
       "      <td>Very High</td>\n",
       "      <td>0.858</td>\n",
       "      <td>NaN</td>\n",
       "      <td>40.0</td>\n",
       "    </tr>\n",
       "    <tr>\n",
       "      <th>4</th>\n",
       "      <td>United Arab Emirates</td>\n",
       "      <td>Very High</td>\n",
       "      <td>0.911</td>\n",
       "      <td>AS</td>\n",
       "      <td>26.0</td>\n",
       "    </tr>\n",
       "  </tbody>\n",
       "</table>\n",
       "</div>"
      ],
      "text/plain": [
       "                country    hdicode  hdi_2021 region  hdi_rank_2021\n",
       "0           Afghanistan        Low     0.478     SA          180.0\n",
       "1                Angola     Medium     0.586    SSA          148.0\n",
       "2               Albania       High     0.796    ECA           67.0\n",
       "3               Andorra  Very High     0.858    NaN           40.0\n",
       "4  United Arab Emirates  Very High     0.911     AS           26.0"
      ]
     },
     "execution_count": 4,
     "metadata": {},
     "output_type": "execute_result"
    }
   ],
   "source": [
    "# Selecting the columns of interest\n",
    "hdi_df = hdi_df[['country', 'hdicode', 'hdi_2021', 'region','hdi_rank_2021']]\n",
    "hdi_df.head()"
   ]
  },
  {
   "cell_type": "code",
   "execution_count": 5,
   "metadata": {},
   "outputs": [],
   "source": [
    "# Renaming the columns so that they are easier to understand \n",
    "hdi_df.rename(columns={'hdi_2021': 'HDI',\n",
    "                       'country': 'Country',\n",
    "                       'hdicode': 'HDI Group',\n",
    "                       'region': 'Region',\n",
    "                       'hdi_rank_2021': 'HDI_Rank'}, inplace=True)    "
   ]
  },
  {
   "cell_type": "code",
   "execution_count": 6,
   "metadata": {},
   "outputs": [
    {
     "name": "stdout",
     "output_type": "stream",
     "text": [
      "<class 'pandas.core.frame.DataFrame'>\n",
      "RangeIndex: 206 entries, 0 to 205\n",
      "Data columns (total 5 columns):\n",
      " #   Column     Non-Null Count  Dtype  \n",
      "---  ------     --------------  -----  \n",
      " 0   Country    206 non-null    object \n",
      " 1   HDI Group  191 non-null    object \n",
      " 2   HDI        202 non-null    float64\n",
      " 3   Region     151 non-null    object \n",
      " 4   HDI_Rank   191 non-null    float64\n",
      "dtypes: float64(2), object(3)\n",
      "memory usage: 8.2+ KB\n"
     ]
    }
   ],
   "source": [
    "hdi_df.info()"
   ]
  },
  {
   "cell_type": "markdown",
   "metadata": {},
   "source": [
    "#### Lets look at the null values"
   ]
  },
  {
   "cell_type": "code",
   "execution_count": 7,
   "metadata": {},
   "outputs": [
    {
     "data": {
      "text/html": [
       "<div>\n",
       "<style scoped>\n",
       "    .dataframe tbody tr th:only-of-type {\n",
       "        vertical-align: middle;\n",
       "    }\n",
       "\n",
       "    .dataframe tbody tr th {\n",
       "        vertical-align: top;\n",
       "    }\n",
       "\n",
       "    .dataframe thead th {\n",
       "        text-align: right;\n",
       "    }\n",
       "</style>\n",
       "<table border=\"1\" class=\"dataframe\">\n",
       "  <thead>\n",
       "    <tr style=\"text-align: right;\">\n",
       "      <th></th>\n",
       "      <th>Country</th>\n",
       "      <th>HDI Group</th>\n",
       "      <th>HDI</th>\n",
       "      <th>Region</th>\n",
       "      <th>HDI_Rank</th>\n",
       "    </tr>\n",
       "  </thead>\n",
       "  <tbody>\n",
       "    <tr>\n",
       "      <th>108</th>\n",
       "      <td>Monaco</td>\n",
       "      <td>NaN</td>\n",
       "      <td>NaN</td>\n",
       "      <td>NaN</td>\n",
       "      <td>NaN</td>\n",
       "    </tr>\n",
       "    <tr>\n",
       "      <th>132</th>\n",
       "      <td>Nauru</td>\n",
       "      <td>NaN</td>\n",
       "      <td>NaN</td>\n",
       "      <td>EAP</td>\n",
       "      <td>NaN</td>\n",
       "    </tr>\n",
       "    <tr>\n",
       "      <th>142</th>\n",
       "      <td>Korea (Democratic People's Rep. of)</td>\n",
       "      <td>NaN</td>\n",
       "      <td>NaN</td>\n",
       "      <td>EAP</td>\n",
       "      <td>NaN</td>\n",
       "    </tr>\n",
       "    <tr>\n",
       "      <th>158</th>\n",
       "      <td>Somalia</td>\n",
       "      <td>NaN</td>\n",
       "      <td>NaN</td>\n",
       "      <td>AS</td>\n",
       "      <td>NaN</td>\n",
       "    </tr>\n",
       "  </tbody>\n",
       "</table>\n",
       "</div>"
      ],
      "text/plain": [
       "                                 Country HDI Group  HDI Region  HDI_Rank\n",
       "108                               Monaco       NaN  NaN    NaN       NaN\n",
       "132                                Nauru       NaN  NaN    EAP       NaN\n",
       "142  Korea (Democratic People's Rep. of)       NaN  NaN    EAP       NaN\n",
       "158                              Somalia       NaN  NaN     AS       NaN"
      ]
     },
     "execution_count": 7,
     "metadata": {},
     "output_type": "execute_result"
    }
   ],
   "source": [
    "# Looking at missing HDI values\n",
    "hdi_df[hdi_df['HDI'].isnull()]"
   ]
  },
  {
   "cell_type": "code",
   "execution_count": 27,
   "metadata": {},
   "outputs": [],
   "source": [
    "# Looking at the missing HDI Group values\n",
    "\n",
    "# hdi_df[hdi_df['HDI Group'].isnull()]"
   ]
  },
  {
   "cell_type": "code",
   "execution_count": 9,
   "metadata": {},
   "outputs": [
    {
     "data": {
      "text/plain": [
       "Region\n",
       "SSA    46\n",
       "LAC    33\n",
       "EAP    26\n",
       "AS     20\n",
       "ECA    17\n",
       "SA      9\n",
       "Name: count, dtype: int64"
      ]
     },
     "execution_count": 9,
     "metadata": {},
     "output_type": "execute_result"
    }
   ],
   "source": [
    "# Getting the regions (abbreviations)\n",
    "hdi_df['Region'].value_counts()  "
   ]
  },
  {
   "cell_type": "markdown",
   "metadata": {},
   "source": [
    "As we can see we have 4 countries with missing HDI scores. These will have to be dropped as there would be no way to fill in the data for these cells (one could try to look for other datasets). We can also observe that there are summaries of the HDI scores by region. We save these in a separate dataframe so that we can have the data on the countries in one dataframe and the data about the regions in a separate one."
   ]
  },
  {
   "cell_type": "code",
   "execution_count": 10,
   "metadata": {},
   "outputs": [
    {
     "data": {
      "text/html": [
       "<div>\n",
       "<style scoped>\n",
       "    .dataframe tbody tr th:only-of-type {\n",
       "        vertical-align: middle;\n",
       "    }\n",
       "\n",
       "    .dataframe tbody tr th {\n",
       "        vertical-align: top;\n",
       "    }\n",
       "\n",
       "    .dataframe thead th {\n",
       "        text-align: right;\n",
       "    }\n",
       "</style>\n",
       "<table border=\"1\" class=\"dataframe\">\n",
       "  <thead>\n",
       "    <tr style=\"text-align: right;\">\n",
       "      <th></th>\n",
       "      <th>Country</th>\n",
       "      <th>HDI Group</th>\n",
       "      <th>HDI</th>\n",
       "      <th>Region</th>\n",
       "      <th>HDI_Rank</th>\n",
       "    </tr>\n",
       "  </thead>\n",
       "  <tbody>\n",
       "    <tr>\n",
       "      <th>195</th>\n",
       "      <td>Very high human development</td>\n",
       "      <td>NaN</td>\n",
       "      <td>0.896</td>\n",
       "      <td>NaN</td>\n",
       "      <td>NaN</td>\n",
       "    </tr>\n",
       "    <tr>\n",
       "      <th>196</th>\n",
       "      <td>High human development</td>\n",
       "      <td>NaN</td>\n",
       "      <td>0.754</td>\n",
       "      <td>NaN</td>\n",
       "      <td>NaN</td>\n",
       "    </tr>\n",
       "    <tr>\n",
       "      <th>197</th>\n",
       "      <td>Medium human development</td>\n",
       "      <td>NaN</td>\n",
       "      <td>0.636</td>\n",
       "      <td>NaN</td>\n",
       "      <td>NaN</td>\n",
       "    </tr>\n",
       "    <tr>\n",
       "      <th>198</th>\n",
       "      <td>Low human development</td>\n",
       "      <td>NaN</td>\n",
       "      <td>0.518</td>\n",
       "      <td>NaN</td>\n",
       "      <td>NaN</td>\n",
       "    </tr>\n",
       "    <tr>\n",
       "      <th>199</th>\n",
       "      <td>Arab States</td>\n",
       "      <td>NaN</td>\n",
       "      <td>0.708</td>\n",
       "      <td>NaN</td>\n",
       "      <td>NaN</td>\n",
       "    </tr>\n",
       "    <tr>\n",
       "      <th>200</th>\n",
       "      <td>East Asia and the Pacific</td>\n",
       "      <td>NaN</td>\n",
       "      <td>0.749</td>\n",
       "      <td>NaN</td>\n",
       "      <td>NaN</td>\n",
       "    </tr>\n",
       "    <tr>\n",
       "      <th>201</th>\n",
       "      <td>Europe and Central Asia</td>\n",
       "      <td>NaN</td>\n",
       "      <td>0.796</td>\n",
       "      <td>NaN</td>\n",
       "      <td>NaN</td>\n",
       "    </tr>\n",
       "    <tr>\n",
       "      <th>202</th>\n",
       "      <td>Latin America and the Caribbean</td>\n",
       "      <td>NaN</td>\n",
       "      <td>0.754</td>\n",
       "      <td>NaN</td>\n",
       "      <td>NaN</td>\n",
       "    </tr>\n",
       "    <tr>\n",
       "      <th>203</th>\n",
       "      <td>South Asia</td>\n",
       "      <td>NaN</td>\n",
       "      <td>0.632</td>\n",
       "      <td>NaN</td>\n",
       "      <td>NaN</td>\n",
       "    </tr>\n",
       "    <tr>\n",
       "      <th>204</th>\n",
       "      <td>Sub-Saharan Africa</td>\n",
       "      <td>NaN</td>\n",
       "      <td>0.547</td>\n",
       "      <td>NaN</td>\n",
       "      <td>NaN</td>\n",
       "    </tr>\n",
       "    <tr>\n",
       "      <th>205</th>\n",
       "      <td>World</td>\n",
       "      <td>NaN</td>\n",
       "      <td>0.732</td>\n",
       "      <td>NaN</td>\n",
       "      <td>NaN</td>\n",
       "    </tr>\n",
       "  </tbody>\n",
       "</table>\n",
       "</div>"
      ],
      "text/plain": [
       "                             Country HDI Group    HDI Region  HDI_Rank\n",
       "195      Very high human development       NaN  0.896    NaN       NaN\n",
       "196           High human development       NaN  0.754    NaN       NaN\n",
       "197         Medium human development       NaN  0.636    NaN       NaN\n",
       "198            Low human development       NaN  0.518    NaN       NaN\n",
       "199                      Arab States       NaN  0.708    NaN       NaN\n",
       "200        East Asia and the Pacific       NaN  0.749    NaN       NaN\n",
       "201          Europe and Central Asia       NaN  0.796    NaN       NaN\n",
       "202  Latin America and the Caribbean       NaN  0.754    NaN       NaN\n",
       "203                       South Asia       NaN  0.632    NaN       NaN\n",
       "204               Sub-Saharan Africa       NaN  0.547    NaN       NaN\n",
       "205                            World       NaN  0.732    NaN       NaN"
      ]
     },
     "execution_count": 10,
     "metadata": {},
     "output_type": "execute_result"
    }
   ],
   "source": [
    "hdi_df_regions = hdi_df.tail(11)\n",
    "hdi_df_regions"
   ]
  },
  {
   "cell_type": "code",
   "execution_count": 11,
   "metadata": {},
   "outputs": [
    {
     "data": {
      "text/html": [
       "<div>\n",
       "<style scoped>\n",
       "    .dataframe tbody tr th:only-of-type {\n",
       "        vertical-align: middle;\n",
       "    }\n",
       "\n",
       "    .dataframe tbody tr th {\n",
       "        vertical-align: top;\n",
       "    }\n",
       "\n",
       "    .dataframe thead th {\n",
       "        text-align: right;\n",
       "    }\n",
       "</style>\n",
       "<table border=\"1\" class=\"dataframe\">\n",
       "  <thead>\n",
       "    <tr style=\"text-align: right;\">\n",
       "      <th></th>\n",
       "      <th>Country</th>\n",
       "      <th>HDI Group</th>\n",
       "      <th>HDI</th>\n",
       "      <th>Region</th>\n",
       "      <th>HDI_Rank</th>\n",
       "    </tr>\n",
       "  </thead>\n",
       "  <tbody>\n",
       "    <tr>\n",
       "      <th>190</th>\n",
       "      <td>Samoa</td>\n",
       "      <td>High</td>\n",
       "      <td>0.707</td>\n",
       "      <td>EAP</td>\n",
       "      <td>111.0</td>\n",
       "    </tr>\n",
       "    <tr>\n",
       "      <th>191</th>\n",
       "      <td>Yemen</td>\n",
       "      <td>Low</td>\n",
       "      <td>0.455</td>\n",
       "      <td>AS</td>\n",
       "      <td>183.0</td>\n",
       "    </tr>\n",
       "    <tr>\n",
       "      <th>192</th>\n",
       "      <td>South Africa</td>\n",
       "      <td>High</td>\n",
       "      <td>0.713</td>\n",
       "      <td>SSA</td>\n",
       "      <td>109.0</td>\n",
       "    </tr>\n",
       "    <tr>\n",
       "      <th>193</th>\n",
       "      <td>Zambia</td>\n",
       "      <td>Medium</td>\n",
       "      <td>0.565</td>\n",
       "      <td>SSA</td>\n",
       "      <td>154.0</td>\n",
       "    </tr>\n",
       "    <tr>\n",
       "      <th>194</th>\n",
       "      <td>Zimbabwe</td>\n",
       "      <td>Medium</td>\n",
       "      <td>0.593</td>\n",
       "      <td>SSA</td>\n",
       "      <td>146.0</td>\n",
       "    </tr>\n",
       "  </tbody>\n",
       "</table>\n",
       "</div>"
      ],
      "text/plain": [
       "          Country HDI Group    HDI Region  HDI_Rank\n",
       "190         Samoa      High  0.707    EAP     111.0\n",
       "191         Yemen       Low  0.455     AS     183.0\n",
       "192  South Africa      High  0.713    SSA     109.0\n",
       "193        Zambia    Medium  0.565    SSA     154.0\n",
       "194      Zimbabwe    Medium  0.593    SSA     146.0"
      ]
     },
     "execution_count": 11,
     "metadata": {},
     "output_type": "execute_result"
    }
   ],
   "source": [
    "hdi_df = hdi_df.drop(hdi_df.tail(11).index)\n",
    "hdi_df.tail()"
   ]
  },
  {
   "cell_type": "code",
   "execution_count": 12,
   "metadata": {},
   "outputs": [
    {
     "name": "stdout",
     "output_type": "stream",
     "text": [
      "<class 'pandas.core.frame.DataFrame'>\n",
      "RangeIndex: 195 entries, 0 to 194\n",
      "Data columns (total 5 columns):\n",
      " #   Column     Non-Null Count  Dtype  \n",
      "---  ------     --------------  -----  \n",
      " 0   Country    195 non-null    object \n",
      " 1   HDI Group  191 non-null    object \n",
      " 2   HDI        191 non-null    float64\n",
      " 3   Region     151 non-null    object \n",
      " 4   HDI_Rank   191 non-null    float64\n",
      "dtypes: float64(2), object(3)\n",
      "memory usage: 7.7+ KB\n"
     ]
    }
   ],
   "source": [
    "# Lets drop the countries with NaN HDI values\n",
    "hdi_df['HDI'].dropna(inplace=True)\n",
    "hdi_df.info()"
   ]
  },
  {
   "cell_type": "code",
   "execution_count": 13,
   "metadata": {},
   "outputs": [],
   "source": [
    "# Lets set the countries as the index\n",
    "hdi_df.set_index('Country', inplace=True)"
   ]
  },
  {
   "cell_type": "markdown",
   "metadata": {},
   "source": [
    "We won't drop the rows with null values in the 'Region' row as we can still use the HDI-value of these countries for non-regional analysis."
   ]
  },
  {
   "cell_type": "markdown",
   "metadata": {},
   "source": [
    "## IQ"
   ]
  },
  {
   "cell_type": "code",
   "execution_count": 14,
   "metadata": {},
   "outputs": [
    {
     "data": {
      "text/html": [
       "<div>\n",
       "<style scoped>\n",
       "    .dataframe tbody tr th:only-of-type {\n",
       "        vertical-align: middle;\n",
       "    }\n",
       "\n",
       "    .dataframe tbody tr th {\n",
       "        vertical-align: top;\n",
       "    }\n",
       "\n",
       "    .dataframe thead th {\n",
       "        text-align: right;\n",
       "    }\n",
       "</style>\n",
       "<table border=\"1\" class=\"dataframe\">\n",
       "  <thead>\n",
       "    <tr style=\"text-align: right;\">\n",
       "      <th></th>\n",
       "      <th>Rank</th>\n",
       "      <th>Country</th>\n",
       "      <th>Measured IQ</th>\n",
       "      <th>IQ data quality</th>\n",
       "      <th>SchAch</th>\n",
       "      <th>SA direct</th>\n",
       "      <th>SA scaled</th>\n",
       "      <th>SA data quality</th>\n",
       "      <th>Final IQ</th>\n",
       "      <th>Final IQ.1</th>\n",
       "    </tr>\n",
       "  </thead>\n",
       "  <tbody>\n",
       "    <tr>\n",
       "      <th>182</th>\n",
       "      <td>NaN</td>\n",
       "      <td>Comoros</td>\n",
       "      <td>NaN</td>\n",
       "      <td>NaN</td>\n",
       "      <td>NaN</td>\n",
       "      <td>NaN</td>\n",
       "      <td>NaN</td>\n",
       "      <td>NaN</td>\n",
       "      <td>(77)</td>\n",
       "      <td>77.0</td>\n",
       "    </tr>\n",
       "    <tr>\n",
       "      <th>193</th>\n",
       "      <td>NaN</td>\n",
       "      <td>Benin</td>\n",
       "      <td>NaN</td>\n",
       "      <td>NaN</td>\n",
       "      <td>NaN</td>\n",
       "      <td>NaN</td>\n",
       "      <td>NaN</td>\n",
       "      <td>NaN</td>\n",
       "      <td>(71)</td>\n",
       "      <td>71.0</td>\n",
       "    </tr>\n",
       "    <tr>\n",
       "      <th>98</th>\n",
       "      <td>99.5</td>\n",
       "      <td>Algeria</td>\n",
       "      <td>NaN</td>\n",
       "      <td>NaN</td>\n",
       "      <td>403.6</td>\n",
       "      <td>81.5</td>\n",
       "      <td>84.2</td>\n",
       "      <td>2.0</td>\n",
       "      <td>84.2</td>\n",
       "      <td>84.2</td>\n",
       "    </tr>\n",
       "  </tbody>\n",
       "</table>\n",
       "</div>"
      ],
      "text/plain": [
       "     Rank  Country  Measured IQ  IQ data quality   SchAch  SA direct  \\\n",
       "182   NaN  Comoros          NaN              NaN      NaN        NaN   \n",
       "193   NaN    Benin          NaN              NaN      NaN        NaN   \n",
       "98   99.5  Algeria          NaN              NaN    403.6       81.5   \n",
       "\n",
       "     SA scaled  SA data quality  Final IQ   Final IQ.1  \n",
       "182        NaN              NaN      (77)         77.0  \n",
       "193        NaN              NaN      (71)         71.0  \n",
       "98        84.2              2.0      84.2         84.2  "
      ]
     },
     "execution_count": 14,
     "metadata": {},
     "output_type": "execute_result"
    }
   ],
   "source": [
    "iq_df = pd.read_csv('data/National_IQ.csv')\n",
    "iq_df.sample(3)"
   ]
  },
  {
   "cell_type": "code",
   "execution_count": 15,
   "metadata": {},
   "outputs": [
    {
     "name": "stdout",
     "output_type": "stream",
     "text": [
      "<class 'pandas.core.frame.DataFrame'>\n",
      "RangeIndex: 204 entries, 0 to 203\n",
      "Data columns (total 10 columns):\n",
      " #   Column           Non-Null Count  Dtype  \n",
      "---  ------           --------------  -----  \n",
      " 0   Rank             162 non-null    float64\n",
      " 1   Country          204 non-null    object \n",
      " 2   Measured IQ      136 non-null    float64\n",
      " 3   IQ data quality  137 non-null    float64\n",
      " 4    SchAch          113 non-null    float64\n",
      " 5   SA direct        111 non-null    float64\n",
      " 6   SA scaled        112 non-null    float64\n",
      " 7   SA data quality  112 non-null    float64\n",
      " 8    Final IQ        204 non-null    object \n",
      " 9    Final IQ.1      204 non-null    float64\n",
      "dtypes: float64(8), object(2)\n",
      "memory usage: 16.1+ KB\n"
     ]
    }
   ],
   "source": [
    "iq_df.info()\n"
   ]
  },
  {
   "cell_type": "markdown",
   "metadata": {},
   "source": [
    "The values which we are intersted in are ones which are easily interpretable, and relevant to the research question, which aim it is to compare the HDI scores with the IQ scores. To do this, the IQ, the Rank of the country and the country itself ought to be included. "
   ]
  },
  {
   "cell_type": "code",
   "execution_count": 16,
   "metadata": {},
   "outputs": [
    {
     "data": {
      "text/plain": [
       "Index(['Rank', 'Country', 'Measured IQ', 'IQ data quality', ' SchAch',\n",
       "       'SA direct', 'SA scaled', 'SA data quality', ' Final IQ',\n",
       "       ' Final IQ.1'],\n",
       "      dtype='object')"
      ]
     },
     "execution_count": 16,
     "metadata": {},
     "output_type": "execute_result"
    }
   ],
   "source": [
    "iq_df.columns"
   ]
  },
  {
   "cell_type": "code",
   "execution_count": null,
   "metadata": {},
   "outputs": [],
   "source": []
  },
  {
   "cell_type": "code",
   "execution_count": 17,
   "metadata": {},
   "outputs": [],
   "source": [
    "columns_of_interest = ['Rank','Country', ' Final IQ']\n",
    "iq_df = iq_df[columns_of_interest]\n"
   ]
  },
  {
   "cell_type": "code",
   "execution_count": 18,
   "metadata": {},
   "outputs": [],
   "source": [
    "iq_df = iq_df.rename(columns=\n",
    "{' Final IQ': 'IQ',\n",
    "'Rank': 'IQ_Rank'\n",
    "})"
   ]
  },
  {
   "cell_type": "markdown",
   "metadata": {},
   "source": [
    "Since we are searching for potential biases and other correlations between the variables it is crucial that all the IQ values used will be the actual reported ones. Because of this, along with the same methodlogy being applied for the HDI dataset, we have to drop the NaN values rows of the IQ column. "
   ]
  },
  {
   "cell_type": "code",
   "execution_count": 19,
   "metadata": {},
   "outputs": [],
   "source": [
    "iq_df['IQ'].dropna(inplace=True)"
   ]
  },
  {
   "cell_type": "code",
   "execution_count": 20,
   "metadata": {},
   "outputs": [],
   "source": [
    "iq_df.set_index('Country',inplace=True)"
   ]
  },
  {
   "cell_type": "code",
   "execution_count": 21,
   "metadata": {},
   "outputs": [
    {
     "data": {
      "text/html": [
       "<div>\n",
       "<style scoped>\n",
       "    .dataframe tbody tr th:only-of-type {\n",
       "        vertical-align: middle;\n",
       "    }\n",
       "\n",
       "    .dataframe tbody tr th {\n",
       "        vertical-align: top;\n",
       "    }\n",
       "\n",
       "    .dataframe thead th {\n",
       "        text-align: right;\n",
       "    }\n",
       "</style>\n",
       "<table border=\"1\" class=\"dataframe\">\n",
       "  <thead>\n",
       "    <tr style=\"text-align: right;\">\n",
       "      <th></th>\n",
       "      <th>IQ_Rank</th>\n",
       "      <th>IQ</th>\n",
       "    </tr>\n",
       "    <tr>\n",
       "      <th>Country</th>\n",
       "      <th></th>\n",
       "      <th></th>\n",
       "    </tr>\n",
       "  </thead>\n",
       "  <tbody>\n",
       "    <tr>\n",
       "      <th>Singapore</th>\n",
       "      <td>1.0</td>\n",
       "      <td>107.1</td>\n",
       "    </tr>\n",
       "    <tr>\n",
       "      <th>China</th>\n",
       "      <td>2.0</td>\n",
       "      <td>105.8</td>\n",
       "    </tr>\n",
       "    <tr>\n",
       "      <th>Hong Kong</th>\n",
       "      <td>3.0</td>\n",
       "      <td>105.7</td>\n",
       "    </tr>\n",
       "    <tr>\n",
       "      <th>Korea: South</th>\n",
       "      <td>4.5</td>\n",
       "      <td>104.6</td>\n",
       "    </tr>\n",
       "    <tr>\n",
       "      <th>Taiwan</th>\n",
       "      <td>4.5</td>\n",
       "      <td>104.6</td>\n",
       "    </tr>\n",
       "    <tr>\n",
       "      <th>...</th>\n",
       "      <td>...</td>\n",
       "      <td>...</td>\n",
       "    </tr>\n",
       "    <tr>\n",
       "      <th>GuineaBissau</th>\n",
       "      <td>NaN</td>\n",
       "      <td>(69)</td>\n",
       "    </tr>\n",
       "    <tr>\n",
       "      <th>Liberia</th>\n",
       "      <td>NaN</td>\n",
       "      <td>(68)</td>\n",
       "    </tr>\n",
       "    <tr>\n",
       "      <th>Haiti</th>\n",
       "      <td>NaN</td>\n",
       "      <td>(67)</td>\n",
       "    </tr>\n",
       "    <tr>\n",
       "      <th>Sao Tome &amp; Principe</th>\n",
       "      <td>NaN</td>\n",
       "      <td>(67)</td>\n",
       "    </tr>\n",
       "    <tr>\n",
       "      <th>Chad</th>\n",
       "      <td>NaN</td>\n",
       "      <td>(66)</td>\n",
       "    </tr>\n",
       "  </tbody>\n",
       "</table>\n",
       "<p>204 rows × 2 columns</p>\n",
       "</div>"
      ],
      "text/plain": [
       "                     IQ_Rank     IQ\n",
       "Country                            \n",
       "Singapore                1.0  107.1\n",
       "China                    2.0  105.8\n",
       "Hong Kong                3.0  105.7\n",
       "Korea: South             4.5  104.6\n",
       "Taiwan                   4.5  104.6\n",
       "...                      ...    ...\n",
       "GuineaBissau             NaN   (69)\n",
       "Liberia                  NaN   (68)\n",
       "Haiti                    NaN   (67)\n",
       "Sao Tome & Principe      NaN   (67)\n",
       "Chad                     NaN   (66)\n",
       "\n",
       "[204 rows x 2 columns]"
      ]
     },
     "execution_count": 21,
     "metadata": {},
     "output_type": "execute_result"
    }
   ],
   "source": [
    "iq_df"
   ]
  },
  {
   "cell_type": "markdown",
   "metadata": {},
   "source": [
    "# 1. Cleaning the Data"
   ]
  },
  {
   "cell_type": "code",
   "execution_count": null,
   "metadata": {},
   "outputs": [],
   "source": []
  },
  {
   "cell_type": "markdown",
   "metadata": {},
   "source": [
    "\n",
    "# 1. Merge Data\n"
   ]
  },
  {
   "cell_type": "code",
   "execution_count": 22,
   "metadata": {},
   "outputs": [
    {
     "name": "stdout",
     "output_type": "stream",
     "text": [
      "<class 'pandas.core.frame.DataFrame'>\n",
      "Index: 248 entries, Afghanistan to Sao Tome & Principe\n",
      "Data columns (total 6 columns):\n",
      " #   Column     Non-Null Count  Dtype  \n",
      "---  ------     --------------  -----  \n",
      " 0   HDI Group  191 non-null    object \n",
      " 1   HDI        191 non-null    float64\n",
      " 2   Region     151 non-null    object \n",
      " 3   HDI_Rank   191 non-null    float64\n",
      " 4   IQ_Rank    162 non-null    float64\n",
      " 5   IQ         204 non-null    object \n",
      "dtypes: float64(3), object(3)\n",
      "memory usage: 13.6+ KB\n"
     ]
    }
   ],
   "source": [
    "outer_join_df = hdi_df.merge(iq_df, how='outer',on='Country')\n",
    "outer_join_df.info()"
   ]
  },
  {
   "cell_type": "code",
   "execution_count": 23,
   "metadata": {},
   "outputs": [
    {
     "name": "stdout",
     "output_type": "stream",
     "text": [
      "In IQ but missing in HDI: \n",
      " ['(Serbia &) Montenegro', 'Antigua/Barbuda', 'Bermuda', 'Bolivia', 'Bosnia', 'Brunei', 'Cape Verde', 'Central African Rep.', 'Congo (Brazzaville)', 'Congo (Zaire)', 'Cook Islands', 'CostaRica', \"Cote d'Ivoire\", 'CzechRep.', 'EastTimor', 'England', 'Greenland', 'GuineaBissau', 'Hong Kong', 'Iran', \"Korea (Democratic People's Rep. of)\", 'Korea: North', 'Korea: South', 'Laos', 'Macao', 'Macedonia', 'Mariana Islands', 'Micronesia', 'Moldova', 'Monaco', 'Myanmar/Burma', 'Nauru', 'Netherlands Antilles', 'New Caledonia', 'Palestine', 'Papua N.G.', 'Puerto Rico', 'Russia', 'Samoa (Western)', 'Sao Tome & Principe', 'Scotland', 'Serbia & (Montenegro)', 'Somalia', 'St  Helena', 'St Kitts & Nevis', 'St Lucia', 'St Vincent', 'Swaziland', 'Syria', 'Taiwan', 'Tanzania', 'Tibet', 'Trinidad & Tobago', 'USA', 'Venezuela', 'Vietnam', 'Zanzibar']\n",
      "In HDI but missing in IQ: \n",
      " ['Antigua and Barbuda', 'Bolivia (Plurinational State of)', 'Bosnia and Herzegovina', 'Brunei Darussalam', 'Cabo Verde', 'Central African Republic', 'Congo', 'Congo (Democratic Republic of the)', 'Costa Rica', 'Czechia', \"Côte d'Ivoire\", 'Eswatini (Kingdom of)', 'Guinea-Bissau', 'Hong Kong, China (SAR)', 'Iran (Islamic Republic of)', \"Korea (Democratic People's Rep. of)\", 'Korea (Republic of)', \"Lao People's Democratic Republic\", 'Micronesia (Federated States of)', 'Moldova (Republic of)', 'Monaco', 'Myanmar', 'Nauru', 'North Macedonia', 'Palau', 'Palestine, State of', 'Papua New Guinea', 'Russian Federation', 'Saint Kitts and Nevis', 'Saint Lucia', 'Saint Vincent and the Grenadines', 'Samoa', 'San Marino', 'Sao Tome and Principe', 'Serbia', 'South Sudan', 'Syrian Arab Republic', 'Tanzania (United Republic of)', 'Timor-Leste', 'Trinidad and Tobago', 'Tuvalu', 'United States', 'Venezuela (Bolivarian Republic of)', 'Viet Nam']\n"
     ]
    }
   ],
   "source": [
    "missing_in_hdi = outer_join_df[outer_join_df['HDI'].isnull()].index\n",
    "missing_in_hdi = sorted(missing_in_hdi.tolist())\n",
    "print(\"In IQ but missing in HDI: \\n\", missing_in_hdi)\n",
    "\n",
    "missing_in_IQ = outer_join_df[outer_join_df['IQ'].isnull()].index\n",
    "missing_in_IQ = sorted(missing_in_IQ.tolist())\n",
    "print('In HDI but missing in IQ: \\n', missing_in_IQ)\n",
    "#A few countries on the list seem to have data for both data sets, but are named differently, which makes for the large amount of values (252)\n",
    "iq_renaming = {\n",
    "'(Serbia &) Montenegro' : 'Montenegro',\n",
    "'Central African Rep.' : 'Central African Republic',\n",
    "'CostaRica' : 'Costa Rica',\n",
    "'GuineaBissau' : 'Guinea-Bissau',\n",
    "'Myanmar/Burma' : 'Myanmar',\n",
    "'Papua N.G.' : 'Papua New Guinea',\n",
    "'CzechRep.' : 'Czechia',\n",
    "'Macedonia' : 'North Macedonia'\n",
    "}\n",
    "hdi_renaming = {\n",
    "    'Bolivia (Plurinational State of)' : 'Bolivia',\n",
    "    'Bosnia and Herzegovina': 'Bosnia',\n",
    "    'Brunei Darussalam' : 'Brunei',\n",
    "    'Cabo Verde': 'Cape Verde',\n",
    "    'Congo' : 'Congo (Brazzaville)',\n",
    "    'Congo (Democratic Republic of the)' : 'Congo (Zaire)',\n",
    "    'Hong Kong, China (SAR)' : 'Hong Kong',\n",
    "    'Iran (Islamic Republic of)' : 'Iran', \n",
    "    \"Lao People's Democratic Republic\" : 'Laos',\n",
    "    'Moldova (Republic of)' : 'Moldova',\n",
    "    'Palestine, State of' : 'Palestine',\n",
    "    'Russian Federation': 'Russia',\n",
    "    \"Côte d'Ivoire\": \"Cote d'Ivoire\",\n",
    "\n",
    "}\n",
    "iq_df = iq_df.rename(index = iq_renaming)\n",
    "hdi_df = hdi_df.rename(index = hdi_renaming)\n"
   ]
  },
  {
   "cell_type": "code",
   "execution_count": 24,
   "metadata": {},
   "outputs": [
    {
     "name": "stdout",
     "output_type": "stream",
     "text": [
      "In IQ but missing in HDI: \n",
      " ['Antigua/Barbuda', 'Bermuda', 'Cook Islands', 'EastTimor', 'England', 'Greenland', \"Korea (Democratic People's Rep. of)\", 'Korea: North', 'Korea: South', 'Macao', 'Mariana Islands', 'Micronesia', 'Monaco', 'Nauru', 'Netherlands Antilles', 'New Caledonia', 'Puerto Rico', 'Samoa (Western)', 'Sao Tome & Principe', 'Scotland', 'Serbia & (Montenegro)', 'Somalia', 'St  Helena', 'St Kitts & Nevis', 'St Lucia', 'St Vincent', 'Swaziland', 'Syria', 'Taiwan', 'Tanzania', 'Tibet', 'Trinidad & Tobago', 'USA', 'Venezuela', 'Vietnam', 'Zanzibar']\n",
      "In HDI but missing in IQ: \n",
      " ['Antigua and Barbuda', 'Eswatini (Kingdom of)', \"Korea (Democratic People's Rep. of)\", 'Korea (Republic of)', 'Micronesia (Federated States of)', 'Monaco', 'Nauru', 'Palau', 'Saint Kitts and Nevis', 'Saint Lucia', 'Saint Vincent and the Grenadines', 'Samoa', 'San Marino', 'Sao Tome and Principe', 'Serbia', 'South Sudan', 'Syrian Arab Republic', 'Tanzania (United Republic of)', 'Timor-Leste', 'Trinidad and Tobago', 'Tuvalu', 'United States', 'Venezuela (Bolivarian Republic of)', 'Viet Nam']\n"
     ]
    }
   ],
   "source": [
    "\n",
    "outer_join_df = hdi_df.merge(iq_df, how='outer',on='Country')\n",
    "missing_in_hdi = outer_join_df[outer_join_df['HDI'].isnull()].index\n",
    "missing_in_hdi = sorted(missing_in_hdi.tolist())\n",
    "print(\"In IQ but missing in HDI: \\n\", missing_in_hdi)\n",
    "\n",
    "missing_in_IQ = outer_join_df[outer_join_df['IQ'].isnull()].index\n",
    "missing_in_IQ = sorted(missing_in_IQ.tolist())\n",
    "print('In HDI but missing in IQ: \\n', missing_in_IQ)"
   ]
  },
  {
   "cell_type": "code",
   "execution_count": 32,
   "metadata": {},
   "outputs": [],
   "source": [
    "merged_df = outer_join_df.copy()"
   ]
  },
  {
   "cell_type": "code",
   "execution_count": 33,
   "metadata": {},
   "outputs": [
    {
     "name": "stdout",
     "output_type": "stream",
     "text": [
      "Index(['Antigua and Barbuda', 'Micronesia (Federated States of)',\n",
      "       'Saint Kitts and Nevis', 'Korea (Republic of)', 'Saint Lucia', 'Monaco',\n",
      "       'Nauru', 'Palau', 'Korea (Democratic People's Rep. of)', 'San Marino',\n",
      "       'Serbia', 'South Sudan', 'Sao Tome and Principe',\n",
      "       'Eswatini (Kingdom of)', 'Syrian Arab Republic', 'Timor-Leste',\n",
      "       'Trinidad and Tobago', 'Tuvalu', 'Tanzania (United Republic of)',\n",
      "       'United States', 'Saint Vincent and the Grenadines',\n",
      "       'Venezuela (Bolivarian Republic of)', 'Viet Nam', 'Samoa'],\n",
      "      dtype='object', name='Country')\n"
     ]
    }
   ],
   "source": [
    "# Countries with NO IQ values\n",
    "nan_indices = merged_df[merged_df['IQ'].isnull()].index\n",
    "print(nan_indices)\n"
   ]
  },
  {
   "cell_type": "markdown",
   "metadata": {},
   "source": [
    "# 2. INTRODUCTION\n",
    "\n",
    "*In the introduction, provide the description of the problem addressed (the context of your data) and the project objectives.\n",
    "Very briefly describe the analysis design and how it accomplishes the stated objectives. \n",
    "State your research hypotheses in a human-understandable language.\n",
    "What  can the results be used for?*"
   ]
  },
  {
   "cell_type": "markdown",
   "metadata": {},
   "source": [
    "**Data**  \n",
    "The Data includes all countries (indices) and their global rank as well as value of their Human Development Index and Average IQ from the year 2021. The Data was merged from two distrinct databases, first the HDI data was sourced from the United Nations Development Program, short UNDP, public databases, the second IQ Data __ INSERT SOURCE __.\n",
    "\n",
    "**Problem**\n",
    "This projects aims to invetigate the correlation of IQ and HDI in different countries and regions of the world.\n",
    "\n",
    "**Hypotheses**\n",
    "Average Country IQ and Human Dvelopment Index are positively correlated.\n",
    "Data is mainly missing in third world countries and less developed regions.\n",
    "\n",
    "**Analysis Design**\n",
    "The Design is to first merge the two sources into one comprehensive Pandas Dataframe. After furter preperation and cleaning of the Data, we plan to do deailed univariate analysis\n",
    "such as ...\n",
    "....\n",
    "followed by bivariate analysis from\n",
    "...\n",
    "\n",
    "**What the results can be used for**\n",
    "The result can be used by legislators to asses their countries position, in perspective of wheter they are under or overperforming in terms of IQ. This means that if a cuntries IQ is lower than to other countries with similar HDI, they should aim to set goals in terms of education, mental fitness, etc. to improve their AVG Iq in the long run."
   ]
  },
  {
   "cell_type": "markdown",
   "metadata": {},
   "source": [
    "# 3. DATA CLEANING AND PREPARATION\n",
    "\n",
    "What did you need to do to clean and prepare your dataset?\n",
    "Missing values, duplicates, inconsistent data types…\n"
   ]
  },
  {
   "cell_type": "code",
   "execution_count": null,
   "metadata": {},
   "outputs": [],
   "source": []
  },
  {
   "cell_type": "markdown",
   "metadata": {},
   "source": [
    "# 4.  DESCRIPTIVE STATISTICS\n",
    "\n",
    "## 4.1  Univariate analysis\n",
    "Histogram and metrics introduced in class. Outliers identification. Interpret and discuss your results.\n",
    "\n",
    "## 4.2  Bivariate analysis\n",
    "Scatter plots and correlation for pairs of variables of interest. Interpret and discuss your results.\n"
   ]
  },
  {
   "cell_type": "code",
   "execution_count": null,
   "metadata": {},
   "outputs": [],
   "source": []
  },
  {
   "cell_type": "markdown",
   "metadata": {},
   "source": [
    "\n",
    "# 5.  DISCUSSION AND PRELIMINARY CONCLUSIONS \n",
    "\n",
    "Discuss the initial insights and how they align with the objectives set in the Introduction. Briefly address any limitations or challenges encountered in the data or analysis. Reflect on the implications of these findings and how they might guide future research directions or applications\n"
   ]
  }
 ],
 "metadata": {
  "kernelspec": {
   "display_name": "base",
   "language": "python",
   "name": "python3"
  },
  "language_info": {
   "codemirror_mode": {
    "name": "ipython",
    "version": 3
   },
   "file_extension": ".py",
   "mimetype": "text/x-python",
   "name": "python",
   "nbconvert_exporter": "python",
   "pygments_lexer": "ipython3",
   "version": "3.11.5"
  }
 },
 "nbformat": 4,
 "nbformat_minor": 2
}
